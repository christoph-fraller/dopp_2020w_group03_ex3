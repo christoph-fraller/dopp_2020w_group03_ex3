{
  "nbformat": 4,
  "nbformat_minor": 0,
  "metadata": {
    "colab": {
      "name": "dopp_2020w_group03_ex3_with_git.ipynb",
      "provenance": [],
      "collapsed_sections": [],
      "include_colab_link": true
    },
    "kernelspec": {
      "name": "python3",
      "display_name": "Python 3"
    }
  },
  "cells": [
    {
      "cell_type": "markdown",
      "metadata": {
        "id": "view-in-github",
        "colab_type": "text"
      },
      "source": [
        "<a href=\"https://colab.research.google.com/github/christoph-fraller/dopp_2020w_group03_ex3/blob/main/dopp_2020w_group03_ex3_with_git.ipynb\" target=\"_parent\"><img src=\"https://colab.research.google.com/assets/colab-badge.svg\" alt=\"Open In Colab\"/></a>"
      ]
    },
    {
      "cell_type": "markdown",
      "metadata": {
        "id": "_n-eLlFeXXOH"
      },
      "source": [
        "# Generate SSH-Keys for Accessing Git Repository"
      ]
    },
    {
      "cell_type": "code",
      "metadata": {
        "colab": {
          "base_uri": "https://localhost:8080/"
        },
        "id": "fMNYj7F2o5Fz",
        "outputId": "8329c0b8-c8af-4d59-bf2d-e88f9caf2847"
      },
      "source": [
        "# import and mount google drive\n",
        "from google.colab import drive\n",
        "drive.mount('/content/drive')"
      ],
      "execution_count": 1,
      "outputs": [
        {
          "output_type": "stream",
          "text": [
            "Mounted at /content/drive\n"
          ],
          "name": "stdout"
        }
      ]
    },
    {
      "cell_type": "code",
      "metadata": {
        "colab": {
          "base_uri": "https://localhost:8080/"
        },
        "id": "v_vOiBlVR6Of",
        "outputId": "24cd9523-7fdb-4eba-8df5-a73ff4924097"
      },
      "source": [
        "# generate ssh keys (insert your username@github.com + hit enter when prompted for any answer)\r\n",
        "! ssh-keygen -t rsa -b 4096 -C 'michaelstitz@github.com'"
      ],
      "execution_count": null,
      "outputs": [
        {
          "output_type": "stream",
          "text": [
            "Generating public/private rsa key pair.\n",
            "Enter file in which to save the key (/root/.ssh/id_rsa): \n",
            "Created directory '/root/.ssh'.\n",
            "Enter passphrase (empty for no passphrase): \n",
            "Enter same passphrase again: \n",
            "Your identification has been saved in /root/.ssh/id_rsa.\n",
            "Your public key has been saved in /root/.ssh/id_rsa.pub.\n",
            "The key fingerprint is:\n",
            "SHA256://o6Tt7w9QoDHX0sEGZIX/GpE7DFeE5RCEPO7ZBOFGU michaelstitz@github.com\n",
            "The key's randomart image is:\n",
            "+---[RSA 4096]----+\n",
            "|         .oO@E*o |\n",
            "|          ==OO o.|\n",
            "|           B*oo.+|\n",
            "|          o.oooo |\n",
            "|        S ...+   |\n",
            "|         . .  .  |\n",
            "|          + o .  |\n",
            "|         o.= + . |\n",
            "|         .=== ...|\n",
            "+----[SHA256]-----+\n"
          ],
          "name": "stdout"
        }
      ]
    },
    {
      "cell_type": "code",
      "metadata": {
        "colab": {
          "base_uri": "https://localhost:8080/"
        },
        "id": "NLYpBS4KYhhf",
        "outputId": "d8be08a3-447e-4a34-8c40-dda11ca2ab50"
      },
      "source": [
        "# check whether or not the ssh keys have been created ('id_rsa' and 'id_rsa.pub' should be displayed)\r\n",
        "! ls /root/.ssh/"
      ],
      "execution_count": null,
      "outputs": [
        {
          "output_type": "stream",
          "text": [
            "id_rsa\tid_rsa.pub\n"
          ],
          "name": "stdout"
        }
      ]
    },
    {
      "cell_type": "code",
      "metadata": {
        "id": "8Rx2E_IgUraa"
      },
      "source": [
        "# create directory for saving the ssh keys\r\n",
        "! mkdir -p /content/drive/MyDrive/Ssh"
      ],
      "execution_count": null,
      "outputs": []
    },
    {
      "cell_type": "code",
      "metadata": {
        "id": "ucFTIsSEVeZ0"
      },
      "source": [
        "# copy ssh keys from /root/.ssh/* to /content/drive/MyDrive/Ssh/*\r\n",
        "! cp /root/.ssh/id_rsa /content/drive/MyDrive/Ssh/\r\n",
        "! cp /root/.ssh/id_rsa.pub /content/drive/MyDrive/Ssh/"
      ],
      "execution_count": null,
      "outputs": []
    },
    {
      "cell_type": "code",
      "metadata": {
        "colab": {
          "base_uri": "https://localhost:8080/"
        },
        "id": "ekNM8je8SefW",
        "outputId": "f1d0e3c7-1f95-4e6c-d008-afd28e854c76"
      },
      "source": [
        "# display public ssh key for copy/paste\r\n",
        "! cat /content/drive/MyDrive/Ssh/id_rsa.pub"
      ],
      "execution_count": null,
      "outputs": [
        {
          "output_type": "stream",
          "text": [
            "ssh-rsa AAAAB3NzaC1yc2EAAAADAQABAAACAQCvxImXcy+Ne9tj2JEGPtdURItEVF034U9MbtcYCBYvHscyLpUwyKamqlP1f+tpUpChLiDcA4/rTYbOtd3cFJhuisEA67vrvDzUju24C9MwrWEtTVwIqKz77th9r1oOgRvewNdBxj3ODlvYC4zv8DT/krL1UcmxC5jm42rGvfb157tWLabAEQOG4VEM91ZhumJ6zg3dFs34ZWc3GzE84M2bBWIUW7oJqH5zHq6NO+Jx8ry+BCJoXXRSHMvNRQbxFYSJkaLnKhkKzLxusL9OvW+gGmEinlZOD0wi4J6k7oDUcOAgGXx6xrXLpsGLZbzP78fH1cdUknVZOzKTHDh1qiRnUFzk2SlVR8Sbn9a2GGBezUc1U1Gsfo5AzTM7mar/mOaxvCh40kgBNxbJiifLJ3kKjy3/zcsWfSqnsef2tNrv+xETxswj6t0YW7EIvxaARvH36FEI405q5YBqqSvTqXyMRb7iIsqqUgmND9ZrFdItvhZTuNcdh5m6d4hHoehg13/slkmz0h+9cRpGvHJq96XIzypW41TkgazNIK65CoZAEGAPysEX2p0O3EwD8wRl4k04Qu6Fl+c2gvZaKRsQ38OUnYgox3Mdu5G/0WsKdOSSinym5C462D+qXI1runuO95uK8iy33wKSjJGdYhHqjeLzEWaju92Ltx7voMQSIEFhaw== yummakan@github.com"
          ],
          "name": "stdout"
        }
      ]
    },
    {
      "cell_type": "code",
      "metadata": {
        "id": "XqNlD7pxTI6I"
      },
      "source": [
        "# add github to known hosts and adapt file access permissions\r\n",
        "! ssh-keyscan github.com >> /root/.ssh/known_hosts\r\n",
        "! chmod 644 /root/.ssh/known_hosts\r\n",
        "! chmod 600 /root/.ssh/id_rsa\r\n",
        "! ssh -T git@github.com"
      ],
      "execution_count": null,
      "outputs": []
    },
    {
      "cell_type": "markdown",
      "metadata": {
        "id": "7sqVqK8YHeSS"
      },
      "source": [
        "# Git Setup"
      ]
    },
    {
      "cell_type": "code",
      "metadata": {
        "id": "m57DJRGnO5B0"
      },
      "source": [
        "# git config settings (replace with your credentials)\r\n",
        "! git config --global user.email \"michaelstitz@gmail.com\"\r\n",
        "! git config --global user.name \"michaelstitz\""
      ],
      "execution_count": null,
      "outputs": []
    },
    {
      "cell_type": "code",
      "metadata": {
        "id": "qEkuNsHeC8bF"
      },
      "source": [
        "# create directory for git repositories\r\n",
        "! mkdir -p /content/drive/MyDrive/Git"
      ],
      "execution_count": null,
      "outputs": []
    },
    {
      "cell_type": "code",
      "metadata": {
        "colab": {
          "base_uri": "https://localhost:8080/"
        },
        "id": "WgI7KaUuVyPG",
        "outputId": "6ec4554d-27f0-4dcd-ce3d-45d25914bb56"
      },
      "source": [
        "# git-clone has to be performed only once when setting up the git repo at your google drive\r\n",
        "! git clone git@github.com:christoph-fraller/dopp_2020w_group03_ex3.git /content/drive/MyDrive/Git/dopp_2020w_group03_ex3"
      ],
      "execution_count": null,
      "outputs": [
        {
          "output_type": "stream",
          "text": [
            "Cloning into '/content/drive/MyDrive/Git/dopp_2020w_group03_ex3'...\n",
            "Host key verification failed.\n",
            "fatal: Could not read from remote repository.\n",
            "\n",
            "Please make sure you have the correct access rights\n",
            "and the repository exists.\n"
          ],
          "name": "stdout"
        }
      ]
    },
    {
      "cell_type": "markdown",
      "metadata": {
        "id": "hb6rrvXMI4i_"
      },
      "source": [
        "## Important Shell and Git Commands"
      ]
    },
    {
      "cell_type": "markdown",
      "metadata": {
        "id": "ZDb8FOn5JC2h"
      },
      "source": [
        "**NOTICE:** Always ensure that you are in the right directory when performing git commands (e.g. /content/drive/MyDrive/Git/dopp_2020w_group03_ex3). In case of any issues that might occur when switching directories it is highly recommended to restart the runtime engine (CTRL + M + .)."
      ]
    },
    {
      "cell_type": "code",
      "metadata": {
        "colab": {
          "base_uri": "https://localhost:8080/"
        },
        "id": "GibAYNQjLDed",
        "outputId": "55384205-b377-4608-a63a-4eeaf6ab85c8"
      },
      "source": [
        "# check current working directory\r\n",
        "! pwd"
      ],
      "execution_count": null,
      "outputs": [
        {
          "output_type": "stream",
          "text": [
            "/content\n"
          ],
          "name": "stdout"
        }
      ]
    },
    {
      "cell_type": "code",
      "metadata": {
        "colab": {
          "base_uri": "https://localhost:8080/"
        },
        "id": "I6F2toRiJ1yE",
        "outputId": "4a611243-d5d8-4592-d2f2-3b0eb103c35b"
      },
      "source": [
        "# switch to specified working directory\r\n",
        "%cd /content/drive/MyDrive/Git/dopp_2020w_group03_ex3"
      ],
      "execution_count": null,
      "outputs": [
        {
          "output_type": "stream",
          "text": [
            "[Errno 2] No such file or directory: '/content/drive/MyDrive/Git/dopp_2020w_group03_ex3'\n",
            "/content\n"
          ],
          "name": "stdout"
        }
      ]
    },
    {
      "cell_type": "code",
      "metadata": {
        "colab": {
          "base_uri": "https://localhost:8080/"
        },
        "id": "AhKxY_7fJuRC",
        "outputId": "4223c765-d8fb-4193-db38-bb16f7078970"
      },
      "source": [
        "# list content of current working directory\r\n",
        "! ls"
      ],
      "execution_count": null,
      "outputs": [
        {
          "output_type": "stream",
          "text": [
            "sample_data\n"
          ],
          "name": "stdout"
        }
      ]
    },
    {
      "cell_type": "code",
      "metadata": {
        "colab": {
          "base_uri": "https://localhost:8080/"
        },
        "id": "PuJokwbqLMdf",
        "outputId": "573c180c-c6c5-479c-80b0-6aeaae7c34f7"
      },
      "source": [
        "# check git status\r\n",
        "! git status"
      ],
      "execution_count": null,
      "outputs": [
        {
          "output_type": "stream",
          "text": [
            "fatal: not a git repository (or any of the parent directories): .git\n"
          ],
          "name": "stdout"
        }
      ]
    },
    {
      "cell_type": "code",
      "metadata": {
        "colab": {
          "base_uri": "https://localhost:8080/"
        },
        "id": "ViV1YHxQLQZH",
        "outputId": "2bc2cbcc-9947-4e2d-8cfc-350f76c9172e"
      },
      "source": [
        "# always perform a git pull before you start working or commit/push some changes\r\n",
        "! git pull"
      ],
      "execution_count": null,
      "outputs": [
        {
          "output_type": "stream",
          "text": [
            "fatal: not a git repository (or any of the parent directories): .git\n"
          ],
          "name": "stdout"
        }
      ]
    },
    {
      "cell_type": "code",
      "metadata": {
        "colab": {
          "base_uri": "https://localhost:8080/"
        },
        "id": "AXfdcdIXOTk7",
        "outputId": "564eccbe-e0a3-4c89-fd08-68f0754381aa"
      },
      "source": [
        "# add a new data file to git repo directly from colab\r\n",
        "# at first upload the file into the folder of your google drive\r\n",
        "# ! git add data/world_bank_income_level_thresholds.csv\r\n",
        "# ! git commit -m 'New file added.'\r\n",
        "# ! git push"
      ],
      "execution_count": null,
      "outputs": [
        {
          "output_type": "stream",
          "text": [
            "[main 5f5e270] New file added.\n",
            "Counting objects: 6, done.\n",
            "Delta compression using up to 2 threads.\n",
            "Compressing objects: 100% (6/6), done.\n",
            "Writing objects: 100% (6/6), 1.20 KiB | 307.00 KiB/s, done.\n",
            "Total 6 (delta 1), reused 0 (delta 0)\n",
            "remote: Resolving deltas: 100% (1/1), done.\u001b[K\n",
            "To github.com:christoph-fraller/dopp_2020w_group03_ex3.git\n",
            "   3e96cae..5f5e270  main -> main\n"
          ],
          "name": "stdout"
        }
      ]
    },
    {
      "cell_type": "markdown",
      "metadata": {
        "id": "4SZJVIvmWrVe"
      },
      "source": [
        "# Perform these steps everytime when a new session has been started"
      ]
    },
    {
      "cell_type": "code",
      "metadata": {
        "id": "IOh292DlLnbG",
        "colab": {
          "base_uri": "https://localhost:8080/"
        },
        "outputId": "466bb8b1-69d8-4330-e100-c4a3ee4df22d"
      },
      "source": [
        "# import and mount google drive\r\n",
        "from google.colab import drive\r\n",
        "drive.mount('/content/drive')"
      ],
      "execution_count": null,
      "outputs": [
        {
          "output_type": "stream",
          "text": [
            "Mounted at /content/drive\n"
          ],
          "name": "stdout"
        }
      ]
    },
    {
      "cell_type": "code",
      "metadata": {
        "id": "Ox9qElcvxY8p"
      },
      "source": [
        "# create directory\r\n",
        "! mkdir -p /root/.ssh"
      ],
      "execution_count": 2,
      "outputs": []
    },
    {
      "cell_type": "code",
      "metadata": {
        "id": "YnKkBeH7Ww_B"
      },
      "source": [
        "# copy ssh keys from /content/drive/MyDrive/Ssh/* to /root/.ssh/*\r\n",
        "! cp /content/drive/MyDrive/Ssh/id_rsa /root/.ssh/\r\n",
        "! cp /content/drive/MyDrive/Ssh/id_rsa.pub /root/.ssh/ "
      ],
      "execution_count": 3,
      "outputs": []
    },
    {
      "cell_type": "code",
      "metadata": {
        "colab": {
          "base_uri": "https://localhost:8080/"
        },
        "id": "JD1i__xSX8s4",
        "outputId": "fb2ace11-0c89-4bf3-c019-2478ef60e681"
      },
      "source": [
        "# add github to known hosts and adapt file access permissions\r\n",
        "! ssh-keyscan github.com >> /root/.ssh/known_hosts\r\n",
        "! chmod 644 /root/.ssh/known_hosts\r\n",
        "! chmod 600 /root/.ssh/id_rsa\r\n",
        "! ssh -T git@github.com"
      ],
      "execution_count": 4,
      "outputs": [
        {
          "output_type": "stream",
          "text": [
            "# github.com:22 SSH-2.0-babeld-e6ec869a\n",
            "# github.com:22 SSH-2.0-babeld-e6ec869a\n",
            "# github.com:22 SSH-2.0-babeld-e6ec869a\n",
            "Warning: Permanently added the RSA host key for IP address '140.82.113.3' to the list of known hosts.\n",
            "Hi christoph-fraller/dopp_2020w_group03_ex3! You've successfully authenticated, but GitHub does not provide shell access.\n"
          ],
          "name": "stdout"
        }
      ]
    },
    {
      "cell_type": "code",
      "metadata": {
        "colab": {
          "base_uri": "https://localhost:8080/"
        },
        "id": "QrMtv6CAyFAx",
        "outputId": "10985d97-073c-471a-df62-7b8f846bc02c"
      },
      "source": [
        "# switch to specified working directory\r\n",
        "%cd /content/drive/MyDrive/Git/dopp_2020w_group03_ex3"
      ],
      "execution_count": 5,
      "outputs": [
        {
          "output_type": "stream",
          "text": [
            "/content/drive/MyDrive/Git/dopp_2020w_group03_ex3\n"
          ],
          "name": "stdout"
        }
      ]
    },
    {
      "cell_type": "code",
      "metadata": {
        "colab": {
          "base_uri": "https://localhost:8080/"
        },
        "id": "e75ezFO2XS4_",
        "outputId": "ecb315d1-1760-4332-e8fe-ba895b7b44ac"
      },
      "source": [
        "# always perform a git pull before you start working or commit/push some changes\r\n",
        "! git pull"
      ],
      "execution_count": 6,
      "outputs": [
        {
          "output_type": "stream",
          "text": [
            "Warning: Permanently added the RSA host key for IP address '140.82.112.4' to the list of known hosts.\n",
            "remote: Enumerating objects: 5, done.\u001b[K\n",
            "remote: Counting objects: 100% (5/5), done.\u001b[K\n",
            "remote: Compressing objects: 100% (3/3), done.\u001b[K\n",
            "remote: Total 3 (delta 1), reused 0 (delta 0), pack-reused 0\u001b[K\n",
            "Unpacking objects: 100% (3/3), done.\n",
            "From github.com:christoph-fraller/dopp_2020w_group03_ex3\n",
            "   bca2f9c..c2cf954  main       -> origin/main\n",
            "Updating bca2f9c..c2cf954\n",
            "Fast-forward\n",
            " dopp_2020w_group03_ex3_with_git.ipynb | 3656 \u001b[32m++++++++++++++++++\u001b[m\u001b[31m---------------\u001b[m\n",
            " 1 file changed, 2011 insertions(+), 1645 deletions(-)\n"
          ],
          "name": "stdout"
        }
      ]
    },
    {
      "cell_type": "markdown",
      "metadata": {
        "id": "W4898HwMCGar"
      },
      "source": [
        "## Geopanda installation"
      ]
    },
    {
      "cell_type": "code",
      "metadata": {
        "id": "VkUXPXQlCQX1",
        "colab": {
          "base_uri": "https://localhost:8080/"
        },
        "outputId": "c70406e9-85dd-47fe-885d-e434618bf3ab"
      },
      "source": [
        "# Important library for many geopython libraries\r\n",
        "!apt install gdal-bin python-gdal python3-gdal \r\n",
        "# Install rtree - Geopandas requirment\r\n",
        "!apt install python3-rtree \r\n",
        "# Install Geopandas\r\n",
        "!pip install git+git://github.com/geopandas/geopandas.git\r\n",
        "# Install descartes - Geopandas requirment\r\n",
        "!pip install descartes \r\n",
        "# Install Folium for Geographic data visualization\r\n",
        "!pip install folium\r\n",
        "# Install plotlyExpress\r\n",
        "!pip install plotly_express"
      ],
      "execution_count": 7,
      "outputs": [
        {
          "output_type": "stream",
          "text": [
            "Reading package lists... Done\n",
            "Building dependency tree       \n",
            "Reading state information... Done\n",
            "gdal-bin is already the newest version (2.2.3+dfsg-2).\n",
            "python-gdal is already the newest version (2.2.3+dfsg-2).\n",
            "python3-gdal is already the newest version (2.2.3+dfsg-2).\n",
            "0 upgraded, 0 newly installed, 0 to remove and 15 not upgraded.\n",
            "Reading package lists... Done\n",
            "Building dependency tree       \n",
            "Reading state information... Done\n",
            "The following additional packages will be installed:\n",
            "  libspatialindex-c4v5 libspatialindex-dev libspatialindex4v5\n",
            "  python3-pkg-resources\n",
            "Suggested packages:\n",
            "  python3-setuptools\n",
            "The following NEW packages will be installed:\n",
            "  libspatialindex-c4v5 libspatialindex-dev libspatialindex4v5\n",
            "  python3-pkg-resources python3-rtree\n",
            "0 upgraded, 5 newly installed, 0 to remove and 15 not upgraded.\n",
            "Need to get 671 kB of archives.\n",
            "After this operation, 3,948 kB of additional disk space will be used.\n",
            "Get:1 http://archive.ubuntu.com/ubuntu bionic/universe amd64 libspatialindex4v5 amd64 1.8.5-5 [219 kB]\n",
            "Get:2 http://archive.ubuntu.com/ubuntu bionic/universe amd64 libspatialindex-c4v5 amd64 1.8.5-5 [51.7 kB]\n",
            "Get:3 http://archive.ubuntu.com/ubuntu bionic/main amd64 python3-pkg-resources all 39.0.1-2 [98.8 kB]\n",
            "Get:4 http://archive.ubuntu.com/ubuntu bionic/universe amd64 libspatialindex-dev amd64 1.8.5-5 [285 kB]\n",
            "Get:5 http://archive.ubuntu.com/ubuntu bionic/universe amd64 python3-rtree all 0.8.3+ds-1 [16.9 kB]\n",
            "Fetched 671 kB in 1s (861 kB/s)\n",
            "Selecting previously unselected package libspatialindex4v5:amd64.\n",
            "(Reading database ... 145480 files and directories currently installed.)\n",
            "Preparing to unpack .../libspatialindex4v5_1.8.5-5_amd64.deb ...\n",
            "Unpacking libspatialindex4v5:amd64 (1.8.5-5) ...\n",
            "Selecting previously unselected package libspatialindex-c4v5:amd64.\n",
            "Preparing to unpack .../libspatialindex-c4v5_1.8.5-5_amd64.deb ...\n",
            "Unpacking libspatialindex-c4v5:amd64 (1.8.5-5) ...\n",
            "Selecting previously unselected package python3-pkg-resources.\n",
            "Preparing to unpack .../python3-pkg-resources_39.0.1-2_all.deb ...\n",
            "Unpacking python3-pkg-resources (39.0.1-2) ...\n",
            "Selecting previously unselected package libspatialindex-dev:amd64.\n",
            "Preparing to unpack .../libspatialindex-dev_1.8.5-5_amd64.deb ...\n",
            "Unpacking libspatialindex-dev:amd64 (1.8.5-5) ...\n",
            "Selecting previously unselected package python3-rtree.\n",
            "Preparing to unpack .../python3-rtree_0.8.3+ds-1_all.deb ...\n",
            "Unpacking python3-rtree (0.8.3+ds-1) ...\n",
            "Setting up libspatialindex4v5:amd64 (1.8.5-5) ...\n",
            "Setting up python3-pkg-resources (39.0.1-2) ...\n",
            "Setting up libspatialindex-c4v5:amd64 (1.8.5-5) ...\n",
            "Setting up libspatialindex-dev:amd64 (1.8.5-5) ...\n",
            "Setting up python3-rtree (0.8.3+ds-1) ...\n",
            "Processing triggers for libc-bin (2.27-3ubuntu1.2) ...\n",
            "/sbin/ldconfig.real: /usr/local/lib/python3.6/dist-packages/ideep4py/lib/libmkldnn.so.0 is not a symbolic link\n",
            "\n",
            "Collecting git+git://github.com/geopandas/geopandas.git\n",
            "  Cloning git://github.com/geopandas/geopandas.git to /tmp/pip-req-build-q574ufec\n",
            "  Running command git clone -q git://github.com/geopandas/geopandas.git /tmp/pip-req-build-q574ufec\n",
            "Requirement already satisfied: pandas>=0.24.0 in /usr/local/lib/python3.6/dist-packages (from geopandas==0.8.0+82.gf53d77c) (1.1.5)\n",
            "Requirement already satisfied: shapely>=1.6 in /usr/local/lib/python3.6/dist-packages (from geopandas==0.8.0+82.gf53d77c) (1.7.1)\n",
            "Collecting fiona>=1.8\n",
            "\u001b[?25l  Downloading https://files.pythonhosted.org/packages/37/94/4910fd55246c1d963727b03885ead6ef1cd3748a465f7b0239ab25dfc9a3/Fiona-1.8.18-cp36-cp36m-manylinux1_x86_64.whl (14.8MB)\n",
            "\u001b[K     |████████████████████████████████| 14.8MB 322kB/s \n",
            "\u001b[?25hCollecting pyproj>=2.2.0\n",
            "\u001b[?25l  Downloading https://files.pythonhosted.org/packages/e4/ab/280e80a67cfc109d15428c0ec56391fc03a65857b7727cf4e6e6f99a4204/pyproj-3.0.0.post1-cp36-cp36m-manylinux2010_x86_64.whl (6.4MB)\n",
            "\u001b[K     |████████████████████████████████| 6.5MB 43.3MB/s \n",
            "\u001b[?25hRequirement already satisfied: python-dateutil>=2.7.3 in /usr/local/lib/python3.6/dist-packages (from pandas>=0.24.0->geopandas==0.8.0+82.gf53d77c) (2.8.1)\n",
            "Requirement already satisfied: pytz>=2017.2 in /usr/local/lib/python3.6/dist-packages (from pandas>=0.24.0->geopandas==0.8.0+82.gf53d77c) (2018.9)\n",
            "Requirement already satisfied: numpy>=1.15.4 in /usr/local/lib/python3.6/dist-packages (from pandas>=0.24.0->geopandas==0.8.0+82.gf53d77c) (1.19.4)\n",
            "Requirement already satisfied: six>=1.7 in /usr/local/lib/python3.6/dist-packages (from fiona>=1.8->geopandas==0.8.0+82.gf53d77c) (1.15.0)\n",
            "Collecting cligj>=0.5\n",
            "  Downloading https://files.pythonhosted.org/packages/42/1e/947eadf10d6804bf276eb8a038bd5307996dceaaa41cfd21b7a15ec62f5d/cligj-0.7.1-py3-none-any.whl\n",
            "Requirement already satisfied: click<8,>=4.0 in /usr/local/lib/python3.6/dist-packages (from fiona>=1.8->geopandas==0.8.0+82.gf53d77c) (7.1.2)\n",
            "Collecting click-plugins>=1.0\n",
            "  Downloading https://files.pythonhosted.org/packages/e9/da/824b92d9942f4e472702488857914bdd50f73021efea15b4cad9aca8ecef/click_plugins-1.1.1-py2.py3-none-any.whl\n",
            "Requirement already satisfied: certifi in /usr/local/lib/python3.6/dist-packages (from fiona>=1.8->geopandas==0.8.0+82.gf53d77c) (2020.12.5)\n",
            "Requirement already satisfied: attrs>=17 in /usr/local/lib/python3.6/dist-packages (from fiona>=1.8->geopandas==0.8.0+82.gf53d77c) (20.3.0)\n",
            "Collecting munch\n",
            "  Downloading https://files.pythonhosted.org/packages/cc/ab/85d8da5c9a45e072301beb37ad7f833cd344e04c817d97e0cc75681d248f/munch-2.5.0-py2.py3-none-any.whl\n",
            "Building wheels for collected packages: geopandas\n",
            "  Building wheel for geopandas (setup.py) ... \u001b[?25l\u001b[?25hdone\n",
            "  Created wheel for geopandas: filename=geopandas-0.8.0+82.gf53d77c-py2.py3-none-any.whl size=975842 sha256=481205440590f2a3c516bf6860707f36ec93de0b6441f685def13c78236d0119\n",
            "  Stored in directory: /tmp/pip-ephem-wheel-cache-76n6hlxg/wheels/91/24/71/376c9c67192694168352afcccc2d264248f7e2cc6192997186\n",
            "Successfully built geopandas\n",
            "Installing collected packages: cligj, click-plugins, munch, fiona, pyproj, geopandas\n",
            "Successfully installed click-plugins-1.1.1 cligj-0.7.1 fiona-1.8.18 geopandas-0.8.0+82.gf53d77c munch-2.5.0 pyproj-3.0.0.post1\n",
            "Requirement already satisfied: descartes in /usr/local/lib/python3.6/dist-packages (1.1.0)\n",
            "Requirement already satisfied: matplotlib in /usr/local/lib/python3.6/dist-packages (from descartes) (3.2.2)\n",
            "Requirement already satisfied: python-dateutil>=2.1 in /usr/local/lib/python3.6/dist-packages (from matplotlib->descartes) (2.8.1)\n",
            "Requirement already satisfied: pyparsing!=2.0.4,!=2.1.2,!=2.1.6,>=2.0.1 in /usr/local/lib/python3.6/dist-packages (from matplotlib->descartes) (2.4.7)\n",
            "Requirement already satisfied: cycler>=0.10 in /usr/local/lib/python3.6/dist-packages (from matplotlib->descartes) (0.10.0)\n",
            "Requirement already satisfied: numpy>=1.11 in /usr/local/lib/python3.6/dist-packages (from matplotlib->descartes) (1.19.4)\n",
            "Requirement already satisfied: kiwisolver>=1.0.1 in /usr/local/lib/python3.6/dist-packages (from matplotlib->descartes) (1.3.1)\n",
            "Requirement already satisfied: six>=1.5 in /usr/local/lib/python3.6/dist-packages (from python-dateutil>=2.1->matplotlib->descartes) (1.15.0)\n",
            "Requirement already satisfied: folium in /usr/local/lib/python3.6/dist-packages (0.8.3)\n",
            "Requirement already satisfied: jinja2 in /usr/local/lib/python3.6/dist-packages (from folium) (2.11.2)\n",
            "Requirement already satisfied: branca>=0.3.0 in /usr/local/lib/python3.6/dist-packages (from folium) (0.4.1)\n",
            "Requirement already satisfied: requests in /usr/local/lib/python3.6/dist-packages (from folium) (2.23.0)\n",
            "Requirement already satisfied: six in /usr/local/lib/python3.6/dist-packages (from folium) (1.15.0)\n",
            "Requirement already satisfied: numpy in /usr/local/lib/python3.6/dist-packages (from folium) (1.19.4)\n",
            "Requirement already satisfied: MarkupSafe>=0.23 in /usr/local/lib/python3.6/dist-packages (from jinja2->folium) (1.1.1)\n",
            "Requirement already satisfied: urllib3!=1.25.0,!=1.25.1,<1.26,>=1.21.1 in /usr/local/lib/python3.6/dist-packages (from requests->folium) (1.24.3)\n",
            "Requirement already satisfied: certifi>=2017.4.17 in /usr/local/lib/python3.6/dist-packages (from requests->folium) (2020.12.5)\n",
            "Requirement already satisfied: idna<3,>=2.5 in /usr/local/lib/python3.6/dist-packages (from requests->folium) (2.10)\n",
            "Requirement already satisfied: chardet<4,>=3.0.2 in /usr/local/lib/python3.6/dist-packages (from requests->folium) (3.0.4)\n",
            "Collecting plotly_express\n",
            "  Downloading https://files.pythonhosted.org/packages/d4/d6/8a2906f51e073a4be80cab35cfa10e7a34853e60f3ed5304ac470852a08d/plotly_express-0.4.1-py2.py3-none-any.whl\n",
            "Requirement already satisfied: scipy>=0.18 in /usr/local/lib/python3.6/dist-packages (from plotly_express) (1.4.1)\n",
            "Requirement already satisfied: statsmodels>=0.9.0 in /usr/local/lib/python3.6/dist-packages (from plotly_express) (0.10.2)\n",
            "Requirement already satisfied: patsy>=0.5 in /usr/local/lib/python3.6/dist-packages (from plotly_express) (0.5.1)\n",
            "Requirement already satisfied: numpy>=1.11 in /usr/local/lib/python3.6/dist-packages (from plotly_express) (1.19.4)\n",
            "Requirement already satisfied: plotly>=4.1.0 in /usr/local/lib/python3.6/dist-packages (from plotly_express) (4.4.1)\n",
            "Requirement already satisfied: pandas>=0.20.0 in /usr/local/lib/python3.6/dist-packages (from plotly_express) (1.1.5)\n",
            "Requirement already satisfied: six in /usr/local/lib/python3.6/dist-packages (from patsy>=0.5->plotly_express) (1.15.0)\n",
            "Requirement already satisfied: retrying>=1.3.3 in /usr/local/lib/python3.6/dist-packages (from plotly>=4.1.0->plotly_express) (1.3.3)\n",
            "Requirement already satisfied: pytz>=2017.2 in /usr/local/lib/python3.6/dist-packages (from pandas>=0.20.0->plotly_express) (2018.9)\n",
            "Requirement already satisfied: python-dateutil>=2.7.3 in /usr/local/lib/python3.6/dist-packages (from pandas>=0.20.0->plotly_express) (2.8.1)\n",
            "Installing collected packages: plotly-express\n",
            "Successfully installed plotly-express-0.4.1\n"
          ],
          "name": "stdout"
        }
      ]
    },
    {
      "cell_type": "code",
      "metadata": {
        "id": "h4PMn1CYaWbu"
      },
      "source": [
        "import pandas as pd\r\n",
        "import numpy as np\r\n",
        "import matplotlib\r\n",
        "import matplotlib.pyplot as plt\r\n",
        "import seaborn as sb\r\n",
        "import geopandas"
      ],
      "execution_count": 8,
      "outputs": []
    },
    {
      "cell_type": "markdown",
      "metadata": {
        "id": "AAa8Euy1xZYT"
      },
      "source": [
        "# Data Preprocessing"
      ]
    },
    {
      "cell_type": "markdown",
      "metadata": {
        "id": "t9p9vTpUxlrp"
      },
      "source": [
        "###Load and merge income data\n"
      ]
    },
    {
      "cell_type": "code",
      "metadata": {
        "colab": {
          "base_uri": "https://localhost:8080/",
          "height": 206
        },
        "id": "0-clO4Ga8bOK",
        "outputId": "c85296cf-c1c0-48d7-faaf-da8b00fba131"
      },
      "source": [
        "# load income data from csv\r\n",
        "income_data = pd.read_csv('/content/drive/MyDrive/Git/dopp_2020w_group03_ex3/data/undata_gni_per_capita.csv', sep = ';')\r\n",
        "\r\n",
        "# extend income data by adding an entry for each combination of (calendar_year, country_code) due to there are no missing entries in the data\r\n",
        "country_data_list = income_data[['country_code', 'country_name']].drop_duplicates().values.tolist()\r\n",
        "output_list = []\r\n",
        "for lst in country_data_list:\r\n",
        "    country_code = lst[0]\r\n",
        "    country_name = lst[1]\r\n",
        "    for calendar_year in range(1970, 2019):\r\n",
        "      output_list.append([calendar_year, country_code, country_name])\r\n",
        "df = pd.DataFrame(output_list, columns = ['calendar_year', 'country_code', 'country_name'])\r\n",
        "income_data_complete = df.merge(income_data[['calendar_year', 'country_code', 'gni_per_capita_us_dollar']], how = 'left', on = ['calendar_year', 'country_code'])\r\n",
        "\r\n",
        "# load population data from csv\r\n",
        "population_data = pd.read_csv('/content/drive/MyDrive/Git/dopp_2020w_group03_ex3/data/undata_population_total.csv', sep = ';', \r\n",
        "                              usecols = ['country_code', 'calendar_year', 'population_total'])\r\n",
        "population_data.drop_duplicates(inplace = True)\r\n",
        "population_data['population_total'] = population_data['population_total'] * 1000 # total population is specified in 1000\r\n",
        "\r\n",
        "# load country codes from csv\r\n",
        "country_codes = pd.read_csv('/content/drive/MyDrive/Git/dopp_2020w_group03_ex3/data/iso3166_unsd_country_codes.csv', sep = ';', \r\n",
        "                            usecols = ['m49_code', 'iso_alpha2_code', 'iso_alpha3_code', 'small_island_developing_states'])\r\n",
        "\r\n",
        "# merge income with population data and country codes\r\n",
        "merged_income_data = income_data_complete.merge(population_data, how = 'left', on = ['calendar_year', 'country_code'])\r\n",
        "merged_income_data = merged_income_data.merge(country_codes, how = 'left', left_on = 'country_code', right_on = 'm49_code')\r\n",
        "\r\n",
        "# drop small island countries\r\n",
        "merged_income_data.drop(merged_income_data[merged_income_data['small_island_developing_states'] == 'x'].index, inplace = True)\r\n",
        "merged_income_data.drop(merged_income_data[merged_income_data['country_name'] == 'Former Netherlands Antilles'].index, inplace = True)\r\n",
        "merged_income_data.drop(merged_income_data[merged_income_data['country_name'] == 'United Republic of Tanzania: Mainland'].index, inplace = True)\r\n",
        "merged_income_data.drop(merged_income_data[merged_income_data['country_name'] == 'United Republic of Tanzania: Zanzibar'].index, inplace = True)\r\n",
        "merged_income_data.reset_index(drop = True, inplace = True)\r\n",
        "\r\n",
        "# restructure dataframe\r\n",
        "merged_income_data.drop(['country_code'], axis = 1, inplace = True)\r\n",
        "merged_income_data.rename(columns = {'country_code': 'm49_code'}, inplace = True)\r\n",
        "merged_income_data = merged_income_data[['calendar_year', 'iso_alpha3_code', 'iso_alpha2_code', 'm49_code', 'country_name', 'population_total', 'gni_per_capita_us_dollar']] \r\n",
        "\r\n",
        "merged_income_data.tail()"
      ],
      "execution_count": 39,
      "outputs": [
        {
          "output_type": "execute_result",
          "data": {
            "text/html": [
              "<div>\n",
              "<style scoped>\n",
              "    .dataframe tbody tr th:only-of-type {\n",
              "        vertical-align: middle;\n",
              "    }\n",
              "\n",
              "    .dataframe tbody tr th {\n",
              "        vertical-align: top;\n",
              "    }\n",
              "\n",
              "    .dataframe thead th {\n",
              "        text-align: right;\n",
              "    }\n",
              "</style>\n",
              "<table border=\"1\" class=\"dataframe\">\n",
              "  <thead>\n",
              "    <tr style=\"text-align: right;\">\n",
              "      <th></th>\n",
              "      <th>calendar_year</th>\n",
              "      <th>iso_alpha3_code</th>\n",
              "      <th>iso_alpha2_code</th>\n",
              "      <th>m49_code</th>\n",
              "      <th>country_name</th>\n",
              "      <th>population_total</th>\n",
              "      <th>gni_per_capita_us_dollar</th>\n",
              "    </tr>\n",
              "  </thead>\n",
              "  <tbody>\n",
              "    <tr>\n",
              "      <th>8325</th>\n",
              "      <td>2014</td>\n",
              "      <td>ZWE</td>\n",
              "      <td>ZW</td>\n",
              "      <td>716.0</td>\n",
              "      <td>Zimbabwe</td>\n",
              "      <td>13586707.0</td>\n",
              "      <td>1298.569589</td>\n",
              "    </tr>\n",
              "    <tr>\n",
              "      <th>8326</th>\n",
              "      <td>2015</td>\n",
              "      <td>ZWE</td>\n",
              "      <td>ZW</td>\n",
              "      <td>716.0</td>\n",
              "      <td>Zimbabwe</td>\n",
              "      <td>13814629.0</td>\n",
              "      <td>1301.574535</td>\n",
              "    </tr>\n",
              "    <tr>\n",
              "      <th>8327</th>\n",
              "      <td>2016</td>\n",
              "      <td>ZWE</td>\n",
              "      <td>ZW</td>\n",
              "      <td>716.0</td>\n",
              "      <td>Zimbabwe</td>\n",
              "      <td>14030331.0</td>\n",
              "      <td>1338.026334</td>\n",
              "    </tr>\n",
              "    <tr>\n",
              "      <th>8328</th>\n",
              "      <td>2017</td>\n",
              "      <td>ZWE</td>\n",
              "      <td>ZW</td>\n",
              "      <td>716.0</td>\n",
              "      <td>Zimbabwe</td>\n",
              "      <td>14236595.0</td>\n",
              "      <td>1410.421297</td>\n",
              "    </tr>\n",
              "    <tr>\n",
              "      <th>8329</th>\n",
              "      <td>2018</td>\n",
              "      <td>ZWE</td>\n",
              "      <td>ZW</td>\n",
              "      <td>716.0</td>\n",
              "      <td>Zimbabwe</td>\n",
              "      <td>14438802.0</td>\n",
              "      <td>1572.613043</td>\n",
              "    </tr>\n",
              "  </tbody>\n",
              "</table>\n",
              "</div>"
            ],
            "text/plain": [
              "      calendar_year iso_alpha3_code  ... population_total  gni_per_capita_us_dollar\n",
              "8325           2014             ZWE  ...       13586707.0               1298.569589\n",
              "8326           2015             ZWE  ...       13814629.0               1301.574535\n",
              "8327           2016             ZWE  ...       14030331.0               1338.026334\n",
              "8328           2017             ZWE  ...       14236595.0               1410.421297\n",
              "8329           2018             ZWE  ...       14438802.0               1572.613043\n",
              "\n",
              "[5 rows x 7 columns]"
            ]
          },
          "metadata": {
            "tags": []
          },
          "execution_count": 39
        }
      ]
    },
    {
      "cell_type": "markdown",
      "metadata": {
        "id": "KrR6-ZxGAfJh"
      },
      "source": [
        "## Exploring missing values in income data"
      ]
    },
    {
      "cell_type": "code",
      "metadata": {
        "colab": {
          "base_uri": "https://localhost:8080/",
          "height": 382
        },
        "id": "1jKXCYG-Al7g",
        "outputId": "df362140-1498-47b3-c88c-bfdc5bcfd547"
      },
      "source": [
        "# get an overview of missing values in income data: it seems there is pattern between the missing values of the columns \r\n",
        "# iso_alpha3_code, iso_alpha2_code, m49_code and population_total\r\n",
        "sb.heatmap(merged_income_data.isna(), cbar = False);"
      ],
      "execution_count": 40,
      "outputs": [
        {
          "output_type": "display_data",
          "data": {
            "image/png": "[encoded data removed]",
            "text/plain": [
              "<Figure size 432x288 with 1 Axes>"
            ]
          },
          "metadata": {
            "tags": [],
            "needs_background": "light"
          }
        }
      ]
    },
    {
      "cell_type": "code",
      "metadata": {
        "colab": {
          "base_uri": "https://localhost:8080/",
          "height": 1000
        },
        "id": "i3AL9oR7BUjL",
        "outputId": "7a0cbb42-3b53-4ee8-c692-37c461a9a63b"
      },
      "source": [
        "# obtain the countries with missing country codes\r\n",
        "iso_alpha3_code_set = set(merged_income_data.loc[merged_income_data['iso_alpha3_code'].isna()].country_name.unique().tolist())\r\n",
        "iso_alpha2_code_set = set(merged_income_data.loc[merged_income_data['iso_alpha2_code'].isna()].country_name.unique().tolist())\r\n",
        "m49_code_set = set(merged_income_data.loc[merged_income_data['m49_code'].isna()].country_name.unique().tolist())\r\n",
        "union_set = iso_alpha3_code_set | iso_alpha2_code_set | m49_code_set\r\n",
        "\r\n",
        "# 'Nambia': iso_alpha2_code of the country corresponds to 'NA', which is interpreted as NA per default - we have to fix this when inserting the other missing country codes\r\n",
        "\r\n",
        "# 'Kosovo': has declared its independence from Serbia in 2008 but until today this declaration is quite controversial. Due to reasons of simplicity and without being politically, \r\n",
        "# we have decided to exclude the Kosovo from our analysis.\r\n",
        "merged_income_data.drop(merged_income_data[merged_income_data['country_name'] == 'Kosovo'].index, inplace = True)\r\n",
        "\r\n",
        "# 'Yemen': TODO\r\n",
        "merged_income_data.set_index(['calendar_year'], inplace = True)\r\n",
        "yemen_missing_gni_values = (merged_income_data[merged_income_data['country_name'] == 'Yemen: Former Democratic Yemen'].gni_per_capita_us_dollar + merged_income_data[merged_income_data['country_name'] == 'Yemen: Former Yemen Arab Republic'].gni_per_capita_us_dollar) / 2\r\n",
        "yemen_missing_gni_values.dropna(inplace = True)\r\n",
        "yemen_df = pd.DataFrame(merged_income_data[merged_income_data['country_name'] == 'Yemen'].gni_per_capita_us_dollar.fillna(yemen_missing_gni_values))\r\n",
        "yemen_df['country_name'] = 'Yemen'\r\n",
        "yemen_df.reset_index(inplace = True)\r\n",
        "yemen_df.set_index(['calendar_year', 'country_name'], inplace = True)\r\n",
        "merged_income_data.reset_index(inplace = True)\r\n",
        "merged_income_data.set_index(['calendar_year', 'country_name'], inplace = True)\r\n",
        "merged_income_data.fillna(yemen_df, inplace = True)\r\n",
        "merged_income_data.reset_index(inplace = True)\r\n",
        "merged_income_data.drop(merged_income_data[merged_income_data['country_name'] == 'Yemen: Former Democratic Yemen'].index, inplace = True)\r\n",
        "merged_income_data.drop(merged_income_data[merged_income_data['country_name'] == 'Yemen: Former Yemen Arab Republic'].index, inplace = True)\r\n",
        "merged_income_data.reset_index(inplace = True, drop = True)\r\n",
        "\r\n",
        "merged_income_data[merged_income_data['country_name'] == 'Yemen']\r\n",
        "# rest of the missing country codes can be traced back to former countries that no longer exist:\r\n",
        "# we will insert them from historical data of iso3166"
      ],
      "execution_count": 41,
      "outputs": [
        {
          "output_type": "execute_result",
          "data": {
            "text/html": [
              "<div>\n",
              "<style scoped>\n",
              "    .dataframe tbody tr th:only-of-type {\n",
              "        vertical-align: middle;\n",
              "    }\n",
              "\n",
              "    .dataframe tbody tr th {\n",
              "        vertical-align: top;\n",
              "    }\n",
              "\n",
              "    .dataframe thead th {\n",
              "        text-align: right;\n",
              "    }\n",
              "</style>\n",
              "<table border=\"1\" class=\"dataframe\">\n",
              "  <thead>\n",
              "    <tr style=\"text-align: right;\">\n",
              "      <th></th>\n",
              "      <th>calendar_year</th>\n",
              "      <th>country_name</th>\n",
              "      <th>iso_alpha3_code</th>\n",
              "      <th>iso_alpha2_code</th>\n",
              "      <th>m49_code</th>\n",
              "      <th>population_total</th>\n",
              "      <th>gni_per_capita_us_dollar</th>\n",
              "    </tr>\n",
              "  </thead>\n",
              "  <tbody>\n",
              "    <tr>\n",
              "      <th>8036</th>\n",
              "      <td>1970</td>\n",
              "      <td>Yemen</td>\n",
              "      <td>YEM</td>\n",
              "      <td>YE</td>\n",
              "      <td>887.0</td>\n",
              "      <td>6193384.0</td>\n",
              "      <td>90.823545</td>\n",
              "    </tr>\n",
              "    <tr>\n",
              "      <th>8037</th>\n",
              "      <td>1971</td>\n",
              "      <td>Yemen</td>\n",
              "      <td>YEM</td>\n",
              "      <td>YE</td>\n",
              "      <td>887.0</td>\n",
              "      <td>6290365.0</td>\n",
              "      <td>92.989332</td>\n",
              "    </tr>\n",
              "    <tr>\n",
              "      <th>8038</th>\n",
              "      <td>1972</td>\n",
              "      <td>Yemen</td>\n",
              "      <td>YEM</td>\n",
              "      <td>YE</td>\n",
              "      <td>887.0</td>\n",
              "      <td>6390574.0</td>\n",
              "      <td>117.934839</td>\n",
              "    </tr>\n",
              "    <tr>\n",
              "      <th>8039</th>\n",
              "      <td>1973</td>\n",
              "      <td>Yemen</td>\n",
              "      <td>YEM</td>\n",
              "      <td>YE</td>\n",
              "      <td>887.0</td>\n",
              "      <td>6500816.0</td>\n",
              "      <td>100.112566</td>\n",
              "    </tr>\n",
              "    <tr>\n",
              "      <th>8040</th>\n",
              "      <td>1974</td>\n",
              "      <td>Yemen</td>\n",
              "      <td>YEM</td>\n",
              "      <td>YE</td>\n",
              "      <td>887.0</td>\n",
              "      <td>6629999.0</td>\n",
              "      <td>114.803133</td>\n",
              "    </tr>\n",
              "    <tr>\n",
              "      <th>8041</th>\n",
              "      <td>1975</td>\n",
              "      <td>Yemen</td>\n",
              "      <td>YEM</td>\n",
              "      <td>YE</td>\n",
              "      <td>887.0</td>\n",
              "      <td>6784695.0</td>\n",
              "      <td>128.793604</td>\n",
              "    </tr>\n",
              "    <tr>\n",
              "      <th>8042</th>\n",
              "      <td>1976</td>\n",
              "      <td>Yemen</td>\n",
              "      <td>YEM</td>\n",
              "      <td>YE</td>\n",
              "      <td>887.0</td>\n",
              "      <td>6967941.0</td>\n",
              "      <td>147.621662</td>\n",
              "    </tr>\n",
              "    <tr>\n",
              "      <th>8043</th>\n",
              "      <td>1977</td>\n",
              "      <td>Yemen</td>\n",
              "      <td>YEM</td>\n",
              "      <td>YE</td>\n",
              "      <td>887.0</td>\n",
              "      <td>7178675.0</td>\n",
              "      <td>172.343178</td>\n",
              "    </tr>\n",
              "    <tr>\n",
              "      <th>8044</th>\n",
              "      <td>1978</td>\n",
              "      <td>Yemen</td>\n",
              "      <td>YEM</td>\n",
              "      <td>YE</td>\n",
              "      <td>887.0</td>\n",
              "      <td>7414158.0</td>\n",
              "      <td>189.422844</td>\n",
              "    </tr>\n",
              "    <tr>\n",
              "      <th>8045</th>\n",
              "      <td>1979</td>\n",
              "      <td>Yemen</td>\n",
              "      <td>YEM</td>\n",
              "      <td>YE</td>\n",
              "      <td>887.0</td>\n",
              "      <td>7669694.0</td>\n",
              "      <td>203.039570</td>\n",
              "    </tr>\n",
              "    <tr>\n",
              "      <th>8046</th>\n",
              "      <td>1980</td>\n",
              "      <td>Yemen</td>\n",
              "      <td>YEM</td>\n",
              "      <td>YE</td>\n",
              "      <td>887.0</td>\n",
              "      <td>7941898.0</td>\n",
              "      <td>226.694520</td>\n",
              "    </tr>\n",
              "    <tr>\n",
              "      <th>8047</th>\n",
              "      <td>1981</td>\n",
              "      <td>Yemen</td>\n",
              "      <td>YEM</td>\n",
              "      <td>YE</td>\n",
              "      <td>887.0</td>\n",
              "      <td>8231910.0</td>\n",
              "      <td>247.024566</td>\n",
              "    </tr>\n",
              "    <tr>\n",
              "      <th>8048</th>\n",
              "      <td>1982</td>\n",
              "      <td>Yemen</td>\n",
              "      <td>YEM</td>\n",
              "      <td>YE</td>\n",
              "      <td>887.0</td>\n",
              "      <td>8541605.0</td>\n",
              "      <td>256.888858</td>\n",
              "    </tr>\n",
              "    <tr>\n",
              "      <th>8049</th>\n",
              "      <td>1983</td>\n",
              "      <td>Yemen</td>\n",
              "      <td>YEM</td>\n",
              "      <td>YE</td>\n",
              "      <td>887.0</td>\n",
              "      <td>8869370.0</td>\n",
              "      <td>256.448818</td>\n",
              "    </tr>\n",
              "    <tr>\n",
              "      <th>8050</th>\n",
              "      <td>1984</td>\n",
              "      <td>Yemen</td>\n",
              "      <td>YEM</td>\n",
              "      <td>YE</td>\n",
              "      <td>887.0</td>\n",
              "      <td>9213084.0</td>\n",
              "      <td>256.912757</td>\n",
              "    </tr>\n",
              "    <tr>\n",
              "      <th>8051</th>\n",
              "      <td>1985</td>\n",
              "      <td>Yemen</td>\n",
              "      <td>YEM</td>\n",
              "      <td>YE</td>\n",
              "      <td>887.0</td>\n",
              "      <td>9572175.0</td>\n",
              "      <td>236.082806</td>\n",
              "    </tr>\n",
              "    <tr>\n",
              "      <th>8052</th>\n",
              "      <td>1986</td>\n",
              "      <td>Yemen</td>\n",
              "      <td>YEM</td>\n",
              "      <td>YE</td>\n",
              "      <td>887.0</td>\n",
              "      <td>9941109.0</td>\n",
              "      <td>210.146951</td>\n",
              "    </tr>\n",
              "    <tr>\n",
              "      <th>8053</th>\n",
              "      <td>1987</td>\n",
              "      <td>Yemen</td>\n",
              "      <td>YEM</td>\n",
              "      <td>YE</td>\n",
              "      <td>887.0</td>\n",
              "      <td>10322043.0</td>\n",
              "      <td>232.432370</td>\n",
              "    </tr>\n",
              "    <tr>\n",
              "      <th>8054</th>\n",
              "      <td>1988</td>\n",
              "      <td>Yemen</td>\n",
              "      <td>YEM</td>\n",
              "      <td>YE</td>\n",
              "      <td>887.0</td>\n",
              "      <td>10730862.0</td>\n",
              "      <td>233.687306</td>\n",
              "    </tr>\n",
              "    <tr>\n",
              "      <th>8055</th>\n",
              "      <td>1989</td>\n",
              "      <td>Yemen</td>\n",
              "      <td>YEM</td>\n",
              "      <td>YE</td>\n",
              "      <td>887.0</td>\n",
              "      <td>11189177.0</td>\n",
              "      <td>292.746949</td>\n",
              "    </tr>\n",
              "    <tr>\n",
              "      <th>8056</th>\n",
              "      <td>1990</td>\n",
              "      <td>Yemen</td>\n",
              "      <td>YEM</td>\n",
              "      <td>YE</td>\n",
              "      <td>887.0</td>\n",
              "      <td>11709993.0</td>\n",
              "      <td>345.504582</td>\n",
              "    </tr>\n",
              "    <tr>\n",
              "      <th>8057</th>\n",
              "      <td>1991</td>\n",
              "      <td>Yemen</td>\n",
              "      <td>YEM</td>\n",
              "      <td>YE</td>\n",
              "      <td>887.0</td>\n",
              "      <td>12302124.0</td>\n",
              "      <td>336.684906</td>\n",
              "    </tr>\n",
              "    <tr>\n",
              "      <th>8058</th>\n",
              "      <td>1992</td>\n",
              "      <td>Yemen</td>\n",
              "      <td>YEM</td>\n",
              "      <td>YE</td>\n",
              "      <td>887.0</td>\n",
              "      <td>12954155.0</td>\n",
              "      <td>341.147404</td>\n",
              "    </tr>\n",
              "    <tr>\n",
              "      <th>8059</th>\n",
              "      <td>1993</td>\n",
              "      <td>Yemen</td>\n",
              "      <td>YEM</td>\n",
              "      <td>YE</td>\n",
              "      <td>887.0</td>\n",
              "      <td>13634076.0</td>\n",
              "      <td>347.623711</td>\n",
              "    </tr>\n",
              "    <tr>\n",
              "      <th>8060</th>\n",
              "      <td>1994</td>\n",
              "      <td>Yemen</td>\n",
              "      <td>YEM</td>\n",
              "      <td>YE</td>\n",
              "      <td>887.0</td>\n",
              "      <td>14297613.0</td>\n",
              "      <td>346.255049</td>\n",
              "    </tr>\n",
              "    <tr>\n",
              "      <th>8061</th>\n",
              "      <td>1995</td>\n",
              "      <td>Yemen</td>\n",
              "      <td>YEM</td>\n",
              "      <td>YE</td>\n",
              "      <td>887.0</td>\n",
              "      <td>14913315.0</td>\n",
              "      <td>384.411167</td>\n",
              "    </tr>\n",
              "    <tr>\n",
              "      <th>8062</th>\n",
              "      <td>1996</td>\n",
              "      <td>Yemen</td>\n",
              "      <td>YEM</td>\n",
              "      <td>YE</td>\n",
              "      <td>887.0</td>\n",
              "      <td>15469274.0</td>\n",
              "      <td>433.890348</td>\n",
              "    </tr>\n",
              "    <tr>\n",
              "      <th>8063</th>\n",
              "      <td>1997</td>\n",
              "      <td>Yemen</td>\n",
              "      <td>YEM</td>\n",
              "      <td>YE</td>\n",
              "      <td>887.0</td>\n",
              "      <td>15975668.0</td>\n",
              "      <td>454.084013</td>\n",
              "    </tr>\n",
              "    <tr>\n",
              "      <th>8064</th>\n",
              "      <td>1998</td>\n",
              "      <td>Yemen</td>\n",
              "      <td>YEM</td>\n",
              "      <td>YE</td>\n",
              "      <td>887.0</td>\n",
              "      <td>16450310.0</td>\n",
              "      <td>424.929830</td>\n",
              "    </tr>\n",
              "    <tr>\n",
              "      <th>8065</th>\n",
              "      <td>1999</td>\n",
              "      <td>Yemen</td>\n",
              "      <td>YEM</td>\n",
              "      <td>YE</td>\n",
              "      <td>887.0</td>\n",
              "      <td>16921149.0</td>\n",
              "      <td>476.550204</td>\n",
              "    </tr>\n",
              "    <tr>\n",
              "      <th>8066</th>\n",
              "      <td>2000</td>\n",
              "      <td>Yemen</td>\n",
              "      <td>YEM</td>\n",
              "      <td>YE</td>\n",
              "      <td>887.0</td>\n",
              "      <td>17409072.0</td>\n",
              "      <td>583.441702</td>\n",
              "    </tr>\n",
              "    <tr>\n",
              "      <th>8067</th>\n",
              "      <td>2001</td>\n",
              "      <td>Yemen</td>\n",
              "      <td>YEM</td>\n",
              "      <td>YE</td>\n",
              "      <td>887.0</td>\n",
              "      <td>17918373.0</td>\n",
              "      <td>592.316722</td>\n",
              "    </tr>\n",
              "    <tr>\n",
              "      <th>8068</th>\n",
              "      <td>2002</td>\n",
              "      <td>Yemen</td>\n",
              "      <td>YEM</td>\n",
              "      <td>YE</td>\n",
              "      <td>887.0</td>\n",
              "      <td>18443691.0</td>\n",
              "      <td>623.296665</td>\n",
              "    </tr>\n",
              "    <tr>\n",
              "      <th>8069</th>\n",
              "      <td>2003</td>\n",
              "      <td>Yemen</td>\n",
              "      <td>YEM</td>\n",
              "      <td>YE</td>\n",
              "      <td>887.0</td>\n",
              "      <td>18985000.0</td>\n",
              "      <td>663.559579</td>\n",
              "    </tr>\n",
              "    <tr>\n",
              "      <th>8070</th>\n",
              "      <td>2004</td>\n",
              "      <td>Yemen</td>\n",
              "      <td>YEM</td>\n",
              "      <td>YE</td>\n",
              "      <td>887.0</td>\n",
              "      <td>19540098.0</td>\n",
              "      <td>733.976239</td>\n",
              "    </tr>\n",
              "    <tr>\n",
              "      <th>8071</th>\n",
              "      <td>2005</td>\n",
              "      <td>Yemen</td>\n",
              "      <td>YEM</td>\n",
              "      <td>YE</td>\n",
              "      <td>887.0</td>\n",
              "      <td>20107409.0</td>\n",
              "      <td>870.219963</td>\n",
              "    </tr>\n",
              "    <tr>\n",
              "      <th>8072</th>\n",
              "      <td>2006</td>\n",
              "      <td>Yemen</td>\n",
              "      <td>YEM</td>\n",
              "      <td>YE</td>\n",
              "      <td>887.0</td>\n",
              "      <td>20687646.0</td>\n",
              "      <td>1046.388769</td>\n",
              "    </tr>\n",
              "    <tr>\n",
              "      <th>8073</th>\n",
              "      <td>2007</td>\n",
              "      <td>Yemen</td>\n",
              "      <td>YEM</td>\n",
              "      <td>YE</td>\n",
              "      <td>887.0</td>\n",
              "      <td>21282515.0</td>\n",
              "      <td>1144.444475</td>\n",
              "    </tr>\n",
              "    <tr>\n",
              "      <th>8074</th>\n",
              "      <td>2008</td>\n",
              "      <td>Yemen</td>\n",
              "      <td>YEM</td>\n",
              "      <td>YE</td>\n",
              "      <td>887.0</td>\n",
              "      <td>21892146.0</td>\n",
              "      <td>1305.954927</td>\n",
              "    </tr>\n",
              "    <tr>\n",
              "      <th>8075</th>\n",
              "      <td>2009</td>\n",
              "      <td>Yemen</td>\n",
              "      <td>YEM</td>\n",
              "      <td>YE</td>\n",
              "      <td>887.0</td>\n",
              "      <td>22516460.0</td>\n",
              "      <td>1215.907773</td>\n",
              "    </tr>\n",
              "    <tr>\n",
              "      <th>8076</th>\n",
              "      <td>2010</td>\n",
              "      <td>Yemen</td>\n",
              "      <td>YEM</td>\n",
              "      <td>YE</td>\n",
              "      <td>887.0</td>\n",
              "      <td>23154855.0</td>\n",
              "      <td>1260.801370</td>\n",
              "    </tr>\n",
              "    <tr>\n",
              "      <th>8077</th>\n",
              "      <td>2011</td>\n",
              "      <td>Yemen</td>\n",
              "      <td>YEM</td>\n",
              "      <td>YE</td>\n",
              "      <td>887.0</td>\n",
              "      <td>23807588.0</td>\n",
              "      <td>1211.719799</td>\n",
              "    </tr>\n",
              "    <tr>\n",
              "      <th>8078</th>\n",
              "      <td>2012</td>\n",
              "      <td>Yemen</td>\n",
              "      <td>YEM</td>\n",
              "      <td>YE</td>\n",
              "      <td>887.0</td>\n",
              "      <td>24473178.0</td>\n",
              "      <td>1261.216162</td>\n",
              "    </tr>\n",
              "    <tr>\n",
              "      <th>8079</th>\n",
              "      <td>2013</td>\n",
              "      <td>Yemen</td>\n",
              "      <td>YEM</td>\n",
              "      <td>YE</td>\n",
              "      <td>887.0</td>\n",
              "      <td>25147109.0</td>\n",
              "      <td>1321.913649</td>\n",
              "    </tr>\n",
              "    <tr>\n",
              "      <th>8080</th>\n",
              "      <td>2014</td>\n",
              "      <td>Yemen</td>\n",
              "      <td>YEM</td>\n",
              "      <td>YE</td>\n",
              "      <td>887.0</td>\n",
              "      <td>25823485.0</td>\n",
              "      <td>1229.187781</td>\n",
              "    </tr>\n",
              "    <tr>\n",
              "      <th>8081</th>\n",
              "      <td>2015</td>\n",
              "      <td>Yemen</td>\n",
              "      <td>YEM</td>\n",
              "      <td>YE</td>\n",
              "      <td>887.0</td>\n",
              "      <td>26497889.0</td>\n",
              "      <td>992.371528</td>\n",
              "    </tr>\n",
              "    <tr>\n",
              "      <th>8082</th>\n",
              "      <td>2016</td>\n",
              "      <td>Yemen</td>\n",
              "      <td>YEM</td>\n",
              "      <td>YE</td>\n",
              "      <td>887.0</td>\n",
              "      <td>27168208.0</td>\n",
              "      <td>906.971742</td>\n",
              "    </tr>\n",
              "    <tr>\n",
              "      <th>8083</th>\n",
              "      <td>2017</td>\n",
              "      <td>Yemen</td>\n",
              "      <td>YEM</td>\n",
              "      <td>YE</td>\n",
              "      <td>887.0</td>\n",
              "      <td>27834819.0</td>\n",
              "      <td>862.915678</td>\n",
              "    </tr>\n",
              "    <tr>\n",
              "      <th>8084</th>\n",
              "      <td>2018</td>\n",
              "      <td>Yemen</td>\n",
              "      <td>YEM</td>\n",
              "      <td>YE</td>\n",
              "      <td>887.0</td>\n",
              "      <td>28498683.0</td>\n",
              "      <td>932.738838</td>\n",
              "    </tr>\n",
              "  </tbody>\n",
              "</table>\n",
              "</div>"
            ],
            "text/plain": [
              "      calendar_year country_name  ... population_total gni_per_capita_us_dollar\n",
              "8036           1970        Yemen  ...        6193384.0                90.823545\n",
              "8037           1971        Yemen  ...        6290365.0                92.989332\n",
              "8038           1972        Yemen  ...        6390574.0               117.934839\n",
              "8039           1973        Yemen  ...        6500816.0               100.112566\n",
              "8040           1974        Yemen  ...        6629999.0               114.803133\n",
              "8041           1975        Yemen  ...        6784695.0               128.793604\n",
              "8042           1976        Yemen  ...        6967941.0               147.621662\n",
              "8043           1977        Yemen  ...        7178675.0               172.343178\n",
              "8044           1978        Yemen  ...        7414158.0               189.422844\n",
              "8045           1979        Yemen  ...        7669694.0               203.039570\n",
              "8046           1980        Yemen  ...        7941898.0               226.694520\n",
              "8047           1981        Yemen  ...        8231910.0               247.024566\n",
              "8048           1982        Yemen  ...        8541605.0               256.888858\n",
              "8049           1983        Yemen  ...        8869370.0               256.448818\n",
              "8050           1984        Yemen  ...        9213084.0               256.912757\n",
              "8051           1985        Yemen  ...        9572175.0               236.082806\n",
              "8052           1986        Yemen  ...        9941109.0               210.146951\n",
              "8053           1987        Yemen  ...       10322043.0               232.432370\n",
              "8054           1988        Yemen  ...       10730862.0               233.687306\n",
              "8055           1989        Yemen  ...       11189177.0               292.746949\n",
              "8056           1990        Yemen  ...       11709993.0               345.504582\n",
              "8057           1991        Yemen  ...       12302124.0               336.684906\n",
              "8058           1992        Yemen  ...       12954155.0               341.147404\n",
              "8059           1993        Yemen  ...       13634076.0               347.623711\n",
              "8060           1994        Yemen  ...       14297613.0               346.255049\n",
              "8061           1995        Yemen  ...       14913315.0               384.411167\n",
              "8062           1996        Yemen  ...       15469274.0               433.890348\n",
              "8063           1997        Yemen  ...       15975668.0               454.084013\n",
              "8064           1998        Yemen  ...       16450310.0               424.929830\n",
              "8065           1999        Yemen  ...       16921149.0               476.550204\n",
              "8066           2000        Yemen  ...       17409072.0               583.441702\n",
              "8067           2001        Yemen  ...       17918373.0               592.316722\n",
              "8068           2002        Yemen  ...       18443691.0               623.296665\n",
              "8069           2003        Yemen  ...       18985000.0               663.559579\n",
              "8070           2004        Yemen  ...       19540098.0               733.976239\n",
              "8071           2005        Yemen  ...       20107409.0               870.219963\n",
              "8072           2006        Yemen  ...       20687646.0              1046.388769\n",
              "8073           2007        Yemen  ...       21282515.0              1144.444475\n",
              "8074           2008        Yemen  ...       21892146.0              1305.954927\n",
              "8075           2009        Yemen  ...       22516460.0              1215.907773\n",
              "8076           2010        Yemen  ...       23154855.0              1260.801370\n",
              "8077           2011        Yemen  ...       23807588.0              1211.719799\n",
              "8078           2012        Yemen  ...       24473178.0              1261.216162\n",
              "8079           2013        Yemen  ...       25147109.0              1321.913649\n",
              "8080           2014        Yemen  ...       25823485.0              1229.187781\n",
              "8081           2015        Yemen  ...       26497889.0               992.371528\n",
              "8082           2016        Yemen  ...       27168208.0               906.971742\n",
              "8083           2017        Yemen  ...       27834819.0               862.915678\n",
              "8084           2018        Yemen  ...       28498683.0               932.738838\n",
              "\n",
              "[49 rows x 7 columns]"
            ]
          },
          "metadata": {
            "tags": []
          },
          "execution_count": 41
        }
      ]
    },
    {
      "cell_type": "code",
      "metadata": {
        "colab": {
          "base_uri": "https://localhost:8080/"
        },
        "id": "hQ9TIv1pGTkE",
        "outputId": "520a9d19-a1d3-4da2-fd84-6e819f4a40c6"
      },
      "source": [
        "merged_income_data.loc[merged_income_data['gni_per_capita_us_dollar'].isna()].country_name.unique().tolist()"
      ],
      "execution_count": 42,
      "outputs": [
        {
          "output_type": "execute_result",
          "data": {
            "text/plain": [
              "['Armenia',\n",
              " 'Azerbaijan',\n",
              " 'Belarus',\n",
              " 'Bosnia and Herzegovina',\n",
              " 'Croatia',\n",
              " 'Czech Republic',\n",
              " 'Eritrea',\n",
              " 'Estonia',\n",
              " 'Ethiopia',\n",
              " 'Former Czechoslovakia',\n",
              " 'Former Ethiopia',\n",
              " 'Former Sudan',\n",
              " 'Former USSR',\n",
              " 'Former Yugoslavia',\n",
              " 'Georgia',\n",
              " 'Kazakhstan',\n",
              " 'Kyrgyzstan',\n",
              " 'Latvia',\n",
              " 'Lithuania',\n",
              " 'Montenegro',\n",
              " 'Republic of Moldova',\n",
              " 'Republic of North Macedonia',\n",
              " 'Russian Federation',\n",
              " 'Serbia',\n",
              " 'Slovakia',\n",
              " 'Slovenia',\n",
              " 'South Sudan',\n",
              " 'Sudan',\n",
              " 'Tajikistan',\n",
              " 'Turkmenistan',\n",
              " 'Ukraine',\n",
              " 'Uzbekistan']"
            ]
          },
          "metadata": {
            "tags": []
          },
          "execution_count": 42
        }
      ]
    },
    {
      "cell_type": "markdown",
      "metadata": {
        "id": "S2DP9IQR0FX2"
      },
      "source": [
        "## Insert missing country codes"
      ]
    },
    {
      "cell_type": "code",
      "metadata": {
        "id": "b9PNnKnP0EaC"
      },
      "source": [
        "def insert_missing_country_codes(input_data):\r\n",
        "\r\n",
        "    df = pd.DataFrame(input_data)\r\n",
        "\r\n",
        "    country_codes_list = ['iso_alpha3_code', 'iso_alpha2_code', 'm49_code']   \r\n",
        "\r\n",
        "    # load formerly used country codes from csv\r\n",
        "    former_country_codes = pd.read_csv('/content/drive/MyDrive/Git/dopp_2020w_group03_ex3/data/iso3166_formerly_used_country_codes.csv', sep = ';', na_filter = False)\r\n",
        "\r\n",
        "    # insert missing values\r\n",
        "    for row_index in range(0, len(df)):\r\n",
        "      \r\n",
        "      for country_code in country_codes_list:\r\n",
        "        \r\n",
        "        # check if country code value is missing\r\n",
        "        if(pd.isnull(df.loc[row_index, country_code])):\r\n",
        "          \r\n",
        "          # insert missing missing country code\r\n",
        "          df.loc[row_index, country_code] = former_country_codes.loc[former_country_codes[former_country_codes['country_name'] == df.loc[row_index, 'country_name']].index[0], country_code]\r\n",
        "\r\n",
        "    return df\r\n",
        "    \r\n",
        "income_data_country_codes_inserted = insert_missing_country_codes(merged_income_data)"
      ],
      "execution_count": 46,
      "outputs": []
    },
    {
      "cell_type": "markdown",
      "metadata": {
        "id": "Vs8IqtlbG9_1"
      },
      "source": [
        "## Compute missing population data"
      ]
    },
    {
      "cell_type": "code",
      "metadata": {
        "id": "c6ELhXWUHCYm",
        "colab": {
          "base_uri": "https://localhost:8080/",
          "height": 197
        },
        "outputId": "23b839c9-5eea-4faf-a51d-ac35c3fafa1e"
      },
      "source": [
        "def compute_missing_population_total(input_data):\r\n",
        "\r\n",
        "    df = pd.DataFrame(input_data)\r\n",
        "\r\n",
        "    former_country_lists = [['Former Czechoslovakia', 'Czech Republic', 'Slovakia'],\r\n",
        "                             ['Former Ethiopia', 'Ethiopia', 'Eritrea'],\r\n",
        "                             ['Former Sudan', 'Sudan', 'South Sudan'],\r\n",
        "                             ['Former USSR', 'Armenia', 'Azerbaijan', 'Belarus', 'Estonia', 'Georgia', 'Kazakhstan', 'Kyrgyzstan', 'Latvia', 'Lithuania', \r\n",
        "                              'Republic of Moldova', 'Russian Federation', 'Tajikistan', 'Turkmenistan', 'Ukraine', 'Uzbekistan'],\r\n",
        "                             ['Former Yugoslavia', 'Bosnia and Herzegovina', 'Croatia', 'Montenegro', 'Republic of North Macedonia', 'Serbia', 'Slovenia']]\r\n",
        "\r\n",
        "    for country_list in former_country_lists:\r\n",
        "\r\n",
        "      # get first list elem of list\r\n",
        "      former_country_name = country_list.pop(0)\r\n",
        "\r\n",
        "      # get list of calendar_years\r\n",
        "      calendar_year_list = df.loc[df['country_name'] == former_country_name].calendar_year.tolist()\r\n",
        "\r\n",
        "      for calendar_year in calendar_year_list:\r\n",
        "        \r\n",
        "        # get current index of former_country at particular calender_year\r\n",
        "        curr_former_country_index = df.loc[(df['calendar_year'] == calendar_year) & (df['country_name'] == former_country_name)].population_total.index.max()\r\n",
        "        \r\n",
        "        # initialize new_population_total \r\n",
        "        new_population_total = 0\r\n",
        "\r\n",
        "        for country_name in country_list:\r\n",
        "          \r\n",
        "          if pd.isnull(df.loc[(df['calendar_year'] == calendar_year) & (df['country_name'] == country_name)].gni_per_capita_us_dollar).bool():\r\n",
        "            # get current index of country at particular calender_year  \r\n",
        "            curr_country_index = df.loc[(df['calendar_year'] == calendar_year) & (df['country_name'] == country_name)].population_total.index.max()\r\n",
        "\r\n",
        "            # increment new_population_total by population_total of curr_country_index at particular calender_year \r\n",
        "            new_population_total += df.loc[curr_country_index, 'population_total']\r\n",
        "\r\n",
        "        # update population_total of former_country with new_population_total at particular calender_year \r\n",
        "        df.loc[curr_former_country_index, 'population_total'] = new_population_total if new_population_total > 0 else np.nan\r\n",
        "\r\n",
        "    return df\r\n",
        "    \r\n",
        "income_data_preprocessed = compute_missing_population_total(income_data_country_codes_inserted)"
      ],
      "execution_count": null,
      "outputs": [
        {
          "output_type": "error",
          "ename": "NameError",
          "evalue": "ignored",
          "traceback": [
            "\u001b[0;31m---------------------------------------------------------------------------\u001b[0m",
            "\u001b[0;31mNameError\u001b[0m                                 Traceback (most recent call last)",
            "\u001b[0;32m<ipython-input-17-380d5d3dd042>\u001b[0m in \u001b[0;36m<module>\u001b[0;34m()\u001b[0m\n\u001b[1;32m     40\u001b[0m     \u001b[0;32mreturn\u001b[0m \u001b[0mdf\u001b[0m\u001b[0;34m\u001b[0m\u001b[0;34m\u001b[0m\u001b[0m\n\u001b[1;32m     41\u001b[0m \u001b[0;34m\u001b[0m\u001b[0m\n\u001b[0;32m---> 42\u001b[0;31m \u001b[0mincome_data_preprocessed\u001b[0m \u001b[0;34m=\u001b[0m \u001b[0mcompute_missing_population_total\u001b[0m\u001b[0;34m(\u001b[0m\u001b[0mincome_data_country_codes_inserted\u001b[0m\u001b[0;34m)\u001b[0m\u001b[0;34m\u001b[0m\u001b[0;34m\u001b[0m\u001b[0m\n\u001b[0m",
            "\u001b[0;31mNameError\u001b[0m: name 'income_data_country_codes_inserted' is not defined"
          ]
        }
      ]
    },
    {
      "cell_type": "code",
      "metadata": {
        "id": "F2VtO2IAcXBK"
      },
      "source": [
        "income_data_preprocessed.loc[income_data_preprocessed['country_name'] == 'Yemen']"
      ],
      "execution_count": null,
      "outputs": []
    },
    {
      "cell_type": "code",
      "metadata": {
        "id": "gz8lvkd0fO03"
      },
      "source": [
        "# get an overview of missing values in income data\r\n",
        "sb.heatmap(income_data_preprocessed.isna(), cbar = False);\r\n",
        "\r\n",
        "# it seems there is pattern between the missing values of the columns iso_alpha3_code, iso_alpha2_code, m49_code and population_total\r\n",
        "income_data_preprocessed.loc[income_data_preprocessed['gni_per_capita_us_dollar'].isna()].country_name.unique().tolist()"
      ],
      "execution_count": null,
      "outputs": []
    },
    {
      "cell_type": "markdown",
      "metadata": {
        "id": "4WucPBil7xQ8"
      },
      "source": [
        "## Load thresholds and sdr deflators\r\n"
      ]
    },
    {
      "cell_type": "code",
      "metadata": {
        "id": "ALYXSRiPrnGY"
      },
      "source": [
        "# load income-level thresholds\r\n",
        "income_threshold_data = pd.read_csv('/content/drive/MyDrive/Git/dopp_2020w_group03_ex3/data/world_bank_income_level_thresholds.csv', sep = ',')\r\n",
        "income_threshold_data.drop(['banks_fiscal_year'], axis = 1, inplace = True)\r\n",
        "\r\n",
        "# load sdr deflator values\r\n",
        "sdr_deflator_data = pd.read_csv('/content/drive/MyDrive/Git/dopp_2020w_group03_ex3/data/world_bank_sdr_deflator.csv', sep = ',')\r\n",
        "sdr_deflator_data.drop(['sdr_deflator_us_dollar'], axis = 1, inplace = True)\r\n",
        "\r\n",
        "# create index on calendar_year\r\n",
        "income_threshold_data.set_index(['calendar_year'], inplace = True)\r\n",
        "sdr_deflator_data.set_index(['calendar_year'], inplace = True)\r\n",
        "\r\n",
        "# merge income_threshold_data and sdr_deflator_data using index 'calendar_year'\r\n",
        "threshold_data = income_threshold_data.merge(sdr_deflator_data, how = 'inner', left_index = True, right_index = True)\r\n",
        "\r\n",
        "# visualize missing threshold values using a heatmap\r\n",
        "sb.heatmap(threshold_data[['low_income_level_threshold', 'middle_income_level_threshold', 'high_income_level_threshold']].isna(), cbar = False);"
      ],
      "execution_count": null,
      "outputs": []
    },
    {
      "cell_type": "markdown",
      "metadata": {
        "id": "WOA-6HmO8Dbp"
      },
      "source": [
        "## Calculate missing thresholds using sdr deflators\r\n"
      ]
    },
    {
      "cell_type": "code",
      "metadata": {
        "id": "UprCduwpmDL9"
      },
      "source": [
        "def calculate_missing_thresholds(input_data):\r\n",
        "    \r\n",
        "    df = pd.DataFrame(input_data)\r\n",
        "    \r\n",
        "    thresholds_list = ['low_income_level_threshold', 'middle_income_level_threshold', 'high_income_level_threshold']   \r\n",
        "    \r\n",
        "    # calculate missing values\r\n",
        "    for row_index in range(0, len(df)):\r\n",
        "      \r\n",
        "      # retrieve current index\r\n",
        "      curr_index = df.index.max() - row_index\r\n",
        "      for threshold in thresholds_list:\r\n",
        "        \r\n",
        "        # check if threshold value is missing\r\n",
        "        if(np.isnan(df.loc[curr_index, threshold])):\r\n",
        "          \r\n",
        "          # calculate missing threshold value based on existing threshold and sdr_inflation_rate_annual_change\r\n",
        "          df.loc[curr_index, threshold] = df.loc[curr_index + 1, threshold] / (100 + df.loc[curr_index + 1, 'sdr_inflation_rate_annual_change']) * 100\r\n",
        "    \r\n",
        "    # round thresholds to nearest multiple of base\r\n",
        "    base = 5\r\n",
        "    for threshold in thresholds_list:\r\n",
        "      df[threshold] = round(df[threshold] / base) * base\r\n",
        "\r\n",
        "    return df[thresholds_list]\r\n",
        "\r\n",
        "threshold_data_complete = calculate_missing_thresholds(threshold_data)\r\n",
        "\r\n",
        "# check whether or not all missing values have been replaced\r\n",
        "sb.heatmap(threshold_data_complete.isna(), cbar = False);"
      ],
      "execution_count": null,
      "outputs": []
    },
    {
      "cell_type": "markdown",
      "metadata": {
        "id": "ZkwUcixAG-QB"
      },
      "source": [
        "## Assign income-level labels based on gni and income-level thresholds"
      ]
    },
    {
      "cell_type": "code",
      "metadata": {
        "id": "8KFdBCwxyjEn"
      },
      "source": [
        "# merge income_data_preprocessed and threshold_data_complete using calendar_year\r\n",
        "income_classification_data = income_data_preprocessed.merge(threshold_data_complete, how = 'left', on = 'calendar_year')\r\n",
        "\r\n",
        "# assign income-level labels based on gni and thresholds\r\n",
        "income_classification_data.loc[(income_classification_data['gni_per_capita_us_dollar'] <= income_classification_data['low_income_level_threshold']), 'income_level_label'] = 'low_income'\r\n",
        "income_classification_data.loc[((income_classification_data['gni_per_capita_us_dollar'] > income_classification_data['low_income_level_threshold']) & \r\n",
        "                        (income_classification_data['gni_per_capita_us_dollar'] <= income_classification_data['middle_income_level_threshold'])), 'income_level_label'] = 'lower_middle_income'\r\n",
        "income_classification_data.loc[((income_classification_data['gni_per_capita_us_dollar'] > income_classification_data['middle_income_level_threshold']) & \r\n",
        "                        (income_classification_data['gni_per_capita_us_dollar'] <= income_classification_data['high_income_level_threshold'])), 'income_level_label'] = 'upper_middle_income'\r\n",
        "income_classification_data.loc[(income_classification_data['gni_per_capita_us_dollar'] > income_classification_data['high_income_level_threshold']), 'income_level_label'] = 'high_income'\r\n",
        "\r\n",
        "# create index on calendar_year and iso_alpha3_code\r\n",
        "#income_classification_data.reset_index(inplace = True)\r\n",
        "#income_classification_data.set_index(['calendar_year', 'iso_alpha3_code'], inplace = True)\r\n",
        "\r\n",
        "income_classification_data.tail()"
      ],
      "execution_count": null,
      "outputs": []
    },
    {
      "cell_type": "code",
      "metadata": {
        "id": "ib02jHscOTtS"
      },
      "source": [
        "# counts the number of missing values (years) in gni data (population_total only placeholder in that line)\r\n",
        "income_classification_data.loc[income_classification_data['gni_per_capita_us_dollar'].isna()].groupby('country_name').count()"
      ],
      "execution_count": null,
      "outputs": []
    },
    {
      "cell_type": "markdown",
      "metadata": {
        "id": "_bLAKKKQrfsG"
      },
      "source": [
        "# Question 1"
      ]
    },
    {
      "cell_type": "code",
      "metadata": {
        "id": "iKm09AIYPa_V"
      },
      "source": [
        "#interesing countries [Russian Federation, Ukraine, South Sudan, Venezuela, RB, Korea, Dem. People’s Rep., ......]\r\n",
        "income_classification_data.loc[income_classification_data['country_name'] == 'Former Yugoslavia']"
      ],
      "execution_count": null,
      "outputs": []
    },
    {
      "cell_type": "markdown",
      "metadata": {
        "id": "HazsoZ5puAU1"
      },
      "source": [
        "### Finding countries with few entries"
      ]
    },
    {
      "cell_type": "code",
      "metadata": {
        "id": "sA8nI8P8uMe5"
      },
      "source": [
        "country_with_missing_entries = pd.DataFrame()\r\n",
        "\r\n",
        "country_with_missing_entries['gni_missing_years'] = income_classification_data.loc[income_classification_data['gni_per_capita_us_dollar'].isna()].groupby('country_name')['population_total'].count() #counts the number of missing year in gni data (population_totlal only placeholder in that line)\r\n",
        "country_with_missing_entries['population_maximum_when_missing'] = income_classification_data.loc[income_classification_data['gni_per_capita_us_dollar'].isna()].groupby('country_name')['population_total'].max()\r\n",
        "\r\n",
        "country_with_missing_entries[country_with_missing_entries['population_maximum_when_missing'] > 1.5e7]"
      ],
      "execution_count": null,
      "outputs": []
    },
    {
      "cell_type": "markdown",
      "metadata": {
        "id": "GEgcKVdKUEIA"
      },
      "source": [
        "## Calculating the population living in the different income levels"
      ]
    },
    {
      "cell_type": "code",
      "metadata": {
        "id": "8w6atxv7UPYA"
      },
      "source": [
        "#create sum of population of each income category for each year\r\n",
        "\r\n",
        "income_classification_data.set_index('calendar_year', inplace = True)\r\n",
        "\r\n",
        "population_income = pd.DataFrame()\r\n",
        "population_income['low_income_population'] = income_classification_data['population_total'].loc[income_classification_data['income_level_label'] == 'low_income'].groupby('calendar_year').sum()\r\n",
        "population_income['lower_middle_income_population'] = income_classification_data['population_total'].loc[income_classification_data['income_level_label'] == 'lower_middle_income'].groupby('calendar_year').sum()\r\n",
        "population_income['upper_middle_income_population'] = income_classification_data['population_total'].loc[income_classification_data['income_level_label'] == 'upper_middle_income'].groupby('calendar_year').sum()\r\n",
        "population_income['high_income_population'] = income_classification_data['population_total'].loc[income_classification_data['income_level_label'] == 'high_income'].groupby('calendar_year').sum()\r\n",
        "population_income['unknown_income_population'] = income_classification_data['population_total'].loc[income_classification_data['income_level_label'].isna()].groupby('calendar_year').sum()\r\n",
        "population_income['total_population'] = income_classification_data['population_total'].groupby('calendar_year').sum()\r\n",
        "\r\n",
        "population_income"
      ],
      "execution_count": null,
      "outputs": []
    },
    {
      "cell_type": "markdown",
      "metadata": {
        "id": "3pAZB1E2vv_P"
      },
      "source": [
        "## Visualisation"
      ]
    },
    {
      "cell_type": "code",
      "metadata": {
        "id": "gbIbmagseQai"
      },
      "source": [
        "#plot income classification count over time\r\n",
        "plt.plot(population_income['high_income_population'], label = 'high_income' )\r\n",
        "plt.plot(population_income['upper_middle_income_population'], label = 'upper_middle_income')\r\n",
        "plt.plot(population_income['lower_middle_income_population'], label = 'lower_middle_income')\r\n",
        "plt.plot(population_income['low_income_population'], label = 'low_income')\r\n",
        "plt.plot(population_income['unknown_income_population'], label = 'unknown_income')\r\n",
        "plt.xlabel('Calendar Year')\r\n",
        "plt.ylabel('Number of People')\r\n",
        "plt.legend()\r\n",
        "plt.show()\r\n",
        "\r\n",
        "#plot known / unknown classification count over time\r\n",
        "plt.plot((population_income['total_population']-population_income['unknown_income_population']), label = 'known_income' )\r\n",
        "plt.plot(population_income['unknown_income_population'], label = 'unknown_income')\r\n",
        "plt.xlabel('Calendar Year')\r\n",
        "plt.ylabel('Number of People')\r\n",
        "plt.legend()\r\n",
        "plt.show()\r\n",
        "\r\n",
        "#plot income of the 5 lagrgest countries in 2018\r\n",
        "countries_most_populous = income_classification_data.loc[2018].nlargest(5,'population_total')['country_name'].values\r\n",
        "years = range(1970,2020)\r\n",
        "high_income_treshold = threshold_data_complete[threshold_data_complete.index.isin(years)]['high_income_level_threshold'].values\r\n",
        "middle_income_treshold = threshold_data_complete[threshold_data_complete.index.isin(years)]['middle_income_level_threshold'].values\r\n",
        "low_income_treshold = threshold_data_complete[threshold_data_complete.index.isin(years)]['low_income_level_threshold'].values\r\n",
        "\r\n",
        "fig, ax = plt.subplots()\r\n",
        "for i in range(5):\r\n",
        "  ax.plot(income_classification_data['gni_per_capita_us_dollar'].loc[income_classification_data['country_name']==countries_most_populous[i]],label = countries_most_populous[i])\r\n",
        "\r\n",
        "plt.yscale('log')\r\n",
        "\r\n",
        "ax.fill_between(years,high_income_treshold,1e5,alpha=0.3)\r\n",
        "ax.fill_between(years,high_income_treshold, middle_income_treshold,alpha=0.3)\r\n",
        "ax.fill_between(years,low_income_treshold, middle_income_treshold,alpha=0.3)\r\n",
        "ax.fill_between(years,low_income_treshold,0, alpha=0.3)\r\n",
        "ax.text(2004, 1.5e2, 'low income', fontsize=9, color = 'White')\r\n",
        "ax.text(1980, 1.3e3, 'lower_middle_income', fontsize=9, color = 'White')\r\n",
        "ax.text(1990, 5e3, 'upper_middle_income', fontsize=9, color = 'White')\r\n",
        "ax.text(2000, 2e4, 'high_income', fontsize=9, color = 'White')\r\n",
        "\r\n",
        "ax.set_xlabel('Calendar Year')\r\n",
        "ax.set_ylabel('GNI per Capita in US Dollar')\r\n",
        "plt.xlim([1970,2019])\r\n",
        "plt.ylim([5e1,1e5])\r\n",
        "plt.legend()\r\n",
        "plt.show()\r\n",
        "\r\n",
        "\r\n",
        "#show histogram of differtent income levels in 2018\r\n",
        "income_classification_data['income_level_label'].loc[2018].hist( grid=False)\r\n",
        "plt.show() \r\n",
        "\r\n",
        "# income_classification_data =  income_classification_data.loc[income_classification_data['population_total'] > 1000000.0]\r\n",
        "# print(income_classification_data)\r\n",
        "# print(income_classification_data[['population_total', 'income_level_label']].groupby(['calendar_year', 'income_level_label']).sum().groupby('calendar_year').sum())\r\n",
        "\r\n",
        "#create df to show the sum of coutries for each income classification\r\n",
        "income_classification_count = income_classification_data['income_level_label'].groupby('calendar_year').value_counts(dropna = False)\r\n",
        "\r\n",
        "#plot income classification count over time [sum of countries]\r\n",
        "plt.plot(income_classification_count[:,'high_income'], label = 'high_income' )\r\n",
        "plt.plot(income_classification_count[:,'upper_middle_income'], label = 'upper_middle_income')\r\n",
        "plt.plot(income_classification_count[:,'lower_middle_income'], label = 'lower_middle_income')\r\n",
        "plt.plot(income_classification_count[:,'low_income'], label = 'low_income')\r\n",
        "plt.xlabel('Calendar Year')\r\n",
        "plt.ylabel('Number of Countries')\r\n",
        "plt.legend()\r\n",
        "plt.show()\r\n",
        "\r\n",
        "#plot total count of classification entries each year [sum of countries]\r\n",
        "income_classification_total_count = income_classification_count[:,'high_income']+income_classification_count[:,'upper_middle_income']+income_classification_count[:,'lower_middle_income']+income_classification_count[:,'low_income']\r\n",
        "plt.plot(income_classification_total_count, label = 'total_classification_count', color = 'black')\r\n",
        "plt.plot(income_classification_count[:,np.nan], label = 'no_classification')\r\n",
        "plt.xlabel('Calendar Year')\r\n",
        "plt.ylabel('Number of Countries')\r\n",
        "plt.legend()\r\n",
        "plt.show()\r\n"
      ],
      "execution_count": null,
      "outputs": []
    },
    {
      "cell_type": "markdown",
      "metadata": {
        "id": "yghsEQkMNPlr"
      },
      "source": [
        "## World Map Visualtisation (Choropleth Map)"
      ]
    },
    {
      "cell_type": "code",
      "metadata": {
        "id": "5ZeHmghtNOl7"
      },
      "source": [
        "#load geometry data for all countries \r\n",
        "world = geopandas.read_file(geopandas.datasets.get_path('naturalearth_lowres'))\r\n",
        "\r\n",
        "#correct wrong iso code\r\n",
        "world['iso_a3'].loc[world['name'] == 'France'] = 'FRA'\r\n",
        "world['iso_a3'].loc[world['name'] == 'Norway'] = 'NOR'\r\n",
        "world['iso_a3'].loc[world['name'] == 'Kosovo'] = 'XKX'\r\n",
        "\r\n",
        "#drop unnecessary columns\r\n",
        "country_shapes = world[['geometry', 'iso_a3']]\r\n",
        "\r\n",
        "#merge geometry with income data on country code, select year to look at\r\n",
        "geo_income_data = country_shapes.merge(income_classification_data.loc[2018], left_on='iso_a3', right_on='iso_alpha3_code')\r\n",
        "\r\n",
        "#plot map\r\n",
        "legend_dict = {'bbox_to_anchor' : (1., 1), 'loc' :'upper left'}\r\n",
        "missing_dict = {\"color\": \"lightgrey\",\"label\": \"unknown_income\"}\r\n",
        "colors = ['dodgerblue','maroon','lightcoral','skyblue']\r\n",
        "geo_income_data.plot(column='income_level_label', legend = True, legend_kwds = legend_dict, figsize=(15, 10), missing_kwds = missing_dict, cmap = matplotlib.colors.ListedColormap(colors))\r\n",
        "\r\n"
      ],
      "execution_count": null,
      "outputs": []
    },
    {
      "cell_type": "markdown",
      "metadata": {
        "id": "maNKqI1AYRo0"
      },
      "source": [
        "# Question 2"
      ]
    },
    {
      "cell_type": "markdown",
      "metadata": {
        "id": "co1-PW06YZyx"
      },
      "source": [
        "## Data Preprocessing"
      ]
    },
    {
      "cell_type": "markdown",
      "metadata": {
        "id": "m99raLyMor7k"
      },
      "source": [
        "### Load Data"
      ]
    },
    {
      "cell_type": "code",
      "metadata": {
        "colab": {
          "base_uri": "https://localhost:8080/",
          "height": 841
        },
        "id": "E7KcaJodYlwS",
        "outputId": "fe68d9aa-5a56-4252-dab8-a4bf29dc22a3"
      },
      "source": [
        "# load indicator data from csv (World Bank Data)\r\n",
        "indicator_data = pd.read_csv('/content/drive/MyDrive/Git/dopp_2020w_group03_ex3/data/data_indicators_1.csv', sep = ',')\r\n",
        "indicator_data.replace('..',np.nan,inplace=True)\r\n",
        "\r\n",
        "# drop GNI and Population Data (use this data from Question 1 (UN Data))\r\n",
        "indicator_data.drop(labels= ['GNI per capita, Atlas method (current US$) [NY.GNP.PCAP.CD]','Population, total [SP.POP.TOTL]'], axis = 1, inplace = True)\r\n",
        "\r\n",
        "#rename columns\r\n",
        "rename_columns_dict = {'Time':'calendar_year','Country Code':'country_code','Fertility rate, total (births per woman) [SP.DYN.TFRT.IN]':'fertility_rate','Urban population (% of total population) [SP.URB.TOTL.IN.ZS]':'urban_population','Access to electricity (% of population) [EG.ELC.ACCS.ZS]':'access_electricity', 'Agriculture, forestry, and fishing, value added (% of GDP) [NV.AGR.TOTL.ZS]':'agriculture_forestry_fishing_sector','Unemployment, total (% of total labor force) (modeled ILO estimate) [SL.UEM.TOTL.ZS]':'unemployment'}\r\n",
        "indicator_data.rename(rename_columns_dict, axis='columns',inplace=True)\r\n",
        "\r\n",
        "#set index \r\n",
        "indicator_data.set_index(['calendar_year','country_code'], inplace = True)\r\n",
        "\r\n",
        "# only use Data from 1970 - 2018\r\n",
        "#indicator_data = indicator_data.loc['1970':'2018']\r\n",
        "\r\n",
        "# heatmap of missing values\r\n",
        "sb.heatmap(indicator_data.isna(), cbar = False);"
      ],
      "execution_count": null,
      "outputs": [
        {
          "output_type": "display_data",
          "data": {
            "image/png": "[encoded data removed]",
            "text/plain": [
              "<Figure size 432x288 with 1 Axes>"
            ]
          },
          "metadata": {
            "tags": [],
            "needs_background": "light"
          }
        }
      ]
    },
    {
      "cell_type": "code",
      "metadata": {
        "colab": {
          "base_uri": "https://localhost:8080/",
          "height": 450
        },
        "id": "4NuzDXegkVrB",
        "outputId": "9d3140b6-10f3-4b47-b234-793bd238aeaf"
      },
      "source": [
        "# select only ceratain parameters (drop columns with very few entries)\r\n",
        "\r\n",
        "indicator_data = indicator_data[['country_code','fertility_rate','urban_population','access_electricity', 'agriculture_forestry_fishing_sector','unemployment']]\r\n",
        "\r\n",
        "indicator_data"
      ],
      "execution_count": null,
      "outputs": [
        {
          "output_type": "execute_result",
          "data": {
            "text/html": [
              "<div>\n",
              "<style scoped>\n",
              "    .dataframe tbody tr th:only-of-type {\n",
              "        vertical-align: middle;\n",
              "    }\n",
              "\n",
              "    .dataframe tbody tr th {\n",
              "        vertical-align: top;\n",
              "    }\n",
              "\n",
              "    .dataframe thead th {\n",
              "        text-align: right;\n",
              "    }\n",
              "</style>\n",
              "<table border=\"1\" class=\"dataframe\">\n",
              "  <thead>\n",
              "    <tr style=\"text-align: right;\">\n",
              "      <th></th>\n",
              "      <th>country_code</th>\n",
              "      <th>fertility_rate</th>\n",
              "      <th>urban_population</th>\n",
              "      <th>access_electricity</th>\n",
              "      <th>agriculture_forestry_fishing_sector</th>\n",
              "      <th>unemployment</th>\n",
              "    </tr>\n",
              "    <tr>\n",
              "      <th>Time</th>\n",
              "      <th></th>\n",
              "      <th></th>\n",
              "      <th></th>\n",
              "      <th></th>\n",
              "      <th></th>\n",
              "      <th></th>\n",
              "    </tr>\n",
              "  </thead>\n",
              "  <tbody>\n",
              "    <tr>\n",
              "      <th>1970</th>\n",
              "      <td>ARG</td>\n",
              "      <td>3.079</td>\n",
              "      <td>78.88</td>\n",
              "      <td>NaN</td>\n",
              "      <td>9.6375609641048</td>\n",
              "      <td>NaN</td>\n",
              "    </tr>\n",
              "    <tr>\n",
              "      <th>1970</th>\n",
              "      <td>AUS</td>\n",
              "      <td>2.859</td>\n",
              "      <td>83.999</td>\n",
              "      <td>NaN</td>\n",
              "      <td>NaN</td>\n",
              "      <td>NaN</td>\n",
              "    </tr>\n",
              "    <tr>\n",
              "      <th>1970</th>\n",
              "      <td>BRA</td>\n",
              "      <td>4.972</td>\n",
              "      <td>55.909</td>\n",
              "      <td>NaN</td>\n",
              "      <td>10.3736196442959</td>\n",
              "      <td>NaN</td>\n",
              "    </tr>\n",
              "    <tr>\n",
              "      <th>1970</th>\n",
              "      <td>CHN</td>\n",
              "      <td>5.725</td>\n",
              "      <td>17.4</td>\n",
              "      <td>NaN</td>\n",
              "      <td>34.7984383910164</td>\n",
              "      <td>NaN</td>\n",
              "    </tr>\n",
              "    <tr>\n",
              "      <th>1970</th>\n",
              "      <td>FRA</td>\n",
              "      <td>2.55</td>\n",
              "      <td>71.055</td>\n",
              "      <td>NaN</td>\n",
              "      <td>6.62779041830419</td>\n",
              "      <td>NaN</td>\n",
              "    </tr>\n",
              "    <tr>\n",
              "      <th>...</th>\n",
              "      <td>...</td>\n",
              "      <td>...</td>\n",
              "      <td>...</td>\n",
              "      <td>...</td>\n",
              "      <td>...</td>\n",
              "      <td>...</td>\n",
              "    </tr>\n",
              "    <tr>\n",
              "      <th>2018</th>\n",
              "      <td>WSM</td>\n",
              "      <td>3.877</td>\n",
              "      <td>18.243</td>\n",
              "      <td>100</td>\n",
              "      <td>9.76989144032775</td>\n",
              "      <td>8.3120002746582</td>\n",
              "    </tr>\n",
              "    <tr>\n",
              "      <th>2018</th>\n",
              "      <td>SMR</td>\n",
              "      <td>NaN</td>\n",
              "      <td>97.226</td>\n",
              "      <td>100</td>\n",
              "      <td>NaN</td>\n",
              "      <td>NaN</td>\n",
              "    </tr>\n",
              "    <tr>\n",
              "      <th>2018</th>\n",
              "      <td>STP</td>\n",
              "      <td>4.321</td>\n",
              "      <td>72.803</td>\n",
              "      <td>71</td>\n",
              "      <td>11.3967458046852</td>\n",
              "      <td>13.1479997634888</td>\n",
              "    </tr>\n",
              "    <tr>\n",
              "      <th>2018</th>\n",
              "      <td>SEN</td>\n",
              "      <td>4.625</td>\n",
              "      <td>47.192</td>\n",
              "      <td>66.9594497680664</td>\n",
              "      <td>15.0157298429402</td>\n",
              "      <td>6.52699995040894</td>\n",
              "    </tr>\n",
              "    <tr>\n",
              "      <th>2018</th>\n",
              "      <td>SRB</td>\n",
              "      <td>1.49</td>\n",
              "      <td>56.092</td>\n",
              "      <td>100</td>\n",
              "      <td>6.34278337092698</td>\n",
              "      <td>12.7329998016357</td>\n",
              "    </tr>\n",
              "  </tbody>\n",
              "</table>\n",
              "<p>10633 rows × 6 columns</p>\n",
              "</div>"
            ],
            "text/plain": [
              "     country_code  ...      unemployment\n",
              "Time               ...                  \n",
              "1970          ARG  ...               NaN\n",
              "1970          AUS  ...               NaN\n",
              "1970          BRA  ...               NaN\n",
              "1970          CHN  ...               NaN\n",
              "1970          FRA  ...               NaN\n",
              "...           ...  ...               ...\n",
              "2018          WSM  ...   8.3120002746582\n",
              "2018          SMR  ...               NaN\n",
              "2018          STP  ...  13.1479997634888\n",
              "2018          SEN  ...  6.52699995040894\n",
              "2018          SRB  ...  12.7329998016357\n",
              "\n",
              "[10633 rows x 6 columns]"
            ]
          },
          "metadata": {
            "tags": []
          },
          "execution_count": 51
        }
      ]
    },
    {
      "cell_type": "markdown",
      "metadata": {
        "id": "MGjAsIo9o0hm"
      },
      "source": [
        "### Merge with Data from Question 1"
      ]
    },
    {
      "cell_type": "code",
      "metadata": {
        "colab": {
          "base_uri": "https://localhost:8080/",
          "height": 163
        },
        "id": "BxHHmiKfomPz",
        "outputId": "c481cb81-9128-4340-f92c-68c841a59234"
      },
      "source": [
        "income_classification_data"
      ],
      "execution_count": null,
      "outputs": [
        {
          "output_type": "error",
          "ename": "NameError",
          "evalue": "ignored",
          "traceback": [
            "\u001b[0;31m---------------------------------------------------------------------------\u001b[0m",
            "\u001b[0;31mNameError\u001b[0m                                 Traceback (most recent call last)",
            "\u001b[0;32m<ipython-input-60-0063c01e3703>\u001b[0m in \u001b[0;36m<module>\u001b[0;34m()\u001b[0m\n\u001b[0;32m----> 1\u001b[0;31m \u001b[0mincome_classification_data\u001b[0m\u001b[0;34m\u001b[0m\u001b[0;34m\u001b[0m\u001b[0m\n\u001b[0m",
            "\u001b[0;31mNameError\u001b[0m: name 'income_classification_data' is not defined"
          ]
        }
      ]
    }
  ]
}
{
  "nbformat": 4,
  "nbformat_minor": 0,
  "metadata": {
    "colab": {
      "name": "dopp_2020w_group03_ex3_with_git.ipynb",
      "provenance": [],
      "collapsed_sections": [],
      "toc_visible": true,
      "include_colab_link": true
    },
    "kernelspec": {
      "name": "python3",
      "display_name": "Python 3"
    }
  },
  "cells": [
    {
      "cell_type": "markdown",
      "metadata": {
        "id": "view-in-github",
        "colab_type": "text"
      },
      "source": [
        "<a href=\"https://colab.research.google.com/github/christoph-fraller/dopp_2020w_group03_ex3/blob/main/dopp_2020w_group03_ex3_with_git.ipynb\" target=\"_parent\"><img src=\"https://colab.research.google.com/assets/colab-badge.svg\" alt=\"Open In Colab\"/></a>"
      ]
    },
    {
      "cell_type": "markdown",
      "metadata": {
        "id": "_n-eLlFeXXOH"
      },
      "source": [
        "# Generate SSH-Keys for Accessing Git Repository"
      ]
    },
    {
      "cell_type": "code",
      "metadata": {
        "colab": {
          "base_uri": "https://localhost:8080/"
        },
        "id": "fMNYj7F2o5Fz",
        "outputId": "25c3a0bd-4968-4d02-b8ed-8334f454b231"
      },
      "source": [
        "# import and mount google drive\n",
        "from google.colab import drive\n",
        "drive.mount('/content/drive')"
      ],
      "execution_count": 1,
      "outputs": [
        {
          "output_type": "stream",
          "text": [
            "Drive already mounted at /content/drive; to attempt to forcibly remount, call drive.mount(\"/content/drive\", force_remount=True).\n"
          ],
          "name": "stdout"
        }
      ]
    },
    {
      "cell_type": "code",
      "metadata": {
        "colab": {
          "base_uri": "https://localhost:8080/"
        },
        "id": "v_vOiBlVR6Of",
        "outputId": "96fa3674-a162-476d-9a9c-6c8ade0b2de1"
      },
      "source": [
        "# generate ssh keys (insert your username@github.com + hit enter when prompted for any answer)\r\n",
        "! ssh-keygen -t rsa -b 4096 -C 'christoph-fraller@github.com'"
      ],
      "execution_count": 2,
      "outputs": [
        {
          "output_type": "stream",
          "text": [
            "Generating public/private rsa key pair.\n",
            "Enter file in which to save the key (/root/.ssh/id_rsa): \n",
            "/root/.ssh/id_rsa already exists.\n",
            "Overwrite (y/n)? ^C\n"
          ],
          "name": "stdout"
        }
      ]
    },
    {
      "cell_type": "code",
      "metadata": {
        "colab": {
          "base_uri": "https://localhost:8080/"
        },
        "id": "NLYpBS4KYhhf",
        "outputId": "a02b8a39-9fb3-406e-e0b8-118409fb7e39"
      },
      "source": [
        "# check whether or not the ssh keys have been created ('id_rsa' and 'id_rsa.pub' should be displayed)\r\n",
        "! ls /root/.ssh/"
      ],
      "execution_count": 3,
      "outputs": [
        {
          "output_type": "stream",
          "text": [
            "id_rsa\tid_rsa.pub  known_hosts\n"
          ],
          "name": "stdout"
        }
      ]
    },
    {
      "cell_type": "code",
      "metadata": {
        "id": "8Rx2E_IgUraa"
      },
      "source": [
        "# create directory for saving the ssh keys\r\n",
        "! mkdir -p /content/drive/MyDrive/Ssh"
      ],
      "execution_count": 4,
      "outputs": []
    },
    {
      "cell_type": "code",
      "metadata": {
        "id": "ucFTIsSEVeZ0"
      },
      "source": [
        "# copy ssh keys from /root/.ssh/* to /content/drive/MyDrive/Ssh/*\r\n",
        "! cp /root/.ssh/id_rsa /content/drive/MyDrive/Ssh/\r\n",
        "! cp /root/.ssh/id_rsa.pub /content/drive/MyDrive/Ssh/"
      ],
      "execution_count": 5,
      "outputs": []
    },
    {
      "cell_type": "code",
      "metadata": {
        "colab": {
          "base_uri": "https://localhost:8080/"
        },
        "id": "ekNM8je8SefW",
        "outputId": "894da918-053d-4d41-8d61-bcf756a63ebf"
      },
      "source": [
        "# display public ssh key for copy/paste\r\n",
        "! cat /content/drive/MyDrive/Ssh/id_rsa.pub"
      ],
      "execution_count": 6,
      "outputs": [
        {
          "output_type": "stream",
          "text": [
            "ssh-rsa AAAAB3NzaC1yc2EAAAADAQABAAACAQDB/4vlF0AnzwXwMPthgQP5FlcRYOGQXpvaUuFK8XB8vmdt7N5K/o5drPc9uErxFkc7SkBPDCuBNoeZFS2KseqAEPm3PLcrqpPwJc/WPf0mAAXHf4alH0owIoEu+V3fMHV6URMcapA47tgHC3HAlJS5W3m1ctPBhVoqQwZ+pRN+kEdQBxrdGeGBe/Ea4P9jIrv5kfdAneeAhUg0TgtEYHxTHfCYcwEDDkkkbiVdGxlChW87zolnOxa5dJQ3bLCXkqBA+kM5OLw99qTObVmBJsDBorN3XFuAGAZ4UX4j2QnBvWz9RjHngZ8BgceofvTdSiGK3aGWj9L+BYigZhiF+qMOZF2tnF1DmWgiMxXwDZF61+FnXdO+25JBjo/Q1r6i0XIV1OG5iz89zmXev40gdBeQ2cqDiQisqCb46EvZpQQsPwZfDJ7M1RV/evNVVus2Kr5j1yQL3BcrW3dhnqNj1kukJ4fYgT1FUAEkrbqf8C6k6vp1nml9oqKM+lMy+8CQ1zt/bblz2eqoUhOSvuwUH4YIjcKOP4SuwEKfaVSXXjfbMFxgEGkO35up5zpud80TWpQwVSNIsLa/MrAb7OUeF+NgEG4h1UC5jtrc/109USgKNcwBud2N0GdzV4frwRZzoO/BLnOOLWXVj3B/tVWfTh0uGFN3mH4Au0yf5ssxRIEaBQ== christoph-fraller@github.com\n"
          ],
          "name": "stdout"
        }
      ]
    },
    {
      "cell_type": "code",
      "metadata": {
        "colab": {
          "base_uri": "https://localhost:8080/"
        },
        "id": "XqNlD7pxTI6I",
        "outputId": "f09240a7-fcb5-4ded-de3e-db333da73c80"
      },
      "source": [
        "# add github to known hosts and adapt file access permissions\r\n",
        "! ssh-keyscan github.com >> /root/.ssh/known_hosts\r\n",
        "! chmod 644 /root/.ssh/known_hosts\r\n",
        "! chmod 600 /root/.ssh/id_rsa\r\n",
        "! ssh -T git@github.com"
      ],
      "execution_count": 7,
      "outputs": [
        {
          "output_type": "stream",
          "text": [
            "# github.com:22 SSH-2.0-babeld-78794f53\n",
            "# github.com:22 SSH-2.0-babeld-78794f53\n",
            "# github.com:22 SSH-2.0-babeld-78794f53\n",
            "Hi christoph-fraller/dopp_2020w_group03_ex3! You've successfully authenticated, but GitHub does not provide shell access.\n"
          ],
          "name": "stdout"
        }
      ]
    },
    {
      "cell_type": "markdown",
      "metadata": {
        "id": "7sqVqK8YHeSS"
      },
      "source": [
        "# Git Setup"
      ]
    },
    {
      "cell_type": "code",
      "metadata": {
        "id": "m57DJRGnO5B0"
      },
      "source": [
        "# git config settings (replace with your credentials)\r\n",
        "! git config --global user.email \"christoph.fraller@gmail.com\"\r\n",
        "! git config --global user.name \"christoph-fraller\""
      ],
      "execution_count": 8,
      "outputs": []
    },
    {
      "cell_type": "code",
      "metadata": {
        "id": "qEkuNsHeC8bF"
      },
      "source": [
        "# create directory for git repositories\r\n",
        "! mkdir -p /content/drive/MyDrive/Git"
      ],
      "execution_count": 9,
      "outputs": []
    },
    {
      "cell_type": "code",
      "metadata": {
        "colab": {
          "base_uri": "https://localhost:8080/"
        },
        "id": "WgI7KaUuVyPG",
        "outputId": "3f7e94a6-17f2-49a2-b04b-7f2f234146ac"
      },
      "source": [
        "# git-clone has to be performed only once when setting up the git repo at your google drive\r\n",
        "! git clone git@github.com:christoph-fraller/dopp_2020w_group03_ex3.git /content/drive/MyDrive/Git/dopp_2020w_group03_ex3"
      ],
      "execution_count": 10,
      "outputs": [
        {
          "output_type": "stream",
          "text": [
            "fatal: destination path '/content/drive/MyDrive/Git/dopp_2020w_group03_ex3' already exists and is not an empty directory.\n"
          ],
          "name": "stdout"
        }
      ]
    },
    {
      "cell_type": "markdown",
      "metadata": {
        "id": "hb6rrvXMI4i_"
      },
      "source": [
        "# Important Shell and Git Commands"
      ]
    },
    {
      "cell_type": "markdown",
      "metadata": {
        "id": "ZDb8FOn5JC2h"
      },
      "source": [
        "**NOTICE:** Always ensure that you are in the right directory when performing git commands (e.g. /content/drive/MyDrive/Git/dopp_2020w_group03_ex3). In case of any issues that might occur when switching directories it is highly recommended to restart the runtime engine (CTRL + M + .)."
      ]
    },
    {
      "cell_type": "code",
      "metadata": {
        "colab": {
          "base_uri": "https://localhost:8080/"
        },
        "id": "GibAYNQjLDed",
        "outputId": "e37c7493-c236-4a8a-fcb6-d648090d0c1c"
      },
      "source": [
        "# check current working directory\r\n",
        "! pwd"
      ],
      "execution_count": 11,
      "outputs": [
        {
          "output_type": "stream",
          "text": [
            "/content\n"
          ],
          "name": "stdout"
        }
      ]
    },
    {
      "cell_type": "code",
      "metadata": {
        "colab": {
          "base_uri": "https://localhost:8080/"
        },
        "id": "I6F2toRiJ1yE",
        "outputId": "33203fd7-a6d4-4f8f-91a2-db5442470e2d"
      },
      "source": [
        "# switch to specified working directory\r\n",
        "%cd /content/drive/MyDrive/Git/dopp_2020w_group03_ex3"
      ],
      "execution_count": 12,
      "outputs": [
        {
          "output_type": "stream",
          "text": [
            "/content/drive/MyDrive/Git/dopp_2020w_group03_ex3\n"
          ],
          "name": "stdout"
        }
      ]
    },
    {
      "cell_type": "code",
      "metadata": {
        "colab": {
          "base_uri": "https://localhost:8080/"
        },
        "id": "AhKxY_7fJuRC",
        "outputId": "610eaf0d-4572-49cc-8633-39cb57823417"
      },
      "source": [
        "# list content of current working directory\r\n",
        "! ls"
      ],
      "execution_count": 13,
      "outputs": [
        {
          "output_type": "stream",
          "text": [
            "data  dopp_2020w_group03_ex3_with_git.ipynb  README.md\n"
          ],
          "name": "stdout"
        }
      ]
    },
    {
      "cell_type": "code",
      "metadata": {
        "colab": {
          "base_uri": "https://localhost:8080/"
        },
        "id": "PuJokwbqLMdf",
        "outputId": "3d9eb900-e462-4dd5-95d0-d570e70def04"
      },
      "source": [
        "# check git status\r\n",
        "! git status"
      ],
      "execution_count": 14,
      "outputs": [
        {
          "output_type": "stream",
          "text": [
            "On branch main\n",
            "Your branch is up to date with 'origin/main'.\n",
            "\n",
            "nothing to commit, working tree clean\n"
          ],
          "name": "stdout"
        }
      ]
    },
    {
      "cell_type": "code",
      "metadata": {
        "colab": {
          "base_uri": "https://localhost:8080/"
        },
        "id": "ViV1YHxQLQZH",
        "outputId": "b17b9ae0-e2e7-48de-c12d-258eca1ef0d5"
      },
      "source": [
        "# always perform a git pull before you start working or commit/push some changes\r\n",
        "! git pull"
      ],
      "execution_count": 15,
      "outputs": [
        {
          "output_type": "stream",
          "text": [
            "Already up to date.\n"
          ],
          "name": "stdout"
        }
      ]
    },
    {
      "cell_type": "code",
      "metadata": {
        "id": "AXfdcdIXOTk7"
      },
      "source": [
        "# add a new data file to git repo directly from colab\r\n",
        "# at first upload the file into the folder of your google drive\r\n",
        "# ! git add /content/drive/MyDrive/Git/dopp_2020w_group03_ex3/data/test.txt\r\n",
        "# ! git commit -m 'New file added.'\r\n",
        "# ! git push"
      ],
      "execution_count": 16,
      "outputs": []
    },
    {
      "cell_type": "markdown",
      "metadata": {
        "id": "4SZJVIvmWrVe"
      },
      "source": [
        "# Perform these steps everytime when a new session has been started"
      ]
    },
    {
      "cell_type": "code",
      "metadata": {
        "id": "YnKkBeH7Ww_B"
      },
      "source": [
        "# copy ssh keys from /content/drive/MyDrive/Ssh/* to /root/.ssh/*\r\n",
        "! cp /content/drive/MyDrive/Ssh/id_rsa /root/.ssh/\r\n",
        "! cp /content/drive/MyDrive/Ssh/id_rsa.pub /root/.ssh/ "
      ],
      "execution_count": 17,
      "outputs": []
    },
    {
      "cell_type": "code",
      "metadata": {
        "colab": {
          "base_uri": "https://localhost:8080/"
        },
        "id": "JD1i__xSX8s4",
        "outputId": "4df38c2f-ff21-4d45-b510-1e8456738b47"
      },
      "source": [
        "# add github to known hosts and adapt file access permissions\r\n",
        "! ssh-keyscan github.com >> /root/.ssh/known_hosts\r\n",
        "! chmod 644 /root/.ssh/known_hosts\r\n",
        "! chmod 600 /root/.ssh/id_rsa\r\n",
        "! ssh -T git@github.com"
      ],
      "execution_count": 18,
      "outputs": [
        {
          "output_type": "stream",
          "text": [
            "# github.com:22 SSH-2.0-babeld-78794f53\n",
            "# github.com:22 SSH-2.0-babeld-78794f53\n",
            "# github.com:22 SSH-2.0-babeld-78794f53\n",
            "Warning: Permanently added the RSA host key for IP address '140.82.112.4' to the list of known hosts.\n",
            "Hi christoph-fraller/dopp_2020w_group03_ex3! You've successfully authenticated, but GitHub does not provide shell access.\n"
          ],
          "name": "stdout"
        }
      ]
    },
    {
      "cell_type": "code",
      "metadata": {
        "colab": {
          "base_uri": "https://localhost:8080/"
        },
        "id": "e75ezFO2XS4_",
        "outputId": "241bc4c6-9368-4d67-9296-dd6035f0086e"
      },
      "source": [
        "# always perform a git pull before you start working or commit/push some changes\r\n",
        "! git pull"
      ],
      "execution_count": 19,
      "outputs": [
        {
          "output_type": "stream",
          "text": [
            "Already up to date.\n"
          ],
          "name": "stdout"
        }
      ]
    },
    {
      "cell_type": "markdown",
      "metadata": {
        "id": "AAa8Euy1xZYT"
      },
      "source": [
        "# Data Preprocessing"
      ]
    },
    {
      "cell_type": "code",
      "metadata": {
        "id": "nQu7-a5fxdFp"
      },
      "source": [
        "import pandas as pd"
      ],
      "execution_count": 20,
      "outputs": []
    },
    {
      "cell_type": "code",
      "metadata": {
        "id": "ygpvkk5TLY3i"
      },
      "source": [
        ""
      ],
      "execution_count": 20,
      "outputs": []
    },
    {
      "cell_type": "markdown",
      "metadata": {
        "id": "t9p9vTpUxlrp"
      },
      "source": [
        "###Load the data\n",
        "\n",
        "source: World Bank"
      ]
    },
    {
      "cell_type": "code",
      "metadata": {
        "id": "Afa2X0R4xqHk"
      },
      "source": [
        "def load_csv_data():\n",
        "    \n",
        "    data_file = pd.read_csv('/content/drive/MyDrive/Git/dopp_2020w_group03_ex3/data/data_indicators_1.csv', sep = ',')\n",
        "\n",
        "    return data_file\n",
        "\n",
        "data = load_csv_data()"
      ],
      "execution_count": 21,
      "outputs": []
    },
    {
      "cell_type": "code",
      "metadata": {
        "id": "dXvGLjvU4NRN",
        "colab": {
          "base_uri": "https://localhost:8080/",
          "height": 670
        },
        "outputId": "0b6d7b18-a45a-4cb4-cacc-953a4c544a68"
      },
      "source": [
        "data"
      ],
      "execution_count": 22,
      "outputs": [
        {
          "output_type": "execute_result",
          "data": {
            "text/html": [
              "<div>\n",
              "<style scoped>\n",
              "    .dataframe tbody tr th:only-of-type {\n",
              "        vertical-align: middle;\n",
              "    }\n",
              "\n",
              "    .dataframe tbody tr th {\n",
              "        vertical-align: top;\n",
              "    }\n",
              "\n",
              "    .dataframe thead th {\n",
              "        text-align: right;\n",
              "    }\n",
              "</style>\n",
              "<table border=\"1\" class=\"dataframe\">\n",
              "  <thead>\n",
              "    <tr style=\"text-align: right;\">\n",
              "      <th></th>\n",
              "      <th>Time</th>\n",
              "      <th>Time Code</th>\n",
              "      <th>Country Name</th>\n",
              "      <th>Country Code</th>\n",
              "      <th>GNI per capita, Atlas method (current US$) [NY.GNP.PCAP.CD]</th>\n",
              "      <th>Population, total [SP.POP.TOTL]</th>\n",
              "      <th>Educational attainment, at least completed primary, population 25+ years, total (%) (cumulative) [SE.PRM.CUAT.ZS]</th>\n",
              "      <th>Fertility rate, total (births per woman) [SP.DYN.TFRT.IN]</th>\n",
              "      <th>Unemployment, total (% of total labor force) (modeled ILO estimate) [SL.UEM.TOTL.ZS]</th>\n",
              "      <th>Agriculture, forestry, and fishing, value added (% of GDP) [NV.AGR.TOTL.ZS]</th>\n",
              "      <th>Total natural resources rents (% of GDP) [NY.GDP.TOTL.RT.ZS]</th>\n",
              "      <th>Urban population (% of total population) [SP.URB.TOTL.IN.ZS]</th>\n",
              "      <th>Access to electricity (% of population) [EG.ELC.ACCS.ZS]</th>\n",
              "      <th>Gini index (World Bank estimate) [SI.POV.GINI]</th>\n",
              "      <th>Consumer price index (2010 = 100) [FP.CPI.TOTL]</th>\n",
              "      <th>External balance on goods and services (% of GDP) [NE.RSB.GNFS.ZS]</th>\n",
              "      <th>Central government debt, total (% of GDP) [GC.DOD.TOTL.GD.ZS]</th>\n",
              "    </tr>\n",
              "  </thead>\n",
              "  <tbody>\n",
              "    <tr>\n",
              "      <th>0</th>\n",
              "      <td>1960</td>\n",
              "      <td>YR1960</td>\n",
              "      <td>Argentina</td>\n",
              "      <td>ARG</td>\n",
              "      <td>..</td>\n",
              "      <td>20481779</td>\n",
              "      <td>..</td>\n",
              "      <td>3.109</td>\n",
              "      <td>..</td>\n",
              "      <td>..</td>\n",
              "      <td>..</td>\n",
              "      <td>73.611</td>\n",
              "      <td>..</td>\n",
              "      <td>..</td>\n",
              "      <td>..</td>\n",
              "      <td>2.12913319746322E-06</td>\n",
              "      <td>..</td>\n",
              "    </tr>\n",
              "    <tr>\n",
              "      <th>1</th>\n",
              "      <td>1960</td>\n",
              "      <td>YR1960</td>\n",
              "      <td>Australia</td>\n",
              "      <td>AUS</td>\n",
              "      <td>..</td>\n",
              "      <td>10276477</td>\n",
              "      <td>..</td>\n",
              "      <td>3.453</td>\n",
              "      <td>..</td>\n",
              "      <td>..</td>\n",
              "      <td>..</td>\n",
              "      <td>81.529</td>\n",
              "      <td>..</td>\n",
              "      <td>..</td>\n",
              "      <td>7.96045785639958</td>\n",
              "      <td>-1.067036411864</td>\n",
              "      <td>..</td>\n",
              "    </tr>\n",
              "    <tr>\n",
              "      <th>2</th>\n",
              "      <td>1960</td>\n",
              "      <td>YR1960</td>\n",
              "      <td>Brazil</td>\n",
              "      <td>BRA</td>\n",
              "      <td>..</td>\n",
              "      <td>72179226</td>\n",
              "      <td>..</td>\n",
              "      <td>6.061</td>\n",
              "      <td>..</td>\n",
              "      <td>17.6669984863859</td>\n",
              "      <td>..</td>\n",
              "      <td>46.139</td>\n",
              "      <td>..</td>\n",
              "      <td>..</td>\n",
              "      <td>..</td>\n",
              "      <td>-0.0582390668087098</td>\n",
              "      <td>..</td>\n",
              "    </tr>\n",
              "    <tr>\n",
              "      <th>3</th>\n",
              "      <td>1960</td>\n",
              "      <td>YR1960</td>\n",
              "      <td>China</td>\n",
              "      <td>CHN</td>\n",
              "      <td>..</td>\n",
              "      <td>667070000</td>\n",
              "      <td>..</td>\n",
              "      <td>5.756</td>\n",
              "      <td>..</td>\n",
              "      <td>23.1752941976736</td>\n",
              "      <td>..</td>\n",
              "      <td>16.203</td>\n",
              "      <td>..</td>\n",
              "      <td>..</td>\n",
              "      <td>..</td>\n",
              "      <td>-0.122440650295898</td>\n",
              "      <td>..</td>\n",
              "    </tr>\n",
              "    <tr>\n",
              "      <th>4</th>\n",
              "      <td>1960</td>\n",
              "      <td>YR1960</td>\n",
              "      <td>France</td>\n",
              "      <td>FRA</td>\n",
              "      <td>..</td>\n",
              "      <td>46621669</td>\n",
              "      <td>..</td>\n",
              "      <td>2.85</td>\n",
              "      <td>..</td>\n",
              "      <td>10.5372165520776</td>\n",
              "      <td>..</td>\n",
              "      <td>61.88</td>\n",
              "      <td>..</td>\n",
              "      <td>..</td>\n",
              "      <td>10.4335934118144</td>\n",
              "      <td>2.43412905154375</td>\n",
              "      <td>..</td>\n",
              "    </tr>\n",
              "    <tr>\n",
              "      <th>...</th>\n",
              "      <td>...</td>\n",
              "      <td>...</td>\n",
              "      <td>...</td>\n",
              "      <td>...</td>\n",
              "      <td>...</td>\n",
              "      <td>...</td>\n",
              "      <td>...</td>\n",
              "      <td>...</td>\n",
              "      <td>...</td>\n",
              "      <td>...</td>\n",
              "      <td>...</td>\n",
              "      <td>...</td>\n",
              "      <td>...</td>\n",
              "      <td>...</td>\n",
              "      <td>...</td>\n",
              "      <td>...</td>\n",
              "      <td>...</td>\n",
              "    </tr>\n",
              "    <tr>\n",
              "      <th>13237</th>\n",
              "      <td>NaN</td>\n",
              "      <td>NaN</td>\n",
              "      <td>NaN</td>\n",
              "      <td>NaN</td>\n",
              "      <td>NaN</td>\n",
              "      <td>NaN</td>\n",
              "      <td>NaN</td>\n",
              "      <td>NaN</td>\n",
              "      <td>NaN</td>\n",
              "      <td>NaN</td>\n",
              "      <td>NaN</td>\n",
              "      <td>NaN</td>\n",
              "      <td>NaN</td>\n",
              "      <td>NaN</td>\n",
              "      <td>NaN</td>\n",
              "      <td>NaN</td>\n",
              "      <td>NaN</td>\n",
              "    </tr>\n",
              "    <tr>\n",
              "      <th>13238</th>\n",
              "      <td>NaN</td>\n",
              "      <td>NaN</td>\n",
              "      <td>NaN</td>\n",
              "      <td>NaN</td>\n",
              "      <td>NaN</td>\n",
              "      <td>NaN</td>\n",
              "      <td>NaN</td>\n",
              "      <td>NaN</td>\n",
              "      <td>NaN</td>\n",
              "      <td>NaN</td>\n",
              "      <td>NaN</td>\n",
              "      <td>NaN</td>\n",
              "      <td>NaN</td>\n",
              "      <td>NaN</td>\n",
              "      <td>NaN</td>\n",
              "      <td>NaN</td>\n",
              "      <td>NaN</td>\n",
              "    </tr>\n",
              "    <tr>\n",
              "      <th>13239</th>\n",
              "      <td>NaN</td>\n",
              "      <td>NaN</td>\n",
              "      <td>NaN</td>\n",
              "      <td>NaN</td>\n",
              "      <td>NaN</td>\n",
              "      <td>NaN</td>\n",
              "      <td>NaN</td>\n",
              "      <td>NaN</td>\n",
              "      <td>NaN</td>\n",
              "      <td>NaN</td>\n",
              "      <td>NaN</td>\n",
              "      <td>NaN</td>\n",
              "      <td>NaN</td>\n",
              "      <td>NaN</td>\n",
              "      <td>NaN</td>\n",
              "      <td>NaN</td>\n",
              "      <td>NaN</td>\n",
              "    </tr>\n",
              "    <tr>\n",
              "      <th>13240</th>\n",
              "      <td>Data from database: World Development Indicators</td>\n",
              "      <td>NaN</td>\n",
              "      <td>NaN</td>\n",
              "      <td>NaN</td>\n",
              "      <td>NaN</td>\n",
              "      <td>NaN</td>\n",
              "      <td>NaN</td>\n",
              "      <td>NaN</td>\n",
              "      <td>NaN</td>\n",
              "      <td>NaN</td>\n",
              "      <td>NaN</td>\n",
              "      <td>NaN</td>\n",
              "      <td>NaN</td>\n",
              "      <td>NaN</td>\n",
              "      <td>NaN</td>\n",
              "      <td>NaN</td>\n",
              "      <td>NaN</td>\n",
              "    </tr>\n",
              "    <tr>\n",
              "      <th>13241</th>\n",
              "      <td>Last Updated: 12/16/2020</td>\n",
              "      <td>NaN</td>\n",
              "      <td>NaN</td>\n",
              "      <td>NaN</td>\n",
              "      <td>NaN</td>\n",
              "      <td>NaN</td>\n",
              "      <td>NaN</td>\n",
              "      <td>NaN</td>\n",
              "      <td>NaN</td>\n",
              "      <td>NaN</td>\n",
              "      <td>NaN</td>\n",
              "      <td>NaN</td>\n",
              "      <td>NaN</td>\n",
              "      <td>NaN</td>\n",
              "      <td>NaN</td>\n",
              "      <td>NaN</td>\n",
              "      <td>NaN</td>\n",
              "    </tr>\n",
              "  </tbody>\n",
              "</table>\n",
              "<p>13242 rows × 17 columns</p>\n",
              "</div>"
            ],
            "text/plain": [
              "                                                   Time  ... Central government debt, total (% of GDP) [GC.DOD.TOTL.GD.ZS]\n",
              "0                                                  1960  ...                                                 ..           \n",
              "1                                                  1960  ...                                                 ..           \n",
              "2                                                  1960  ...                                                 ..           \n",
              "3                                                  1960  ...                                                 ..           \n",
              "4                                                  1960  ...                                                 ..           \n",
              "...                                                 ...  ...                                                ...           \n",
              "13237                                               NaN  ...                                                NaN           \n",
              "13238                                               NaN  ...                                                NaN           \n",
              "13239                                               NaN  ...                                                NaN           \n",
              "13240  Data from database: World Development Indicators  ...                                                NaN           \n",
              "13241                          Last Updated: 12/16/2020  ...                                                NaN           \n",
              "\n",
              "[13242 rows x 17 columns]"
            ]
          },
          "metadata": {
            "tags": []
          },
          "execution_count": 22
        }
      ]
    },
    {
      "cell_type": "code",
      "metadata": {
        "id": "Cu19I6WZ4RWh",
        "colab": {
          "base_uri": "https://localhost:8080/",
          "height": 852
        },
        "outputId": "2f960856-d36d-4c81-d22f-5f24624f5348"
      },
      "source": [
        "data.tail(15)"
      ],
      "execution_count": 23,
      "outputs": [
        {
          "output_type": "execute_result",
          "data": {
            "text/html": [
              "<div>\n",
              "<style scoped>\n",
              "    .dataframe tbody tr th:only-of-type {\n",
              "        vertical-align: middle;\n",
              "    }\n",
              "\n",
              "    .dataframe tbody tr th {\n",
              "        vertical-align: top;\n",
              "    }\n",
              "\n",
              "    .dataframe thead th {\n",
              "        text-align: right;\n",
              "    }\n",
              "</style>\n",
              "<table border=\"1\" class=\"dataframe\">\n",
              "  <thead>\n",
              "    <tr style=\"text-align: right;\">\n",
              "      <th></th>\n",
              "      <th>Time</th>\n",
              "      <th>Time Code</th>\n",
              "      <th>Country Name</th>\n",
              "      <th>Country Code</th>\n",
              "      <th>GNI per capita, Atlas method (current US$) [NY.GNP.PCAP.CD]</th>\n",
              "      <th>Population, total [SP.POP.TOTL]</th>\n",
              "      <th>Educational attainment, at least completed primary, population 25+ years, total (%) (cumulative) [SE.PRM.CUAT.ZS]</th>\n",
              "      <th>Fertility rate, total (births per woman) [SP.DYN.TFRT.IN]</th>\n",
              "      <th>Unemployment, total (% of total labor force) (modeled ILO estimate) [SL.UEM.TOTL.ZS]</th>\n",
              "      <th>Agriculture, forestry, and fishing, value added (% of GDP) [NV.AGR.TOTL.ZS]</th>\n",
              "      <th>Total natural resources rents (% of GDP) [NY.GDP.TOTL.RT.ZS]</th>\n",
              "      <th>Urban population (% of total population) [SP.URB.TOTL.IN.ZS]</th>\n",
              "      <th>Access to electricity (% of population) [EG.ELC.ACCS.ZS]</th>\n",
              "      <th>Gini index (World Bank estimate) [SI.POV.GINI]</th>\n",
              "      <th>Consumer price index (2010 = 100) [FP.CPI.TOTL]</th>\n",
              "      <th>External balance on goods and services (% of GDP) [NE.RSB.GNFS.ZS]</th>\n",
              "      <th>Central government debt, total (% of GDP) [GC.DOD.TOTL.GD.ZS]</th>\n",
              "    </tr>\n",
              "  </thead>\n",
              "  <tbody>\n",
              "    <tr>\n",
              "      <th>13227</th>\n",
              "      <td>2020</td>\n",
              "      <td>YR2020</td>\n",
              "      <td>Portugal</td>\n",
              "      <td>PRT</td>\n",
              "      <td>..</td>\n",
              "      <td>..</td>\n",
              "      <td>..</td>\n",
              "      <td>..</td>\n",
              "      <td>5.93300008773804</td>\n",
              "      <td>..</td>\n",
              "      <td>..</td>\n",
              "      <td>..</td>\n",
              "      <td>..</td>\n",
              "      <td>..</td>\n",
              "      <td>..</td>\n",
              "      <td>..</td>\n",
              "      <td>..</td>\n",
              "    </tr>\n",
              "    <tr>\n",
              "      <th>13228</th>\n",
              "      <td>2020</td>\n",
              "      <td>YR2020</td>\n",
              "      <td>Puerto Rico</td>\n",
              "      <td>PRI</td>\n",
              "      <td>..</td>\n",
              "      <td>..</td>\n",
              "      <td>..</td>\n",
              "      <td>..</td>\n",
              "      <td>8.41399955749512</td>\n",
              "      <td>..</td>\n",
              "      <td>..</td>\n",
              "      <td>..</td>\n",
              "      <td>..</td>\n",
              "      <td>..</td>\n",
              "      <td>..</td>\n",
              "      <td>..</td>\n",
              "      <td>..</td>\n",
              "    </tr>\n",
              "    <tr>\n",
              "      <th>13229</th>\n",
              "      <td>2020</td>\n",
              "      <td>YR2020</td>\n",
              "      <td>Qatar</td>\n",
              "      <td>QAT</td>\n",
              "      <td>..</td>\n",
              "      <td>..</td>\n",
              "      <td>..</td>\n",
              "      <td>..</td>\n",
              "      <td>0.0820000022649765</td>\n",
              "      <td>..</td>\n",
              "      <td>..</td>\n",
              "      <td>..</td>\n",
              "      <td>..</td>\n",
              "      <td>..</td>\n",
              "      <td>..</td>\n",
              "      <td>..</td>\n",
              "      <td>..</td>\n",
              "    </tr>\n",
              "    <tr>\n",
              "      <th>13230</th>\n",
              "      <td>2020</td>\n",
              "      <td>YR2020</td>\n",
              "      <td>Romania</td>\n",
              "      <td>ROU</td>\n",
              "      <td>..</td>\n",
              "      <td>..</td>\n",
              "      <td>..</td>\n",
              "      <td>..</td>\n",
              "      <td>3.92199993133545</td>\n",
              "      <td>..</td>\n",
              "      <td>..</td>\n",
              "      <td>..</td>\n",
              "      <td>..</td>\n",
              "      <td>..</td>\n",
              "      <td>..</td>\n",
              "      <td>..</td>\n",
              "      <td>..</td>\n",
              "    </tr>\n",
              "    <tr>\n",
              "      <th>13231</th>\n",
              "      <td>2020</td>\n",
              "      <td>YR2020</td>\n",
              "      <td>Rwanda</td>\n",
              "      <td>RWA</td>\n",
              "      <td>..</td>\n",
              "      <td>..</td>\n",
              "      <td>..</td>\n",
              "      <td>..</td>\n",
              "      <td>1.04100000858307</td>\n",
              "      <td>..</td>\n",
              "      <td>..</td>\n",
              "      <td>..</td>\n",
              "      <td>..</td>\n",
              "      <td>..</td>\n",
              "      <td>..</td>\n",
              "      <td>..</td>\n",
              "      <td>..</td>\n",
              "    </tr>\n",
              "    <tr>\n",
              "      <th>13232</th>\n",
              "      <td>2020</td>\n",
              "      <td>YR2020</td>\n",
              "      <td>Samoa</td>\n",
              "      <td>WSM</td>\n",
              "      <td>..</td>\n",
              "      <td>..</td>\n",
              "      <td>..</td>\n",
              "      <td>..</td>\n",
              "      <td>8.35499954223633</td>\n",
              "      <td>..</td>\n",
              "      <td>..</td>\n",
              "      <td>..</td>\n",
              "      <td>..</td>\n",
              "      <td>..</td>\n",
              "      <td>..</td>\n",
              "      <td>..</td>\n",
              "      <td>..</td>\n",
              "    </tr>\n",
              "    <tr>\n",
              "      <th>13233</th>\n",
              "      <td>2020</td>\n",
              "      <td>YR2020</td>\n",
              "      <td>San Marino</td>\n",
              "      <td>SMR</td>\n",
              "      <td>..</td>\n",
              "      <td>..</td>\n",
              "      <td>..</td>\n",
              "      <td>..</td>\n",
              "      <td>..</td>\n",
              "      <td>..</td>\n",
              "      <td>..</td>\n",
              "      <td>..</td>\n",
              "      <td>..</td>\n",
              "      <td>..</td>\n",
              "      <td>..</td>\n",
              "      <td>..</td>\n",
              "      <td>..</td>\n",
              "    </tr>\n",
              "    <tr>\n",
              "      <th>13234</th>\n",
              "      <td>2020</td>\n",
              "      <td>YR2020</td>\n",
              "      <td>Sao Tome and Principe</td>\n",
              "      <td>STP</td>\n",
              "      <td>..</td>\n",
              "      <td>..</td>\n",
              "      <td>..</td>\n",
              "      <td>..</td>\n",
              "      <td>13.6709995269775</td>\n",
              "      <td>..</td>\n",
              "      <td>..</td>\n",
              "      <td>..</td>\n",
              "      <td>..</td>\n",
              "      <td>..</td>\n",
              "      <td>..</td>\n",
              "      <td>..</td>\n",
              "      <td>..</td>\n",
              "    </tr>\n",
              "    <tr>\n",
              "      <th>13235</th>\n",
              "      <td>2020</td>\n",
              "      <td>YR2020</td>\n",
              "      <td>Senegal</td>\n",
              "      <td>SEN</td>\n",
              "      <td>..</td>\n",
              "      <td>..</td>\n",
              "      <td>..</td>\n",
              "      <td>..</td>\n",
              "      <td>6.67600011825562</td>\n",
              "      <td>..</td>\n",
              "      <td>..</td>\n",
              "      <td>..</td>\n",
              "      <td>..</td>\n",
              "      <td>..</td>\n",
              "      <td>..</td>\n",
              "      <td>..</td>\n",
              "      <td>..</td>\n",
              "    </tr>\n",
              "    <tr>\n",
              "      <th>13236</th>\n",
              "      <td>2020</td>\n",
              "      <td>YR2020</td>\n",
              "      <td>Serbia</td>\n",
              "      <td>SRB</td>\n",
              "      <td>..</td>\n",
              "      <td>..</td>\n",
              "      <td>..</td>\n",
              "      <td>..</td>\n",
              "      <td>12.7220001220703</td>\n",
              "      <td>..</td>\n",
              "      <td>..</td>\n",
              "      <td>..</td>\n",
              "      <td>..</td>\n",
              "      <td>..</td>\n",
              "      <td>..</td>\n",
              "      <td>..</td>\n",
              "      <td>..</td>\n",
              "    </tr>\n",
              "    <tr>\n",
              "      <th>13237</th>\n",
              "      <td>NaN</td>\n",
              "      <td>NaN</td>\n",
              "      <td>NaN</td>\n",
              "      <td>NaN</td>\n",
              "      <td>NaN</td>\n",
              "      <td>NaN</td>\n",
              "      <td>NaN</td>\n",
              "      <td>NaN</td>\n",
              "      <td>NaN</td>\n",
              "      <td>NaN</td>\n",
              "      <td>NaN</td>\n",
              "      <td>NaN</td>\n",
              "      <td>NaN</td>\n",
              "      <td>NaN</td>\n",
              "      <td>NaN</td>\n",
              "      <td>NaN</td>\n",
              "      <td>NaN</td>\n",
              "    </tr>\n",
              "    <tr>\n",
              "      <th>13238</th>\n",
              "      <td>NaN</td>\n",
              "      <td>NaN</td>\n",
              "      <td>NaN</td>\n",
              "      <td>NaN</td>\n",
              "      <td>NaN</td>\n",
              "      <td>NaN</td>\n",
              "      <td>NaN</td>\n",
              "      <td>NaN</td>\n",
              "      <td>NaN</td>\n",
              "      <td>NaN</td>\n",
              "      <td>NaN</td>\n",
              "      <td>NaN</td>\n",
              "      <td>NaN</td>\n",
              "      <td>NaN</td>\n",
              "      <td>NaN</td>\n",
              "      <td>NaN</td>\n",
              "      <td>NaN</td>\n",
              "    </tr>\n",
              "    <tr>\n",
              "      <th>13239</th>\n",
              "      <td>NaN</td>\n",
              "      <td>NaN</td>\n",
              "      <td>NaN</td>\n",
              "      <td>NaN</td>\n",
              "      <td>NaN</td>\n",
              "      <td>NaN</td>\n",
              "      <td>NaN</td>\n",
              "      <td>NaN</td>\n",
              "      <td>NaN</td>\n",
              "      <td>NaN</td>\n",
              "      <td>NaN</td>\n",
              "      <td>NaN</td>\n",
              "      <td>NaN</td>\n",
              "      <td>NaN</td>\n",
              "      <td>NaN</td>\n",
              "      <td>NaN</td>\n",
              "      <td>NaN</td>\n",
              "    </tr>\n",
              "    <tr>\n",
              "      <th>13240</th>\n",
              "      <td>Data from database: World Development Indicators</td>\n",
              "      <td>NaN</td>\n",
              "      <td>NaN</td>\n",
              "      <td>NaN</td>\n",
              "      <td>NaN</td>\n",
              "      <td>NaN</td>\n",
              "      <td>NaN</td>\n",
              "      <td>NaN</td>\n",
              "      <td>NaN</td>\n",
              "      <td>NaN</td>\n",
              "      <td>NaN</td>\n",
              "      <td>NaN</td>\n",
              "      <td>NaN</td>\n",
              "      <td>NaN</td>\n",
              "      <td>NaN</td>\n",
              "      <td>NaN</td>\n",
              "      <td>NaN</td>\n",
              "    </tr>\n",
              "    <tr>\n",
              "      <th>13241</th>\n",
              "      <td>Last Updated: 12/16/2020</td>\n",
              "      <td>NaN</td>\n",
              "      <td>NaN</td>\n",
              "      <td>NaN</td>\n",
              "      <td>NaN</td>\n",
              "      <td>NaN</td>\n",
              "      <td>NaN</td>\n",
              "      <td>NaN</td>\n",
              "      <td>NaN</td>\n",
              "      <td>NaN</td>\n",
              "      <td>NaN</td>\n",
              "      <td>NaN</td>\n",
              "      <td>NaN</td>\n",
              "      <td>NaN</td>\n",
              "      <td>NaN</td>\n",
              "      <td>NaN</td>\n",
              "      <td>NaN</td>\n",
              "    </tr>\n",
              "  </tbody>\n",
              "</table>\n",
              "</div>"
            ],
            "text/plain": [
              "                                                   Time  ... Central government debt, total (% of GDP) [GC.DOD.TOTL.GD.ZS]\n",
              "13227                                              2020  ...                                                 ..           \n",
              "13228                                              2020  ...                                                 ..           \n",
              "13229                                              2020  ...                                                 ..           \n",
              "13230                                              2020  ...                                                 ..           \n",
              "13231                                              2020  ...                                                 ..           \n",
              "13232                                              2020  ...                                                 ..           \n",
              "13233                                              2020  ...                                                 ..           \n",
              "13234                                              2020  ...                                                 ..           \n",
              "13235                                              2020  ...                                                 ..           \n",
              "13236                                              2020  ...                                                 ..           \n",
              "13237                                               NaN  ...                                                NaN           \n",
              "13238                                               NaN  ...                                                NaN           \n",
              "13239                                               NaN  ...                                                NaN           \n",
              "13240  Data from database: World Development Indicators  ...                                                NaN           \n",
              "13241                          Last Updated: 12/16/2020  ...                                                NaN           \n",
              "\n",
              "[15 rows x 17 columns]"
            ]
          },
          "metadata": {
            "tags": []
          },
          "execution_count": 23
        }
      ]
    },
    {
      "cell_type": "markdown",
      "metadata": {
        "id": "zMbHM-pl4WoV"
      },
      "source": [
        "### Drop unnecessary rows and columns"
      ]
    },
    {
      "cell_type": "code",
      "metadata": {
        "id": "Bt5yF1VR4bJN"
      },
      "source": [
        "#drop rows\n",
        "data.drop(data.tail(5).index,inplace=True)\n",
        "#drop columns\n",
        "data.drop(['Time Code','Country Code'], axis = 1, inplace=True)\n",
        "#rename column Time to Year\n",
        "data.rename(columns={'Time': 'Year'},inplace = True)\n"
      ],
      "execution_count": 24,
      "outputs": []
    },
    {
      "cell_type": "code",
      "metadata": {
        "id": "nGOjc8fI4g6y"
      },
      "source": [
        "#data.tail(15)"
      ],
      "execution_count": 25,
      "outputs": []
    },
    {
      "cell_type": "markdown",
      "metadata": {
        "id": "RYiu54BX4k9a"
      },
      "source": [
        "### Set index"
      ]
    },
    {
      "cell_type": "code",
      "metadata": {
        "id": "qVdlOHtc4jJQ",
        "colab": {
          "base_uri": "https://localhost:8080/",
          "height": 666
        },
        "outputId": "32485843-5173-4d82-c908-ae9b050248c1"
      },
      "source": [
        "data = data.set_index(['Country Name', 'Year'])\n",
        "data"
      ],
      "execution_count": 26,
      "outputs": [
        {
          "output_type": "execute_result",
          "data": {
            "text/html": [
              "<div>\n",
              "<style scoped>\n",
              "    .dataframe tbody tr th:only-of-type {\n",
              "        vertical-align: middle;\n",
              "    }\n",
              "\n",
              "    .dataframe tbody tr th {\n",
              "        vertical-align: top;\n",
              "    }\n",
              "\n",
              "    .dataframe thead th {\n",
              "        text-align: right;\n",
              "    }\n",
              "</style>\n",
              "<table border=\"1\" class=\"dataframe\">\n",
              "  <thead>\n",
              "    <tr style=\"text-align: right;\">\n",
              "      <th></th>\n",
              "      <th></th>\n",
              "      <th>GNI per capita, Atlas method (current US$) [NY.GNP.PCAP.CD]</th>\n",
              "      <th>Population, total [SP.POP.TOTL]</th>\n",
              "      <th>Educational attainment, at least completed primary, population 25+ years, total (%) (cumulative) [SE.PRM.CUAT.ZS]</th>\n",
              "      <th>Fertility rate, total (births per woman) [SP.DYN.TFRT.IN]</th>\n",
              "      <th>Unemployment, total (% of total labor force) (modeled ILO estimate) [SL.UEM.TOTL.ZS]</th>\n",
              "      <th>Agriculture, forestry, and fishing, value added (% of GDP) [NV.AGR.TOTL.ZS]</th>\n",
              "      <th>Total natural resources rents (% of GDP) [NY.GDP.TOTL.RT.ZS]</th>\n",
              "      <th>Urban population (% of total population) [SP.URB.TOTL.IN.ZS]</th>\n",
              "      <th>Access to electricity (% of population) [EG.ELC.ACCS.ZS]</th>\n",
              "      <th>Gini index (World Bank estimate) [SI.POV.GINI]</th>\n",
              "      <th>Consumer price index (2010 = 100) [FP.CPI.TOTL]</th>\n",
              "      <th>External balance on goods and services (% of GDP) [NE.RSB.GNFS.ZS]</th>\n",
              "      <th>Central government debt, total (% of GDP) [GC.DOD.TOTL.GD.ZS]</th>\n",
              "    </tr>\n",
              "    <tr>\n",
              "      <th>Country Name</th>\n",
              "      <th>Year</th>\n",
              "      <th></th>\n",
              "      <th></th>\n",
              "      <th></th>\n",
              "      <th></th>\n",
              "      <th></th>\n",
              "      <th></th>\n",
              "      <th></th>\n",
              "      <th></th>\n",
              "      <th></th>\n",
              "      <th></th>\n",
              "      <th></th>\n",
              "      <th></th>\n",
              "      <th></th>\n",
              "    </tr>\n",
              "  </thead>\n",
              "  <tbody>\n",
              "    <tr>\n",
              "      <th>Argentina</th>\n",
              "      <th>1960</th>\n",
              "      <td>..</td>\n",
              "      <td>20481779</td>\n",
              "      <td>..</td>\n",
              "      <td>3.109</td>\n",
              "      <td>..</td>\n",
              "      <td>..</td>\n",
              "      <td>..</td>\n",
              "      <td>73.611</td>\n",
              "      <td>..</td>\n",
              "      <td>..</td>\n",
              "      <td>..</td>\n",
              "      <td>2.12913319746322E-06</td>\n",
              "      <td>..</td>\n",
              "    </tr>\n",
              "    <tr>\n",
              "      <th>Australia</th>\n",
              "      <th>1960</th>\n",
              "      <td>..</td>\n",
              "      <td>10276477</td>\n",
              "      <td>..</td>\n",
              "      <td>3.453</td>\n",
              "      <td>..</td>\n",
              "      <td>..</td>\n",
              "      <td>..</td>\n",
              "      <td>81.529</td>\n",
              "      <td>..</td>\n",
              "      <td>..</td>\n",
              "      <td>7.96045785639958</td>\n",
              "      <td>-1.067036411864</td>\n",
              "      <td>..</td>\n",
              "    </tr>\n",
              "    <tr>\n",
              "      <th>Brazil</th>\n",
              "      <th>1960</th>\n",
              "      <td>..</td>\n",
              "      <td>72179226</td>\n",
              "      <td>..</td>\n",
              "      <td>6.061</td>\n",
              "      <td>..</td>\n",
              "      <td>17.6669984863859</td>\n",
              "      <td>..</td>\n",
              "      <td>46.139</td>\n",
              "      <td>..</td>\n",
              "      <td>..</td>\n",
              "      <td>..</td>\n",
              "      <td>-0.0582390668087098</td>\n",
              "      <td>..</td>\n",
              "    </tr>\n",
              "    <tr>\n",
              "      <th>China</th>\n",
              "      <th>1960</th>\n",
              "      <td>..</td>\n",
              "      <td>667070000</td>\n",
              "      <td>..</td>\n",
              "      <td>5.756</td>\n",
              "      <td>..</td>\n",
              "      <td>23.1752941976736</td>\n",
              "      <td>..</td>\n",
              "      <td>16.203</td>\n",
              "      <td>..</td>\n",
              "      <td>..</td>\n",
              "      <td>..</td>\n",
              "      <td>-0.122440650295898</td>\n",
              "      <td>..</td>\n",
              "    </tr>\n",
              "    <tr>\n",
              "      <th>France</th>\n",
              "      <th>1960</th>\n",
              "      <td>..</td>\n",
              "      <td>46621669</td>\n",
              "      <td>..</td>\n",
              "      <td>2.85</td>\n",
              "      <td>..</td>\n",
              "      <td>10.5372165520776</td>\n",
              "      <td>..</td>\n",
              "      <td>61.88</td>\n",
              "      <td>..</td>\n",
              "      <td>..</td>\n",
              "      <td>10.4335934118144</td>\n",
              "      <td>2.43412905154375</td>\n",
              "      <td>..</td>\n",
              "    </tr>\n",
              "    <tr>\n",
              "      <th>...</th>\n",
              "      <th>...</th>\n",
              "      <td>...</td>\n",
              "      <td>...</td>\n",
              "      <td>...</td>\n",
              "      <td>...</td>\n",
              "      <td>...</td>\n",
              "      <td>...</td>\n",
              "      <td>...</td>\n",
              "      <td>...</td>\n",
              "      <td>...</td>\n",
              "      <td>...</td>\n",
              "      <td>...</td>\n",
              "      <td>...</td>\n",
              "      <td>...</td>\n",
              "    </tr>\n",
              "    <tr>\n",
              "      <th>Samoa</th>\n",
              "      <th>2020</th>\n",
              "      <td>..</td>\n",
              "      <td>..</td>\n",
              "      <td>..</td>\n",
              "      <td>..</td>\n",
              "      <td>8.35499954223633</td>\n",
              "      <td>..</td>\n",
              "      <td>..</td>\n",
              "      <td>..</td>\n",
              "      <td>..</td>\n",
              "      <td>..</td>\n",
              "      <td>..</td>\n",
              "      <td>..</td>\n",
              "      <td>..</td>\n",
              "    </tr>\n",
              "    <tr>\n",
              "      <th>San Marino</th>\n",
              "      <th>2020</th>\n",
              "      <td>..</td>\n",
              "      <td>..</td>\n",
              "      <td>..</td>\n",
              "      <td>..</td>\n",
              "      <td>..</td>\n",
              "      <td>..</td>\n",
              "      <td>..</td>\n",
              "      <td>..</td>\n",
              "      <td>..</td>\n",
              "      <td>..</td>\n",
              "      <td>..</td>\n",
              "      <td>..</td>\n",
              "      <td>..</td>\n",
              "    </tr>\n",
              "    <tr>\n",
              "      <th>Sao Tome and Principe</th>\n",
              "      <th>2020</th>\n",
              "      <td>..</td>\n",
              "      <td>..</td>\n",
              "      <td>..</td>\n",
              "      <td>..</td>\n",
              "      <td>13.6709995269775</td>\n",
              "      <td>..</td>\n",
              "      <td>..</td>\n",
              "      <td>..</td>\n",
              "      <td>..</td>\n",
              "      <td>..</td>\n",
              "      <td>..</td>\n",
              "      <td>..</td>\n",
              "      <td>..</td>\n",
              "    </tr>\n",
              "    <tr>\n",
              "      <th>Senegal</th>\n",
              "      <th>2020</th>\n",
              "      <td>..</td>\n",
              "      <td>..</td>\n",
              "      <td>..</td>\n",
              "      <td>..</td>\n",
              "      <td>6.67600011825562</td>\n",
              "      <td>..</td>\n",
              "      <td>..</td>\n",
              "      <td>..</td>\n",
              "      <td>..</td>\n",
              "      <td>..</td>\n",
              "      <td>..</td>\n",
              "      <td>..</td>\n",
              "      <td>..</td>\n",
              "    </tr>\n",
              "    <tr>\n",
              "      <th>Serbia</th>\n",
              "      <th>2020</th>\n",
              "      <td>..</td>\n",
              "      <td>..</td>\n",
              "      <td>..</td>\n",
              "      <td>..</td>\n",
              "      <td>12.7220001220703</td>\n",
              "      <td>..</td>\n",
              "      <td>..</td>\n",
              "      <td>..</td>\n",
              "      <td>..</td>\n",
              "      <td>..</td>\n",
              "      <td>..</td>\n",
              "      <td>..</td>\n",
              "      <td>..</td>\n",
              "    </tr>\n",
              "  </tbody>\n",
              "</table>\n",
              "<p>13237 rows × 13 columns</p>\n",
              "</div>"
            ],
            "text/plain": [
              "                           GNI per capita, Atlas method (current US$) [NY.GNP.PCAP.CD]  ... Central government debt, total (% of GDP) [GC.DOD.TOTL.GD.ZS]\n",
              "Country Name          Year                                                              ...                                                              \n",
              "Argentina             1960                                                 ..           ...                                                 ..           \n",
              "Australia             1960                                                 ..           ...                                                 ..           \n",
              "Brazil                1960                                                 ..           ...                                                 ..           \n",
              "China                 1960                                                 ..           ...                                                 ..           \n",
              "France                1960                                                 ..           ...                                                 ..           \n",
              "...                                                                       ...           ...                                                ...           \n",
              "Samoa                 2020                                                 ..           ...                                                 ..           \n",
              "San Marino            2020                                                 ..           ...                                                 ..           \n",
              "Sao Tome and Principe 2020                                                 ..           ...                                                 ..           \n",
              "Senegal               2020                                                 ..           ...                                                 ..           \n",
              "Serbia                2020                                                 ..           ...                                                 ..           \n",
              "\n",
              "[13237 rows x 13 columns]"
            ]
          },
          "metadata": {
            "tags": []
          },
          "execution_count": 26
        }
      ]
    },
    {
      "cell_type": "code",
      "metadata": {
        "id": "weSfPIJobLkP",
        "colab": {
          "base_uri": "https://localhost:8080/",
          "height": 666
        },
        "outputId": "45fce438-dadc-4c42-b607-8c17b25479f9"
      },
      "source": [
        "#drop Year 2020 since too little data available\n",
        "data.drop('2020',level='Year',inplace=True)\n",
        "data"
      ],
      "execution_count": 27,
      "outputs": [
        {
          "output_type": "execute_result",
          "data": {
            "text/html": [
              "<div>\n",
              "<style scoped>\n",
              "    .dataframe tbody tr th:only-of-type {\n",
              "        vertical-align: middle;\n",
              "    }\n",
              "\n",
              "    .dataframe tbody tr th {\n",
              "        vertical-align: top;\n",
              "    }\n",
              "\n",
              "    .dataframe thead th {\n",
              "        text-align: right;\n",
              "    }\n",
              "</style>\n",
              "<table border=\"1\" class=\"dataframe\">\n",
              "  <thead>\n",
              "    <tr style=\"text-align: right;\">\n",
              "      <th></th>\n",
              "      <th></th>\n",
              "      <th>GNI per capita, Atlas method (current US$) [NY.GNP.PCAP.CD]</th>\n",
              "      <th>Population, total [SP.POP.TOTL]</th>\n",
              "      <th>Educational attainment, at least completed primary, population 25+ years, total (%) (cumulative) [SE.PRM.CUAT.ZS]</th>\n",
              "      <th>Fertility rate, total (births per woman) [SP.DYN.TFRT.IN]</th>\n",
              "      <th>Unemployment, total (% of total labor force) (modeled ILO estimate) [SL.UEM.TOTL.ZS]</th>\n",
              "      <th>Agriculture, forestry, and fishing, value added (% of GDP) [NV.AGR.TOTL.ZS]</th>\n",
              "      <th>Total natural resources rents (% of GDP) [NY.GDP.TOTL.RT.ZS]</th>\n",
              "      <th>Urban population (% of total population) [SP.URB.TOTL.IN.ZS]</th>\n",
              "      <th>Access to electricity (% of population) [EG.ELC.ACCS.ZS]</th>\n",
              "      <th>Gini index (World Bank estimate) [SI.POV.GINI]</th>\n",
              "      <th>Consumer price index (2010 = 100) [FP.CPI.TOTL]</th>\n",
              "      <th>External balance on goods and services (% of GDP) [NE.RSB.GNFS.ZS]</th>\n",
              "      <th>Central government debt, total (% of GDP) [GC.DOD.TOTL.GD.ZS]</th>\n",
              "    </tr>\n",
              "    <tr>\n",
              "      <th>Country Name</th>\n",
              "      <th>Year</th>\n",
              "      <th></th>\n",
              "      <th></th>\n",
              "      <th></th>\n",
              "      <th></th>\n",
              "      <th></th>\n",
              "      <th></th>\n",
              "      <th></th>\n",
              "      <th></th>\n",
              "      <th></th>\n",
              "      <th></th>\n",
              "      <th></th>\n",
              "      <th></th>\n",
              "      <th></th>\n",
              "    </tr>\n",
              "  </thead>\n",
              "  <tbody>\n",
              "    <tr>\n",
              "      <th>Argentina</th>\n",
              "      <th>1960</th>\n",
              "      <td>..</td>\n",
              "      <td>20481779</td>\n",
              "      <td>..</td>\n",
              "      <td>3.109</td>\n",
              "      <td>..</td>\n",
              "      <td>..</td>\n",
              "      <td>..</td>\n",
              "      <td>73.611</td>\n",
              "      <td>..</td>\n",
              "      <td>..</td>\n",
              "      <td>..</td>\n",
              "      <td>2.12913319746322E-06</td>\n",
              "      <td>..</td>\n",
              "    </tr>\n",
              "    <tr>\n",
              "      <th>Australia</th>\n",
              "      <th>1960</th>\n",
              "      <td>..</td>\n",
              "      <td>10276477</td>\n",
              "      <td>..</td>\n",
              "      <td>3.453</td>\n",
              "      <td>..</td>\n",
              "      <td>..</td>\n",
              "      <td>..</td>\n",
              "      <td>81.529</td>\n",
              "      <td>..</td>\n",
              "      <td>..</td>\n",
              "      <td>7.96045785639958</td>\n",
              "      <td>-1.067036411864</td>\n",
              "      <td>..</td>\n",
              "    </tr>\n",
              "    <tr>\n",
              "      <th>Brazil</th>\n",
              "      <th>1960</th>\n",
              "      <td>..</td>\n",
              "      <td>72179226</td>\n",
              "      <td>..</td>\n",
              "      <td>6.061</td>\n",
              "      <td>..</td>\n",
              "      <td>17.6669984863859</td>\n",
              "      <td>..</td>\n",
              "      <td>46.139</td>\n",
              "      <td>..</td>\n",
              "      <td>..</td>\n",
              "      <td>..</td>\n",
              "      <td>-0.0582390668087098</td>\n",
              "      <td>..</td>\n",
              "    </tr>\n",
              "    <tr>\n",
              "      <th>China</th>\n",
              "      <th>1960</th>\n",
              "      <td>..</td>\n",
              "      <td>667070000</td>\n",
              "      <td>..</td>\n",
              "      <td>5.756</td>\n",
              "      <td>..</td>\n",
              "      <td>23.1752941976736</td>\n",
              "      <td>..</td>\n",
              "      <td>16.203</td>\n",
              "      <td>..</td>\n",
              "      <td>..</td>\n",
              "      <td>..</td>\n",
              "      <td>-0.122440650295898</td>\n",
              "      <td>..</td>\n",
              "    </tr>\n",
              "    <tr>\n",
              "      <th>France</th>\n",
              "      <th>1960</th>\n",
              "      <td>..</td>\n",
              "      <td>46621669</td>\n",
              "      <td>..</td>\n",
              "      <td>2.85</td>\n",
              "      <td>..</td>\n",
              "      <td>10.5372165520776</td>\n",
              "      <td>..</td>\n",
              "      <td>61.88</td>\n",
              "      <td>..</td>\n",
              "      <td>..</td>\n",
              "      <td>10.4335934118144</td>\n",
              "      <td>2.43412905154375</td>\n",
              "      <td>..</td>\n",
              "    </tr>\n",
              "    <tr>\n",
              "      <th>...</th>\n",
              "      <th>...</th>\n",
              "      <td>...</td>\n",
              "      <td>...</td>\n",
              "      <td>...</td>\n",
              "      <td>...</td>\n",
              "      <td>...</td>\n",
              "      <td>...</td>\n",
              "      <td>...</td>\n",
              "      <td>...</td>\n",
              "      <td>...</td>\n",
              "      <td>...</td>\n",
              "      <td>...</td>\n",
              "      <td>...</td>\n",
              "      <td>...</td>\n",
              "    </tr>\n",
              "    <tr>\n",
              "      <th>Samoa</th>\n",
              "      <th>2019</th>\n",
              "      <td>4190</td>\n",
              "      <td>197097</td>\n",
              "      <td>..</td>\n",
              "      <td>..</td>\n",
              "      <td>8.35900020599365</td>\n",
              "      <td>9.75444952942173</td>\n",
              "      <td>..</td>\n",
              "      <td>18.056</td>\n",
              "      <td>..</td>\n",
              "      <td>..</td>\n",
              "      <td>117.555522119693</td>\n",
              "      <td>-14.6108154792665</td>\n",
              "      <td>..</td>\n",
              "    </tr>\n",
              "    <tr>\n",
              "      <th>San Marino</th>\n",
              "      <th>2019</th>\n",
              "      <td>..</td>\n",
              "      <td>33860</td>\n",
              "      <td>..</td>\n",
              "      <td>..</td>\n",
              "      <td>..</td>\n",
              "      <td>..</td>\n",
              "      <td>..</td>\n",
              "      <td>97.368</td>\n",
              "      <td>..</td>\n",
              "      <td>..</td>\n",
              "      <td>..</td>\n",
              "      <td>..</td>\n",
              "      <td>..</td>\n",
              "    </tr>\n",
              "    <tr>\n",
              "      <th>Sao Tome and Principe</th>\n",
              "      <th>2019</th>\n",
              "      <td>1930</td>\n",
              "      <td>215056</td>\n",
              "      <td>..</td>\n",
              "      <td>..</td>\n",
              "      <td>13.3690004348755</td>\n",
              "      <td>12.4625607991542</td>\n",
              "      <td>..</td>\n",
              "      <td>73.598</td>\n",
              "      <td>..</td>\n",
              "      <td>..</td>\n",
              "      <td>..</td>\n",
              "      <td>..</td>\n",
              "      <td>..</td>\n",
              "    </tr>\n",
              "    <tr>\n",
              "      <th>Senegal</th>\n",
              "      <th>2019</th>\n",
              "      <td>1460</td>\n",
              "      <td>16296364</td>\n",
              "      <td>..</td>\n",
              "      <td>..</td>\n",
              "      <td>6.60400009155273</td>\n",
              "      <td>14.7915678290978</td>\n",
              "      <td>..</td>\n",
              "      <td>47.653</td>\n",
              "      <td>..</td>\n",
              "      <td>..</td>\n",
              "      <td>109.251270172291</td>\n",
              "      <td>-14.9211503360035</td>\n",
              "      <td>..</td>\n",
              "    </tr>\n",
              "    <tr>\n",
              "      <th>Serbia</th>\n",
              "      <th>2019</th>\n",
              "      <td>7030</td>\n",
              "      <td>6944975</td>\n",
              "      <td>..</td>\n",
              "      <td>..</td>\n",
              "      <td>12.6859998703003</td>\n",
              "      <td>5.95378883117524</td>\n",
              "      <td>..</td>\n",
              "      <td>56.26</td>\n",
              "      <td>..</td>\n",
              "      <td>..</td>\n",
              "      <td>143.997573551714</td>\n",
              "      <td>-9.98249283569197</td>\n",
              "      <td>..</td>\n",
              "    </tr>\n",
              "  </tbody>\n",
              "</table>\n",
              "<p>13020 rows × 13 columns</p>\n",
              "</div>"
            ],
            "text/plain": [
              "                           GNI per capita, Atlas method (current US$) [NY.GNP.PCAP.CD]  ... Central government debt, total (% of GDP) [GC.DOD.TOTL.GD.ZS]\n",
              "Country Name          Year                                                              ...                                                              \n",
              "Argentina             1960                                                 ..           ...                                                 ..           \n",
              "Australia             1960                                                 ..           ...                                                 ..           \n",
              "Brazil                1960                                                 ..           ...                                                 ..           \n",
              "China                 1960                                                 ..           ...                                                 ..           \n",
              "France                1960                                                 ..           ...                                                 ..           \n",
              "...                                                                       ...           ...                                                ...           \n",
              "Samoa                 2019                                               4190           ...                                                 ..           \n",
              "San Marino            2019                                                 ..           ...                                                 ..           \n",
              "Sao Tome and Principe 2019                                               1930           ...                                                 ..           \n",
              "Senegal               2019                                               1460           ...                                                 ..           \n",
              "Serbia                2019                                               7030           ...                                                 ..           \n",
              "\n",
              "[13020 rows x 13 columns]"
            ]
          },
          "metadata": {
            "tags": []
          },
          "execution_count": 27
        }
      ]
    },
    {
      "cell_type": "markdown",
      "metadata": {
        "id": "M3QqQGn95BCo"
      },
      "source": [
        "### Extract dataset"
      ]
    },
    {
      "cell_type": "code",
      "metadata": {
        "id": "l_PoGQZA5DPS",
        "colab": {
          "base_uri": "https://localhost:8080/"
        },
        "outputId": "c515f064-abf2-46eb-c276-1e84683836db"
      },
      "source": [
        "dataset1 = data['GNI per capita, Atlas method (current US$) [NY.GNP.PCAP.CD]']\n",
        "dataset1"
      ],
      "execution_count": 28,
      "outputs": [
        {
          "output_type": "execute_result",
          "data": {
            "text/plain": [
              "Country Name           Year\n",
              "Argentina              1960      ..\n",
              "Australia              1960      ..\n",
              "Brazil                 1960      ..\n",
              "China                  1960      ..\n",
              "France                 1960      ..\n",
              "                               ... \n",
              "Samoa                  2019    4190\n",
              "San Marino             2019      ..\n",
              "Sao Tome and Principe  2019    1930\n",
              "Senegal                2019    1460\n",
              "Serbia                 2019    7030\n",
              "Name: GNI per capita, Atlas method (current US$) [NY.GNP.PCAP.CD], Length: 13020, dtype: object"
            ]
          },
          "metadata": {
            "tags": []
          },
          "execution_count": 28
        }
      ]
    },
    {
      "cell_type": "markdown",
      "metadata": {
        "id": "_bLAKKKQrfsG"
      },
      "source": [
        "# Frage 1"
      ]
    },
    {
      "cell_type": "code",
      "metadata": {
        "id": "ALYXSRiPrnGY"
      },
      "source": [
        "#load thresholds\r\n",
        "def load_csv_income_thresholds():\r\n",
        "    \r\n",
        "    data_file = pd.read_csv('/content/drive/MyDrive/Git/dopp_2020w_group03_ex3/data/data_indicators_1.csv', sep = ',')\r\n",
        "\r\n",
        "    return data_file\r\n",
        "\r\n",
        "income_thresholds = load_csv_income_thresholds()\r\n",
        "\r\n",
        "\r\n"
      ],
      "execution_count": 29,
      "outputs": []
    }
  ]
}
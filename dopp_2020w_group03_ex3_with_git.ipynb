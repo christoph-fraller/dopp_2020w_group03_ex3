{
  "nbformat": 4,
  "nbformat_minor": 0,
  "metadata": {
    "colab": {
      "name": "dopp_2020w_group03_ex3_with_git.ipynb",
      "provenance": [],
      "collapsed_sections": [],
      "toc_visible": true,
      "include_colab_link": true
    },
    "kernelspec": {
      "name": "python3",
      "display_name": "Python 3"
    }
  },
  "cells": [
    {
      "cell_type": "markdown",
      "metadata": {
        "id": "view-in-github",
        "colab_type": "text"
      },
      "source": [
        "<a href=\"https://colab.research.google.com/github/christoph-fraller/dopp_2020w_group03_ex3/blob/main/dopp_2020w_group03_ex3_with_git.ipynb\" target=\"_parent\"><img src=\"https://colab.research.google.com/assets/colab-badge.svg\" alt=\"Open In Colab\"/></a>"
      ]
    },
    {
      "cell_type": "markdown",
      "metadata": {
        "id": "LwO5uA_scCMP"
      },
      "source": [
        "# Google Drive"
      ]
    },
    {
      "cell_type": "code",
      "metadata": {
        "colab": {
          "base_uri": "https://localhost:8080/"
        },
        "id": "fMNYj7F2o5Fz",
        "outputId": "3b8e7558-59f5-43b6-d196-fe1c51de2a95"
      },
      "source": [
        "# import and mount google drive\n",
        "from google.colab import drive\n",
        "drive.mount('/content/drive')"
      ],
      "execution_count": null,
      "outputs": [
        {
          "output_type": "stream",
          "text": [
            "Drive already mounted at /content/drive; to attempt to forcibly remount, call drive.mount(\"/content/drive\", force_remount=True).\n"
          ],
          "name": "stdout"
        }
      ]
    },
    {
      "cell_type": "markdown",
      "metadata": {
        "id": "_n-eLlFeXXOH"
      },
      "source": [
        "# Generate SSH-Keys for Accessing Git Repository"
      ]
    },
    {
      "cell_type": "code",
      "metadata": {
        "colab": {
          "base_uri": "https://localhost:8080/"
        },
        "id": "v_vOiBlVR6Of",
        "outputId": "3ef17cea-02db-4d2f-9aa6-96716e63db10"
      },
      "source": [
        "# generate ssh keys (hit enter when prompted for any answer)\r\n",
        "! ssh-keygen -t rsa -b 4096 -C 'christoph-fraller@github.com'"
      ],
      "execution_count": 5,
      "outputs": [
        {
          "output_type": "stream",
          "text": [
            "Generating public/private rsa key pair.\n",
            "Enter file in which to save the key (/root/.ssh/id_rsa): \n",
            "Enter passphrase (empty for no passphrase): \n",
            "Enter same passphrase again: \n",
            "Your identification has been saved in /root/.ssh/id_rsa.\n",
            "Your public key has been saved in /root/.ssh/id_rsa.pub.\n",
            "The key fingerprint is:\n",
            "SHA256:OVsjNK6hZp2I8NqX5vHSNWYAkBlL5rflHvhzlveJehI christoph-fraller@github.com\n",
            "The key's randomart image is:\n",
            "+---[RSA 4096]----+\n",
            "|  ==             |\n",
            "| +o..            |\n",
            "|  o ... o        |\n",
            "|   . =.o o       |\n",
            "|.   o +.S o      |\n",
            "| o . * =E* .     |\n",
            "|  o *oB+=o.      |\n",
            "| o o=o.+...o .   |\n",
            "|. .+... .+. o    |\n",
            "+----[SHA256]-----+\n"
          ],
          "name": "stdout"
        }
      ]
    },
    {
      "cell_type": "code",
      "metadata": {
        "colab": {
          "base_uri": "https://localhost:8080/"
        },
        "id": "NLYpBS4KYhhf",
        "outputId": "612258bc-0941-4a94-a6f7-5f9ab466d3eb"
      },
      "source": [
        "# check whether or not the ssh keys have been created ('id_rsa' and 'id_rsa.pub' should be displayed)\r\n",
        "! ls /root/.ssh/"
      ],
      "execution_count": 7,
      "outputs": [
        {
          "output_type": "stream",
          "text": [
            "id_rsa\tid_rsa.pub  known_hosts\n"
          ],
          "name": "stdout"
        }
      ]
    },
    {
      "cell_type": "code",
      "metadata": {
        "colab": {
          "base_uri": "https://localhost:8080/"
        },
        "id": "ekNM8je8SefW",
        "outputId": "1a843862-910f-43ea-87b6-9296a329f364"
      },
      "source": [
        "# display public ssh key for copy/paste\r\n",
        "! cat /root/.ssh/id_rsa.pub"
      ],
      "execution_count": 11,
      "outputs": [
        {
          "output_type": "stream",
          "text": [
            "ssh-rsa AAAAB3NzaC1yc2EAAAADAQABAAACAQC3cj9gNkwjGuKFGjxXXhJojxmYAnVbNItvyzNnlv8L2ifF/+f2s1eWmeC+ZzIF86ED+JkiXk2+MjI1/gcc3sIBCt6oel3NTnAKuS5/HLR+CFsPNOcDmIkgZiRwUYyYdnpWsGQdJUx0j0e6IHi6pQgU9W6Pno7xLRgvR0D2rFi0zqnUCYorce5eoQ/YFXVurDwGdzIDcLefVrQkicUkrMEQU4tafPQ3wlCa5qL6RR5DLI4dnZkldv7bF+Duj6Ql/SfLO7mB95QSKYKQLBIaWFQ1k2XLJTjY2OkjckWdmTkHYz/IM/dzfnlVa2Fb7lXAIaMXHC/cRDw6E0M3LwsfXOm9DPsgTiWRaO90iNlwdHvpe9WbLJP4nME753UufYoH9ZVHwlC3JOsIwZUWclFdhAYHba/QmYvAwFODCQ/wW5D9GJMKshQlUdP3uoa1zbvHjr/WxAizuzn83NPQCQYXZBHBuM0hNeP28f29s+qZJClWruN203bov1tPkdZ/kzq2BYKV5iHy8QTsrYtH0JKm2meWk6tljks6RXN0mUhwie4oNJIPdwdkW5dqMnD667PRfiNi67bgFBpHWw/E8fH+McYhEFXXqIh3ZHxk5IjdYE8lfA2nRaJmg4NxOdzAac3D8IVQab19MlcwyW4Rk6eigMqMjfUCaYQQDMW7bUBWUO7n5w== christoph-fraller@github.com\n"
          ],
          "name": "stdout"
        }
      ]
    },
    {
      "cell_type": "code",
      "metadata": {
        "colab": {
          "base_uri": "https://localhost:8080/"
        },
        "id": "XqNlD7pxTI6I",
        "outputId": "54734a03-8214-4840-9afa-cbb876934124"
      },
      "source": [
        "# add github to known hosts and adapt file access permissions\r\n",
        "! ssh-keyscan github.com >> /root/.ssh/known_hosts\r\n",
        "! chmod 644 /root/.ssh/known_hosts\r\n",
        "! chmod 600 /root/.ssh/id_rsa\r\n",
        "! ssh -T git@github.com"
      ],
      "execution_count": 10,
      "outputs": [
        {
          "output_type": "stream",
          "text": [
            "# github.com:22 SSH-2.0-babeld-78794f53\n",
            "# github.com:22 SSH-2.0-babeld-78794f53\n",
            "# github.com:22 SSH-2.0-babeld-78794f53\n",
            "Warning: Permanently added the RSA host key for IP address '140.82.112.4' to the list of known hosts.\n",
            "git@github.com: Permission denied (publickey).\n"
          ],
          "name": "stdout"
        }
      ]
    },
    {
      "cell_type": "markdown",
      "metadata": {
        "id": "7sqVqK8YHeSS"
      },
      "source": [
        "# Git Setup"
      ]
    },
    {
      "cell_type": "code",
      "metadata": {
        "id": "m57DJRGnO5B0"
      },
      "source": [
        "# git config settings (replace with your credentials)\r\n",
        "! git config --global user.email \"christoph.fraller@gmail.com\"\r\n",
        "! git config --global user.name \"christoph-fraller\""
      ],
      "execution_count": 37,
      "outputs": []
    },
    {
      "cell_type": "code",
      "metadata": {
        "id": "qEkuNsHeC8bF"
      },
      "source": [
        "# create directory for git repositories\r\n",
        "! mkdir -p /content/drive/MyDrive/Git"
      ],
      "execution_count": 3,
      "outputs": []
    },
    {
      "cell_type": "code",
      "metadata": {
        "colab": {
          "base_uri": "https://localhost:8080/"
        },
        "id": "WgI7KaUuVyPG",
        "outputId": "90ec7162-c119-4756-848b-052b69ec5f5f"
      },
      "source": [
        "# git-clone has to be performed only once when setting up the git repo at your google drive\r\n",
        "! git clone git@github.com:christoph-fraller/dopp_2020w_group03_ex3.git /content/drive/MyDrive/Git/dopp_2020w_group03_ex3"
      ],
      "execution_count": 2,
      "outputs": [
        {
          "output_type": "stream",
          "text": [
            "Cloning into '/content/drive/MyDrive/Git/dopp_2020w_group03_ex3'...\n",
            "remote: Enumerating objects: 21, done.\u001b[K\n",
            "remote: Counting objects: 100% (21/21), done.\u001b[K\n",
            "remote: Compressing objects: 100% (17/17), done.\u001b[K\n",
            "remote: Total 21 (delta 11), reused 6 (delta 1), pack-reused 0\u001b[K\n",
            "Receiving objects: 100% (21/21), 613.10 KiB | 7.57 MiB/s, done.\n",
            "Resolving deltas: 100% (11/11), done.\n"
          ],
          "name": "stdout"
        }
      ]
    },
    {
      "cell_type": "markdown",
      "metadata": {
        "id": "hb6rrvXMI4i_"
      },
      "source": [
        "# Important Shell and Git Commands"
      ]
    },
    {
      "cell_type": "markdown",
      "metadata": {
        "id": "ZDb8FOn5JC2h"
      },
      "source": [
        "**NOTICE:** Always ensure that you are in the right directory when performing git commands (e.g. /content/drive/MyDrive/Git/dopp_2020w_group03_ex3). In case of any issues that might occur when switching directories it is highly recommended to restart the runtime engine (CTRL + M)."
      ]
    },
    {
      "cell_type": "code",
      "metadata": {
        "colab": {
          "base_uri": "https://localhost:8080/"
        },
        "id": "GibAYNQjLDed",
        "outputId": "a5fbf16f-ce95-4709-dca6-c8a92e973f93"
      },
      "source": [
        "# check current working directory\r\n",
        "! pwd"
      ],
      "execution_count": 4,
      "outputs": [
        {
          "output_type": "stream",
          "text": [
            "/content\n"
          ],
          "name": "stdout"
        }
      ]
    },
    {
      "cell_type": "code",
      "metadata": {
        "colab": {
          "base_uri": "https://localhost:8080/"
        },
        "id": "I6F2toRiJ1yE",
        "outputId": "9ed97ce4-b81c-4712-8d15-4134901988b3"
      },
      "source": [
        "# switch to specified working directory\r\n",
        "%cd /content/drive/MyDrive/Git/dopp_2020w_group03_ex3"
      ],
      "execution_count": 7,
      "outputs": [
        {
          "output_type": "stream",
          "text": [
            "/content/drive/MyDrive/Git/dopp_2020w_group03_ex3\n"
          ],
          "name": "stdout"
        }
      ]
    },
    {
      "cell_type": "code",
      "metadata": {
        "colab": {
          "base_uri": "https://localhost:8080/"
        },
        "id": "AhKxY_7fJuRC",
        "outputId": "7cf1ddec-0efe-477a-9d6a-da4f4547f10c"
      },
      "source": [
        "# list content of current working directory\r\n",
        "! ls"
      ],
      "execution_count": 5,
      "outputs": [
        {
          "output_type": "stream",
          "text": [
            "drive\n"
          ],
          "name": "stdout"
        }
      ]
    },
    {
      "cell_type": "code",
      "metadata": {
        "colab": {
          "base_uri": "https://localhost:8080/"
        },
        "id": "PuJokwbqLMdf",
        "outputId": "48e9388c-4cf2-41a0-bbd5-2b85518da3ad"
      },
      "source": [
        "# check git status\r\n",
        "! git status"
      ],
      "execution_count": 12,
      "outputs": [
        {
          "output_type": "stream",
          "text": [
            "On branch main\n",
            "Your branch is up to date with 'origin/main'.\n",
            "\n",
            "nothing to commit, working tree clean\n"
          ],
          "name": "stdout"
        }
      ]
    },
    {
      "cell_type": "code",
      "metadata": {
        "colab": {
          "base_uri": "https://localhost:8080/"
        },
        "id": "ViV1YHxQLQZH",
        "outputId": "b024f220-fe8d-4483-8976-d04c4c094402"
      },
      "source": [
        "# always perform a git pull before you start working or commit/push some changes\r\n",
        "! git pull"
      ],
      "execution_count": 27,
      "outputs": [
        {
          "output_type": "stream",
          "text": [
            "Already up to date.\n"
          ],
          "name": "stdout"
        }
      ]
    },
    {
      "cell_type": "code",
      "metadata": {
        "colab": {
          "base_uri": "https://localhost:8080/"
        },
        "id": "AXfdcdIXOTk7",
        "outputId": "465e1afa-838f-4a82-e545-1736756d4ec5"
      },
      "source": [
        "# add a new data file to git repo directly from colab\r\n",
        "# ! git add /content/drive/MyDrive/Git/dopp_2020w_group03_ex3/data/test.txt\r\n",
        "# ! git commit -m 'New file added.'\r\n",
        "# ! git push"
      ],
      "execution_count": 11,
      "outputs": [
        {
          "output_type": "stream",
          "text": [
            "[main 4c39877] New file added.\n",
            " 1 file changed, 0 insertions(+), 0 deletions(-)\n",
            " create mode 100644 data/test.txt\n",
            "Counting objects: 4, done.\n",
            "Delta compression using up to 2 threads.\n",
            "Compressing objects: 100% (3/3), done.\n",
            "Writing objects: 100% (4/4), 437 bytes | 109.00 KiB/s, done.\n",
            "Total 4 (delta 0), reused 0 (delta 0)\n",
            "To github.com:christoph-fraller/dopp_2020w_group03_ex3.git\n",
            "   cd8ab41..4c39877  main -> main\n"
          ],
          "name": "stdout"
        }
      ]
    },
    {
      "cell_type": "markdown",
      "metadata": {
        "id": "AAa8Euy1xZYT"
      },
      "source": [
        "# Data Preprocessing"
      ]
    },
    {
      "cell_type": "code",
      "metadata": {
        "id": "nQu7-a5fxdFp"
      },
      "source": [
        "import pandas as pd"
      ],
      "execution_count": 15,
      "outputs": []
    },
    {
      "cell_type": "code",
      "metadata": {
        "id": "ygpvkk5TLY3i"
      },
      "source": [
        ""
      ],
      "execution_count": null,
      "outputs": []
    },
    {
      "cell_type": "markdown",
      "metadata": {
        "id": "t9p9vTpUxlrp"
      },
      "source": [
        "###Load the data\n",
        "\n",
        "source: World Bank"
      ]
    },
    {
      "cell_type": "code",
      "metadata": {
        "id": "Afa2X0R4xqHk"
      },
      "source": [
        "def load_csv_data():\n",
        "    \n",
        "    data_file = pd.read_csv('/content/drive/MyDrive/Git/dopp_2020w_group03_ex3/data/data_indicators_1.csv', sep = ',')\n",
        "\n",
        "    return data_file\n",
        "\n",
        "data = load_csv_data()"
      ],
      "execution_count": 17,
      "outputs": []
    },
    {
      "cell_type": "code",
      "metadata": {
        "id": "dXvGLjvU4NRN",
        "colab": {
          "base_uri": "https://localhost:8080/",
          "height": 670
        },
        "outputId": "c3608c71-b890-46ff-b192-7911e7efdcd2"
      },
      "source": [
        "data"
      ],
      "execution_count": 18,
      "outputs": [
        {
          "output_type": "execute_result",
          "data": {
            "text/html": [
              "<div>\n",
              "<style scoped>\n",
              "    .dataframe tbody tr th:only-of-type {\n",
              "        vertical-align: middle;\n",
              "    }\n",
              "\n",
              "    .dataframe tbody tr th {\n",
              "        vertical-align: top;\n",
              "    }\n",
              "\n",
              "    .dataframe thead th {\n",
              "        text-align: right;\n",
              "    }\n",
              "</style>\n",
              "<table border=\"1\" class=\"dataframe\">\n",
              "  <thead>\n",
              "    <tr style=\"text-align: right;\">\n",
              "      <th></th>\n",
              "      <th>Time</th>\n",
              "      <th>Time Code</th>\n",
              "      <th>Country Name</th>\n",
              "      <th>Country Code</th>\n",
              "      <th>GNI per capita, Atlas method (current US$) [NY.GNP.PCAP.CD]</th>\n",
              "      <th>Population, total [SP.POP.TOTL]</th>\n",
              "      <th>Educational attainment, at least completed primary, population 25+ years, total (%) (cumulative) [SE.PRM.CUAT.ZS]</th>\n",
              "      <th>Fertility rate, total (births per woman) [SP.DYN.TFRT.IN]</th>\n",
              "      <th>Unemployment, total (% of total labor force) (modeled ILO estimate) [SL.UEM.TOTL.ZS]</th>\n",
              "      <th>Agriculture, forestry, and fishing, value added (% of GDP) [NV.AGR.TOTL.ZS]</th>\n",
              "      <th>Total natural resources rents (% of GDP) [NY.GDP.TOTL.RT.ZS]</th>\n",
              "      <th>Urban population (% of total population) [SP.URB.TOTL.IN.ZS]</th>\n",
              "      <th>Access to electricity (% of population) [EG.ELC.ACCS.ZS]</th>\n",
              "      <th>Gini index (World Bank estimate) [SI.POV.GINI]</th>\n",
              "      <th>Consumer price index (2010 = 100) [FP.CPI.TOTL]</th>\n",
              "      <th>External balance on goods and services (% of GDP) [NE.RSB.GNFS.ZS]</th>\n",
              "      <th>Central government debt, total (% of GDP) [GC.DOD.TOTL.GD.ZS]</th>\n",
              "    </tr>\n",
              "  </thead>\n",
              "  <tbody>\n",
              "    <tr>\n",
              "      <th>0</th>\n",
              "      <td>1960</td>\n",
              "      <td>YR1960</td>\n",
              "      <td>Argentina</td>\n",
              "      <td>ARG</td>\n",
              "      <td>..</td>\n",
              "      <td>20481779</td>\n",
              "      <td>..</td>\n",
              "      <td>3.109</td>\n",
              "      <td>..</td>\n",
              "      <td>..</td>\n",
              "      <td>..</td>\n",
              "      <td>73.611</td>\n",
              "      <td>..</td>\n",
              "      <td>..</td>\n",
              "      <td>..</td>\n",
              "      <td>2.12913319746322E-06</td>\n",
              "      <td>..</td>\n",
              "    </tr>\n",
              "    <tr>\n",
              "      <th>1</th>\n",
              "      <td>1960</td>\n",
              "      <td>YR1960</td>\n",
              "      <td>Australia</td>\n",
              "      <td>AUS</td>\n",
              "      <td>..</td>\n",
              "      <td>10276477</td>\n",
              "      <td>..</td>\n",
              "      <td>3.453</td>\n",
              "      <td>..</td>\n",
              "      <td>..</td>\n",
              "      <td>..</td>\n",
              "      <td>81.529</td>\n",
              "      <td>..</td>\n",
              "      <td>..</td>\n",
              "      <td>7.96045785639958</td>\n",
              "      <td>-1.067036411864</td>\n",
              "      <td>..</td>\n",
              "    </tr>\n",
              "    <tr>\n",
              "      <th>2</th>\n",
              "      <td>1960</td>\n",
              "      <td>YR1960</td>\n",
              "      <td>Brazil</td>\n",
              "      <td>BRA</td>\n",
              "      <td>..</td>\n",
              "      <td>72179226</td>\n",
              "      <td>..</td>\n",
              "      <td>6.061</td>\n",
              "      <td>..</td>\n",
              "      <td>17.6669984863859</td>\n",
              "      <td>..</td>\n",
              "      <td>46.139</td>\n",
              "      <td>..</td>\n",
              "      <td>..</td>\n",
              "      <td>..</td>\n",
              "      <td>-0.0582390668087098</td>\n",
              "      <td>..</td>\n",
              "    </tr>\n",
              "    <tr>\n",
              "      <th>3</th>\n",
              "      <td>1960</td>\n",
              "      <td>YR1960</td>\n",
              "      <td>China</td>\n",
              "      <td>CHN</td>\n",
              "      <td>..</td>\n",
              "      <td>667070000</td>\n",
              "      <td>..</td>\n",
              "      <td>5.756</td>\n",
              "      <td>..</td>\n",
              "      <td>23.1752941976736</td>\n",
              "      <td>..</td>\n",
              "      <td>16.203</td>\n",
              "      <td>..</td>\n",
              "      <td>..</td>\n",
              "      <td>..</td>\n",
              "      <td>-0.122440650295898</td>\n",
              "      <td>..</td>\n",
              "    </tr>\n",
              "    <tr>\n",
              "      <th>4</th>\n",
              "      <td>1960</td>\n",
              "      <td>YR1960</td>\n",
              "      <td>France</td>\n",
              "      <td>FRA</td>\n",
              "      <td>..</td>\n",
              "      <td>46621669</td>\n",
              "      <td>..</td>\n",
              "      <td>2.85</td>\n",
              "      <td>..</td>\n",
              "      <td>10.5372165520776</td>\n",
              "      <td>..</td>\n",
              "      <td>61.88</td>\n",
              "      <td>..</td>\n",
              "      <td>..</td>\n",
              "      <td>10.4335934118144</td>\n",
              "      <td>2.43412905154375</td>\n",
              "      <td>..</td>\n",
              "    </tr>\n",
              "    <tr>\n",
              "      <th>...</th>\n",
              "      <td>...</td>\n",
              "      <td>...</td>\n",
              "      <td>...</td>\n",
              "      <td>...</td>\n",
              "      <td>...</td>\n",
              "      <td>...</td>\n",
              "      <td>...</td>\n",
              "      <td>...</td>\n",
              "      <td>...</td>\n",
              "      <td>...</td>\n",
              "      <td>...</td>\n",
              "      <td>...</td>\n",
              "      <td>...</td>\n",
              "      <td>...</td>\n",
              "      <td>...</td>\n",
              "      <td>...</td>\n",
              "      <td>...</td>\n",
              "    </tr>\n",
              "    <tr>\n",
              "      <th>13237</th>\n",
              "      <td>NaN</td>\n",
              "      <td>NaN</td>\n",
              "      <td>NaN</td>\n",
              "      <td>NaN</td>\n",
              "      <td>NaN</td>\n",
              "      <td>NaN</td>\n",
              "      <td>NaN</td>\n",
              "      <td>NaN</td>\n",
              "      <td>NaN</td>\n",
              "      <td>NaN</td>\n",
              "      <td>NaN</td>\n",
              "      <td>NaN</td>\n",
              "      <td>NaN</td>\n",
              "      <td>NaN</td>\n",
              "      <td>NaN</td>\n",
              "      <td>NaN</td>\n",
              "      <td>NaN</td>\n",
              "    </tr>\n",
              "    <tr>\n",
              "      <th>13238</th>\n",
              "      <td>NaN</td>\n",
              "      <td>NaN</td>\n",
              "      <td>NaN</td>\n",
              "      <td>NaN</td>\n",
              "      <td>NaN</td>\n",
              "      <td>NaN</td>\n",
              "      <td>NaN</td>\n",
              "      <td>NaN</td>\n",
              "      <td>NaN</td>\n",
              "      <td>NaN</td>\n",
              "      <td>NaN</td>\n",
              "      <td>NaN</td>\n",
              "      <td>NaN</td>\n",
              "      <td>NaN</td>\n",
              "      <td>NaN</td>\n",
              "      <td>NaN</td>\n",
              "      <td>NaN</td>\n",
              "    </tr>\n",
              "    <tr>\n",
              "      <th>13239</th>\n",
              "      <td>NaN</td>\n",
              "      <td>NaN</td>\n",
              "      <td>NaN</td>\n",
              "      <td>NaN</td>\n",
              "      <td>NaN</td>\n",
              "      <td>NaN</td>\n",
              "      <td>NaN</td>\n",
              "      <td>NaN</td>\n",
              "      <td>NaN</td>\n",
              "      <td>NaN</td>\n",
              "      <td>NaN</td>\n",
              "      <td>NaN</td>\n",
              "      <td>NaN</td>\n",
              "      <td>NaN</td>\n",
              "      <td>NaN</td>\n",
              "      <td>NaN</td>\n",
              "      <td>NaN</td>\n",
              "    </tr>\n",
              "    <tr>\n",
              "      <th>13240</th>\n",
              "      <td>Data from database: World Development Indicators</td>\n",
              "      <td>NaN</td>\n",
              "      <td>NaN</td>\n",
              "      <td>NaN</td>\n",
              "      <td>NaN</td>\n",
              "      <td>NaN</td>\n",
              "      <td>NaN</td>\n",
              "      <td>NaN</td>\n",
              "      <td>NaN</td>\n",
              "      <td>NaN</td>\n",
              "      <td>NaN</td>\n",
              "      <td>NaN</td>\n",
              "      <td>NaN</td>\n",
              "      <td>NaN</td>\n",
              "      <td>NaN</td>\n",
              "      <td>NaN</td>\n",
              "      <td>NaN</td>\n",
              "    </tr>\n",
              "    <tr>\n",
              "      <th>13241</th>\n",
              "      <td>Last Updated: 12/16/2020</td>\n",
              "      <td>NaN</td>\n",
              "      <td>NaN</td>\n",
              "      <td>NaN</td>\n",
              "      <td>NaN</td>\n",
              "      <td>NaN</td>\n",
              "      <td>NaN</td>\n",
              "      <td>NaN</td>\n",
              "      <td>NaN</td>\n",
              "      <td>NaN</td>\n",
              "      <td>NaN</td>\n",
              "      <td>NaN</td>\n",
              "      <td>NaN</td>\n",
              "      <td>NaN</td>\n",
              "      <td>NaN</td>\n",
              "      <td>NaN</td>\n",
              "      <td>NaN</td>\n",
              "    </tr>\n",
              "  </tbody>\n",
              "</table>\n",
              "<p>13242 rows × 17 columns</p>\n",
              "</div>"
            ],
            "text/plain": [
              "                                                   Time  ... Central government debt, total (% of GDP) [GC.DOD.TOTL.GD.ZS]\n",
              "0                                                  1960  ...                                                 ..           \n",
              "1                                                  1960  ...                                                 ..           \n",
              "2                                                  1960  ...                                                 ..           \n",
              "3                                                  1960  ...                                                 ..           \n",
              "4                                                  1960  ...                                                 ..           \n",
              "...                                                 ...  ...                                                ...           \n",
              "13237                                               NaN  ...                                                NaN           \n",
              "13238                                               NaN  ...                                                NaN           \n",
              "13239                                               NaN  ...                                                NaN           \n",
              "13240  Data from database: World Development Indicators  ...                                                NaN           \n",
              "13241                          Last Updated: 12/16/2020  ...                                                NaN           \n",
              "\n",
              "[13242 rows x 17 columns]"
            ]
          },
          "metadata": {
            "tags": []
          },
          "execution_count": 18
        }
      ]
    },
    {
      "cell_type": "code",
      "metadata": {
        "id": "Cu19I6WZ4RWh",
        "colab": {
          "base_uri": "https://localhost:8080/",
          "height": 852
        },
        "outputId": "2a1b3c66-b605-4659-de1d-c998c6f8c2ce"
      },
      "source": [
        "data.tail(15)"
      ],
      "execution_count": 19,
      "outputs": [
        {
          "output_type": "execute_result",
          "data": {
            "text/html": [
              "<div>\n",
              "<style scoped>\n",
              "    .dataframe tbody tr th:only-of-type {\n",
              "        vertical-align: middle;\n",
              "    }\n",
              "\n",
              "    .dataframe tbody tr th {\n",
              "        vertical-align: top;\n",
              "    }\n",
              "\n",
              "    .dataframe thead th {\n",
              "        text-align: right;\n",
              "    }\n",
              "</style>\n",
              "<table border=\"1\" class=\"dataframe\">\n",
              "  <thead>\n",
              "    <tr style=\"text-align: right;\">\n",
              "      <th></th>\n",
              "      <th>Time</th>\n",
              "      <th>Time Code</th>\n",
              "      <th>Country Name</th>\n",
              "      <th>Country Code</th>\n",
              "      <th>GNI per capita, Atlas method (current US$) [NY.GNP.PCAP.CD]</th>\n",
              "      <th>Population, total [SP.POP.TOTL]</th>\n",
              "      <th>Educational attainment, at least completed primary, population 25+ years, total (%) (cumulative) [SE.PRM.CUAT.ZS]</th>\n",
              "      <th>Fertility rate, total (births per woman) [SP.DYN.TFRT.IN]</th>\n",
              "      <th>Unemployment, total (% of total labor force) (modeled ILO estimate) [SL.UEM.TOTL.ZS]</th>\n",
              "      <th>Agriculture, forestry, and fishing, value added (% of GDP) [NV.AGR.TOTL.ZS]</th>\n",
              "      <th>Total natural resources rents (% of GDP) [NY.GDP.TOTL.RT.ZS]</th>\n",
              "      <th>Urban population (% of total population) [SP.URB.TOTL.IN.ZS]</th>\n",
              "      <th>Access to electricity (% of population) [EG.ELC.ACCS.ZS]</th>\n",
              "      <th>Gini index (World Bank estimate) [SI.POV.GINI]</th>\n",
              "      <th>Consumer price index (2010 = 100) [FP.CPI.TOTL]</th>\n",
              "      <th>External balance on goods and services (% of GDP) [NE.RSB.GNFS.ZS]</th>\n",
              "      <th>Central government debt, total (% of GDP) [GC.DOD.TOTL.GD.ZS]</th>\n",
              "    </tr>\n",
              "  </thead>\n",
              "  <tbody>\n",
              "    <tr>\n",
              "      <th>13227</th>\n",
              "      <td>2020</td>\n",
              "      <td>YR2020</td>\n",
              "      <td>Portugal</td>\n",
              "      <td>PRT</td>\n",
              "      <td>..</td>\n",
              "      <td>..</td>\n",
              "      <td>..</td>\n",
              "      <td>..</td>\n",
              "      <td>5.93300008773804</td>\n",
              "      <td>..</td>\n",
              "      <td>..</td>\n",
              "      <td>..</td>\n",
              "      <td>..</td>\n",
              "      <td>..</td>\n",
              "      <td>..</td>\n",
              "      <td>..</td>\n",
              "      <td>..</td>\n",
              "    </tr>\n",
              "    <tr>\n",
              "      <th>13228</th>\n",
              "      <td>2020</td>\n",
              "      <td>YR2020</td>\n",
              "      <td>Puerto Rico</td>\n",
              "      <td>PRI</td>\n",
              "      <td>..</td>\n",
              "      <td>..</td>\n",
              "      <td>..</td>\n",
              "      <td>..</td>\n",
              "      <td>8.41399955749512</td>\n",
              "      <td>..</td>\n",
              "      <td>..</td>\n",
              "      <td>..</td>\n",
              "      <td>..</td>\n",
              "      <td>..</td>\n",
              "      <td>..</td>\n",
              "      <td>..</td>\n",
              "      <td>..</td>\n",
              "    </tr>\n",
              "    <tr>\n",
              "      <th>13229</th>\n",
              "      <td>2020</td>\n",
              "      <td>YR2020</td>\n",
              "      <td>Qatar</td>\n",
              "      <td>QAT</td>\n",
              "      <td>..</td>\n",
              "      <td>..</td>\n",
              "      <td>..</td>\n",
              "      <td>..</td>\n",
              "      <td>0.0820000022649765</td>\n",
              "      <td>..</td>\n",
              "      <td>..</td>\n",
              "      <td>..</td>\n",
              "      <td>..</td>\n",
              "      <td>..</td>\n",
              "      <td>..</td>\n",
              "      <td>..</td>\n",
              "      <td>..</td>\n",
              "    </tr>\n",
              "    <tr>\n",
              "      <th>13230</th>\n",
              "      <td>2020</td>\n",
              "      <td>YR2020</td>\n",
              "      <td>Romania</td>\n",
              "      <td>ROU</td>\n",
              "      <td>..</td>\n",
              "      <td>..</td>\n",
              "      <td>..</td>\n",
              "      <td>..</td>\n",
              "      <td>3.92199993133545</td>\n",
              "      <td>..</td>\n",
              "      <td>..</td>\n",
              "      <td>..</td>\n",
              "      <td>..</td>\n",
              "      <td>..</td>\n",
              "      <td>..</td>\n",
              "      <td>..</td>\n",
              "      <td>..</td>\n",
              "    </tr>\n",
              "    <tr>\n",
              "      <th>13231</th>\n",
              "      <td>2020</td>\n",
              "      <td>YR2020</td>\n",
              "      <td>Rwanda</td>\n",
              "      <td>RWA</td>\n",
              "      <td>..</td>\n",
              "      <td>..</td>\n",
              "      <td>..</td>\n",
              "      <td>..</td>\n",
              "      <td>1.04100000858307</td>\n",
              "      <td>..</td>\n",
              "      <td>..</td>\n",
              "      <td>..</td>\n",
              "      <td>..</td>\n",
              "      <td>..</td>\n",
              "      <td>..</td>\n",
              "      <td>..</td>\n",
              "      <td>..</td>\n",
              "    </tr>\n",
              "    <tr>\n",
              "      <th>13232</th>\n",
              "      <td>2020</td>\n",
              "      <td>YR2020</td>\n",
              "      <td>Samoa</td>\n",
              "      <td>WSM</td>\n",
              "      <td>..</td>\n",
              "      <td>..</td>\n",
              "      <td>..</td>\n",
              "      <td>..</td>\n",
              "      <td>8.35499954223633</td>\n",
              "      <td>..</td>\n",
              "      <td>..</td>\n",
              "      <td>..</td>\n",
              "      <td>..</td>\n",
              "      <td>..</td>\n",
              "      <td>..</td>\n",
              "      <td>..</td>\n",
              "      <td>..</td>\n",
              "    </tr>\n",
              "    <tr>\n",
              "      <th>13233</th>\n",
              "      <td>2020</td>\n",
              "      <td>YR2020</td>\n",
              "      <td>San Marino</td>\n",
              "      <td>SMR</td>\n",
              "      <td>..</td>\n",
              "      <td>..</td>\n",
              "      <td>..</td>\n",
              "      <td>..</td>\n",
              "      <td>..</td>\n",
              "      <td>..</td>\n",
              "      <td>..</td>\n",
              "      <td>..</td>\n",
              "      <td>..</td>\n",
              "      <td>..</td>\n",
              "      <td>..</td>\n",
              "      <td>..</td>\n",
              "      <td>..</td>\n",
              "    </tr>\n",
              "    <tr>\n",
              "      <th>13234</th>\n",
              "      <td>2020</td>\n",
              "      <td>YR2020</td>\n",
              "      <td>Sao Tome and Principe</td>\n",
              "      <td>STP</td>\n",
              "      <td>..</td>\n",
              "      <td>..</td>\n",
              "      <td>..</td>\n",
              "      <td>..</td>\n",
              "      <td>13.6709995269775</td>\n",
              "      <td>..</td>\n",
              "      <td>..</td>\n",
              "      <td>..</td>\n",
              "      <td>..</td>\n",
              "      <td>..</td>\n",
              "      <td>..</td>\n",
              "      <td>..</td>\n",
              "      <td>..</td>\n",
              "    </tr>\n",
              "    <tr>\n",
              "      <th>13235</th>\n",
              "      <td>2020</td>\n",
              "      <td>YR2020</td>\n",
              "      <td>Senegal</td>\n",
              "      <td>SEN</td>\n",
              "      <td>..</td>\n",
              "      <td>..</td>\n",
              "      <td>..</td>\n",
              "      <td>..</td>\n",
              "      <td>6.67600011825562</td>\n",
              "      <td>..</td>\n",
              "      <td>..</td>\n",
              "      <td>..</td>\n",
              "      <td>..</td>\n",
              "      <td>..</td>\n",
              "      <td>..</td>\n",
              "      <td>..</td>\n",
              "      <td>..</td>\n",
              "    </tr>\n",
              "    <tr>\n",
              "      <th>13236</th>\n",
              "      <td>2020</td>\n",
              "      <td>YR2020</td>\n",
              "      <td>Serbia</td>\n",
              "      <td>SRB</td>\n",
              "      <td>..</td>\n",
              "      <td>..</td>\n",
              "      <td>..</td>\n",
              "      <td>..</td>\n",
              "      <td>12.7220001220703</td>\n",
              "      <td>..</td>\n",
              "      <td>..</td>\n",
              "      <td>..</td>\n",
              "      <td>..</td>\n",
              "      <td>..</td>\n",
              "      <td>..</td>\n",
              "      <td>..</td>\n",
              "      <td>..</td>\n",
              "    </tr>\n",
              "    <tr>\n",
              "      <th>13237</th>\n",
              "      <td>NaN</td>\n",
              "      <td>NaN</td>\n",
              "      <td>NaN</td>\n",
              "      <td>NaN</td>\n",
              "      <td>NaN</td>\n",
              "      <td>NaN</td>\n",
              "      <td>NaN</td>\n",
              "      <td>NaN</td>\n",
              "      <td>NaN</td>\n",
              "      <td>NaN</td>\n",
              "      <td>NaN</td>\n",
              "      <td>NaN</td>\n",
              "      <td>NaN</td>\n",
              "      <td>NaN</td>\n",
              "      <td>NaN</td>\n",
              "      <td>NaN</td>\n",
              "      <td>NaN</td>\n",
              "    </tr>\n",
              "    <tr>\n",
              "      <th>13238</th>\n",
              "      <td>NaN</td>\n",
              "      <td>NaN</td>\n",
              "      <td>NaN</td>\n",
              "      <td>NaN</td>\n",
              "      <td>NaN</td>\n",
              "      <td>NaN</td>\n",
              "      <td>NaN</td>\n",
              "      <td>NaN</td>\n",
              "      <td>NaN</td>\n",
              "      <td>NaN</td>\n",
              "      <td>NaN</td>\n",
              "      <td>NaN</td>\n",
              "      <td>NaN</td>\n",
              "      <td>NaN</td>\n",
              "      <td>NaN</td>\n",
              "      <td>NaN</td>\n",
              "      <td>NaN</td>\n",
              "    </tr>\n",
              "    <tr>\n",
              "      <th>13239</th>\n",
              "      <td>NaN</td>\n",
              "      <td>NaN</td>\n",
              "      <td>NaN</td>\n",
              "      <td>NaN</td>\n",
              "      <td>NaN</td>\n",
              "      <td>NaN</td>\n",
              "      <td>NaN</td>\n",
              "      <td>NaN</td>\n",
              "      <td>NaN</td>\n",
              "      <td>NaN</td>\n",
              "      <td>NaN</td>\n",
              "      <td>NaN</td>\n",
              "      <td>NaN</td>\n",
              "      <td>NaN</td>\n",
              "      <td>NaN</td>\n",
              "      <td>NaN</td>\n",
              "      <td>NaN</td>\n",
              "    </tr>\n",
              "    <tr>\n",
              "      <th>13240</th>\n",
              "      <td>Data from database: World Development Indicators</td>\n",
              "      <td>NaN</td>\n",
              "      <td>NaN</td>\n",
              "      <td>NaN</td>\n",
              "      <td>NaN</td>\n",
              "      <td>NaN</td>\n",
              "      <td>NaN</td>\n",
              "      <td>NaN</td>\n",
              "      <td>NaN</td>\n",
              "      <td>NaN</td>\n",
              "      <td>NaN</td>\n",
              "      <td>NaN</td>\n",
              "      <td>NaN</td>\n",
              "      <td>NaN</td>\n",
              "      <td>NaN</td>\n",
              "      <td>NaN</td>\n",
              "      <td>NaN</td>\n",
              "    </tr>\n",
              "    <tr>\n",
              "      <th>13241</th>\n",
              "      <td>Last Updated: 12/16/2020</td>\n",
              "      <td>NaN</td>\n",
              "      <td>NaN</td>\n",
              "      <td>NaN</td>\n",
              "      <td>NaN</td>\n",
              "      <td>NaN</td>\n",
              "      <td>NaN</td>\n",
              "      <td>NaN</td>\n",
              "      <td>NaN</td>\n",
              "      <td>NaN</td>\n",
              "      <td>NaN</td>\n",
              "      <td>NaN</td>\n",
              "      <td>NaN</td>\n",
              "      <td>NaN</td>\n",
              "      <td>NaN</td>\n",
              "      <td>NaN</td>\n",
              "      <td>NaN</td>\n",
              "    </tr>\n",
              "  </tbody>\n",
              "</table>\n",
              "</div>"
            ],
            "text/plain": [
              "                                                   Time  ... Central government debt, total (% of GDP) [GC.DOD.TOTL.GD.ZS]\n",
              "13227                                              2020  ...                                                 ..           \n",
              "13228                                              2020  ...                                                 ..           \n",
              "13229                                              2020  ...                                                 ..           \n",
              "13230                                              2020  ...                                                 ..           \n",
              "13231                                              2020  ...                                                 ..           \n",
              "13232                                              2020  ...                                                 ..           \n",
              "13233                                              2020  ...                                                 ..           \n",
              "13234                                              2020  ...                                                 ..           \n",
              "13235                                              2020  ...                                                 ..           \n",
              "13236                                              2020  ...                                                 ..           \n",
              "13237                                               NaN  ...                                                NaN           \n",
              "13238                                               NaN  ...                                                NaN           \n",
              "13239                                               NaN  ...                                                NaN           \n",
              "13240  Data from database: World Development Indicators  ...                                                NaN           \n",
              "13241                          Last Updated: 12/16/2020  ...                                                NaN           \n",
              "\n",
              "[15 rows x 17 columns]"
            ]
          },
          "metadata": {
            "tags": []
          },
          "execution_count": 19
        }
      ]
    },
    {
      "cell_type": "markdown",
      "metadata": {
        "id": "zMbHM-pl4WoV"
      },
      "source": [
        "### Drop unnecessary rows and columns"
      ]
    },
    {
      "cell_type": "code",
      "metadata": {
        "id": "Bt5yF1VR4bJN"
      },
      "source": [
        "#drop rows\n",
        "data.drop(data.tail(5).index,inplace=True)\n",
        "#drop columns\n",
        "data.drop(['Time Code','Country Code'], axis = 1, inplace=True)\n",
        "#rename column Time to Year\n",
        "data.rename(columns={'Time': 'Year'},inplace = True)\n"
      ],
      "execution_count": 20,
      "outputs": []
    },
    {
      "cell_type": "code",
      "metadata": {
        "id": "nGOjc8fI4g6y"
      },
      "source": [
        "#data.tail(15)"
      ],
      "execution_count": null,
      "outputs": []
    },
    {
      "cell_type": "markdown",
      "metadata": {
        "id": "RYiu54BX4k9a"
      },
      "source": [
        "### Set index"
      ]
    },
    {
      "cell_type": "code",
      "metadata": {
        "id": "qVdlOHtc4jJQ",
        "colab": {
          "base_uri": "https://localhost:8080/",
          "height": 666
        },
        "outputId": "3e886159-dd5f-475c-cb9f-4c3b009a6ea1"
      },
      "source": [
        "data = data.set_index(['Country Name', 'Year'])\n",
        "data"
      ],
      "execution_count": 21,
      "outputs": [
        {
          "output_type": "execute_result",
          "data": {
            "text/html": [
              "<div>\n",
              "<style scoped>\n",
              "    .dataframe tbody tr th:only-of-type {\n",
              "        vertical-align: middle;\n",
              "    }\n",
              "\n",
              "    .dataframe tbody tr th {\n",
              "        vertical-align: top;\n",
              "    }\n",
              "\n",
              "    .dataframe thead th {\n",
              "        text-align: right;\n",
              "    }\n",
              "</style>\n",
              "<table border=\"1\" class=\"dataframe\">\n",
              "  <thead>\n",
              "    <tr style=\"text-align: right;\">\n",
              "      <th></th>\n",
              "      <th></th>\n",
              "      <th>GNI per capita, Atlas method (current US$) [NY.GNP.PCAP.CD]</th>\n",
              "      <th>Population, total [SP.POP.TOTL]</th>\n",
              "      <th>Educational attainment, at least completed primary, population 25+ years, total (%) (cumulative) [SE.PRM.CUAT.ZS]</th>\n",
              "      <th>Fertility rate, total (births per woman) [SP.DYN.TFRT.IN]</th>\n",
              "      <th>Unemployment, total (% of total labor force) (modeled ILO estimate) [SL.UEM.TOTL.ZS]</th>\n",
              "      <th>Agriculture, forestry, and fishing, value added (% of GDP) [NV.AGR.TOTL.ZS]</th>\n",
              "      <th>Total natural resources rents (% of GDP) [NY.GDP.TOTL.RT.ZS]</th>\n",
              "      <th>Urban population (% of total population) [SP.URB.TOTL.IN.ZS]</th>\n",
              "      <th>Access to electricity (% of population) [EG.ELC.ACCS.ZS]</th>\n",
              "      <th>Gini index (World Bank estimate) [SI.POV.GINI]</th>\n",
              "      <th>Consumer price index (2010 = 100) [FP.CPI.TOTL]</th>\n",
              "      <th>External balance on goods and services (% of GDP) [NE.RSB.GNFS.ZS]</th>\n",
              "      <th>Central government debt, total (% of GDP) [GC.DOD.TOTL.GD.ZS]</th>\n",
              "    </tr>\n",
              "    <tr>\n",
              "      <th>Country Name</th>\n",
              "      <th>Year</th>\n",
              "      <th></th>\n",
              "      <th></th>\n",
              "      <th></th>\n",
              "      <th></th>\n",
              "      <th></th>\n",
              "      <th></th>\n",
              "      <th></th>\n",
              "      <th></th>\n",
              "      <th></th>\n",
              "      <th></th>\n",
              "      <th></th>\n",
              "      <th></th>\n",
              "      <th></th>\n",
              "    </tr>\n",
              "  </thead>\n",
              "  <tbody>\n",
              "    <tr>\n",
              "      <th>Argentina</th>\n",
              "      <th>1960</th>\n",
              "      <td>..</td>\n",
              "      <td>20481779</td>\n",
              "      <td>..</td>\n",
              "      <td>3.109</td>\n",
              "      <td>..</td>\n",
              "      <td>..</td>\n",
              "      <td>..</td>\n",
              "      <td>73.611</td>\n",
              "      <td>..</td>\n",
              "      <td>..</td>\n",
              "      <td>..</td>\n",
              "      <td>2.12913319746322E-06</td>\n",
              "      <td>..</td>\n",
              "    </tr>\n",
              "    <tr>\n",
              "      <th>Australia</th>\n",
              "      <th>1960</th>\n",
              "      <td>..</td>\n",
              "      <td>10276477</td>\n",
              "      <td>..</td>\n",
              "      <td>3.453</td>\n",
              "      <td>..</td>\n",
              "      <td>..</td>\n",
              "      <td>..</td>\n",
              "      <td>81.529</td>\n",
              "      <td>..</td>\n",
              "      <td>..</td>\n",
              "      <td>7.96045785639958</td>\n",
              "      <td>-1.067036411864</td>\n",
              "      <td>..</td>\n",
              "    </tr>\n",
              "    <tr>\n",
              "      <th>Brazil</th>\n",
              "      <th>1960</th>\n",
              "      <td>..</td>\n",
              "      <td>72179226</td>\n",
              "      <td>..</td>\n",
              "      <td>6.061</td>\n",
              "      <td>..</td>\n",
              "      <td>17.6669984863859</td>\n",
              "      <td>..</td>\n",
              "      <td>46.139</td>\n",
              "      <td>..</td>\n",
              "      <td>..</td>\n",
              "      <td>..</td>\n",
              "      <td>-0.0582390668087098</td>\n",
              "      <td>..</td>\n",
              "    </tr>\n",
              "    <tr>\n",
              "      <th>China</th>\n",
              "      <th>1960</th>\n",
              "      <td>..</td>\n",
              "      <td>667070000</td>\n",
              "      <td>..</td>\n",
              "      <td>5.756</td>\n",
              "      <td>..</td>\n",
              "      <td>23.1752941976736</td>\n",
              "      <td>..</td>\n",
              "      <td>16.203</td>\n",
              "      <td>..</td>\n",
              "      <td>..</td>\n",
              "      <td>..</td>\n",
              "      <td>-0.122440650295898</td>\n",
              "      <td>..</td>\n",
              "    </tr>\n",
              "    <tr>\n",
              "      <th>France</th>\n",
              "      <th>1960</th>\n",
              "      <td>..</td>\n",
              "      <td>46621669</td>\n",
              "      <td>..</td>\n",
              "      <td>2.85</td>\n",
              "      <td>..</td>\n",
              "      <td>10.5372165520776</td>\n",
              "      <td>..</td>\n",
              "      <td>61.88</td>\n",
              "      <td>..</td>\n",
              "      <td>..</td>\n",
              "      <td>10.4335934118144</td>\n",
              "      <td>2.43412905154375</td>\n",
              "      <td>..</td>\n",
              "    </tr>\n",
              "    <tr>\n",
              "      <th>...</th>\n",
              "      <th>...</th>\n",
              "      <td>...</td>\n",
              "      <td>...</td>\n",
              "      <td>...</td>\n",
              "      <td>...</td>\n",
              "      <td>...</td>\n",
              "      <td>...</td>\n",
              "      <td>...</td>\n",
              "      <td>...</td>\n",
              "      <td>...</td>\n",
              "      <td>...</td>\n",
              "      <td>...</td>\n",
              "      <td>...</td>\n",
              "      <td>...</td>\n",
              "    </tr>\n",
              "    <tr>\n",
              "      <th>Samoa</th>\n",
              "      <th>2020</th>\n",
              "      <td>..</td>\n",
              "      <td>..</td>\n",
              "      <td>..</td>\n",
              "      <td>..</td>\n",
              "      <td>8.35499954223633</td>\n",
              "      <td>..</td>\n",
              "      <td>..</td>\n",
              "      <td>..</td>\n",
              "      <td>..</td>\n",
              "      <td>..</td>\n",
              "      <td>..</td>\n",
              "      <td>..</td>\n",
              "      <td>..</td>\n",
              "    </tr>\n",
              "    <tr>\n",
              "      <th>San Marino</th>\n",
              "      <th>2020</th>\n",
              "      <td>..</td>\n",
              "      <td>..</td>\n",
              "      <td>..</td>\n",
              "      <td>..</td>\n",
              "      <td>..</td>\n",
              "      <td>..</td>\n",
              "      <td>..</td>\n",
              "      <td>..</td>\n",
              "      <td>..</td>\n",
              "      <td>..</td>\n",
              "      <td>..</td>\n",
              "      <td>..</td>\n",
              "      <td>..</td>\n",
              "    </tr>\n",
              "    <tr>\n",
              "      <th>Sao Tome and Principe</th>\n",
              "      <th>2020</th>\n",
              "      <td>..</td>\n",
              "      <td>..</td>\n",
              "      <td>..</td>\n",
              "      <td>..</td>\n",
              "      <td>13.6709995269775</td>\n",
              "      <td>..</td>\n",
              "      <td>..</td>\n",
              "      <td>..</td>\n",
              "      <td>..</td>\n",
              "      <td>..</td>\n",
              "      <td>..</td>\n",
              "      <td>..</td>\n",
              "      <td>..</td>\n",
              "    </tr>\n",
              "    <tr>\n",
              "      <th>Senegal</th>\n",
              "      <th>2020</th>\n",
              "      <td>..</td>\n",
              "      <td>..</td>\n",
              "      <td>..</td>\n",
              "      <td>..</td>\n",
              "      <td>6.67600011825562</td>\n",
              "      <td>..</td>\n",
              "      <td>..</td>\n",
              "      <td>..</td>\n",
              "      <td>..</td>\n",
              "      <td>..</td>\n",
              "      <td>..</td>\n",
              "      <td>..</td>\n",
              "      <td>..</td>\n",
              "    </tr>\n",
              "    <tr>\n",
              "      <th>Serbia</th>\n",
              "      <th>2020</th>\n",
              "      <td>..</td>\n",
              "      <td>..</td>\n",
              "      <td>..</td>\n",
              "      <td>..</td>\n",
              "      <td>12.7220001220703</td>\n",
              "      <td>..</td>\n",
              "      <td>..</td>\n",
              "      <td>..</td>\n",
              "      <td>..</td>\n",
              "      <td>..</td>\n",
              "      <td>..</td>\n",
              "      <td>..</td>\n",
              "      <td>..</td>\n",
              "    </tr>\n",
              "  </tbody>\n",
              "</table>\n",
              "<p>13237 rows × 13 columns</p>\n",
              "</div>"
            ],
            "text/plain": [
              "                           GNI per capita, Atlas method (current US$) [NY.GNP.PCAP.CD]  ... Central government debt, total (% of GDP) [GC.DOD.TOTL.GD.ZS]\n",
              "Country Name          Year                                                              ...                                                              \n",
              "Argentina             1960                                                 ..           ...                                                 ..           \n",
              "Australia             1960                                                 ..           ...                                                 ..           \n",
              "Brazil                1960                                                 ..           ...                                                 ..           \n",
              "China                 1960                                                 ..           ...                                                 ..           \n",
              "France                1960                                                 ..           ...                                                 ..           \n",
              "...                                                                       ...           ...                                                ...           \n",
              "Samoa                 2020                                                 ..           ...                                                 ..           \n",
              "San Marino            2020                                                 ..           ...                                                 ..           \n",
              "Sao Tome and Principe 2020                                                 ..           ...                                                 ..           \n",
              "Senegal               2020                                                 ..           ...                                                 ..           \n",
              "Serbia                2020                                                 ..           ...                                                 ..           \n",
              "\n",
              "[13237 rows x 13 columns]"
            ]
          },
          "metadata": {
            "tags": []
          },
          "execution_count": 21
        }
      ]
    },
    {
      "cell_type": "code",
      "metadata": {
        "id": "weSfPIJobLkP",
        "colab": {
          "base_uri": "https://localhost:8080/",
          "height": 666
        },
        "outputId": "e1a7ebc4-e6c7-44ab-955a-92f2ce6c3766"
      },
      "source": [
        "#drop Year 2020 since too little data available\n",
        "data.drop('2020',level='Year',inplace=True)\n",
        "data"
      ],
      "execution_count": 22,
      "outputs": [
        {
          "output_type": "execute_result",
          "data": {
            "text/html": [
              "<div>\n",
              "<style scoped>\n",
              "    .dataframe tbody tr th:only-of-type {\n",
              "        vertical-align: middle;\n",
              "    }\n",
              "\n",
              "    .dataframe tbody tr th {\n",
              "        vertical-align: top;\n",
              "    }\n",
              "\n",
              "    .dataframe thead th {\n",
              "        text-align: right;\n",
              "    }\n",
              "</style>\n",
              "<table border=\"1\" class=\"dataframe\">\n",
              "  <thead>\n",
              "    <tr style=\"text-align: right;\">\n",
              "      <th></th>\n",
              "      <th></th>\n",
              "      <th>GNI per capita, Atlas method (current US$) [NY.GNP.PCAP.CD]</th>\n",
              "      <th>Population, total [SP.POP.TOTL]</th>\n",
              "      <th>Educational attainment, at least completed primary, population 25+ years, total (%) (cumulative) [SE.PRM.CUAT.ZS]</th>\n",
              "      <th>Fertility rate, total (births per woman) [SP.DYN.TFRT.IN]</th>\n",
              "      <th>Unemployment, total (% of total labor force) (modeled ILO estimate) [SL.UEM.TOTL.ZS]</th>\n",
              "      <th>Agriculture, forestry, and fishing, value added (% of GDP) [NV.AGR.TOTL.ZS]</th>\n",
              "      <th>Total natural resources rents (% of GDP) [NY.GDP.TOTL.RT.ZS]</th>\n",
              "      <th>Urban population (% of total population) [SP.URB.TOTL.IN.ZS]</th>\n",
              "      <th>Access to electricity (% of population) [EG.ELC.ACCS.ZS]</th>\n",
              "      <th>Gini index (World Bank estimate) [SI.POV.GINI]</th>\n",
              "      <th>Consumer price index (2010 = 100) [FP.CPI.TOTL]</th>\n",
              "      <th>External balance on goods and services (% of GDP) [NE.RSB.GNFS.ZS]</th>\n",
              "      <th>Central government debt, total (% of GDP) [GC.DOD.TOTL.GD.ZS]</th>\n",
              "    </tr>\n",
              "    <tr>\n",
              "      <th>Country Name</th>\n",
              "      <th>Year</th>\n",
              "      <th></th>\n",
              "      <th></th>\n",
              "      <th></th>\n",
              "      <th></th>\n",
              "      <th></th>\n",
              "      <th></th>\n",
              "      <th></th>\n",
              "      <th></th>\n",
              "      <th></th>\n",
              "      <th></th>\n",
              "      <th></th>\n",
              "      <th></th>\n",
              "      <th></th>\n",
              "    </tr>\n",
              "  </thead>\n",
              "  <tbody>\n",
              "    <tr>\n",
              "      <th>Argentina</th>\n",
              "      <th>1960</th>\n",
              "      <td>..</td>\n",
              "      <td>20481779</td>\n",
              "      <td>..</td>\n",
              "      <td>3.109</td>\n",
              "      <td>..</td>\n",
              "      <td>..</td>\n",
              "      <td>..</td>\n",
              "      <td>73.611</td>\n",
              "      <td>..</td>\n",
              "      <td>..</td>\n",
              "      <td>..</td>\n",
              "      <td>2.12913319746322E-06</td>\n",
              "      <td>..</td>\n",
              "    </tr>\n",
              "    <tr>\n",
              "      <th>Australia</th>\n",
              "      <th>1960</th>\n",
              "      <td>..</td>\n",
              "      <td>10276477</td>\n",
              "      <td>..</td>\n",
              "      <td>3.453</td>\n",
              "      <td>..</td>\n",
              "      <td>..</td>\n",
              "      <td>..</td>\n",
              "      <td>81.529</td>\n",
              "      <td>..</td>\n",
              "      <td>..</td>\n",
              "      <td>7.96045785639958</td>\n",
              "      <td>-1.067036411864</td>\n",
              "      <td>..</td>\n",
              "    </tr>\n",
              "    <tr>\n",
              "      <th>Brazil</th>\n",
              "      <th>1960</th>\n",
              "      <td>..</td>\n",
              "      <td>72179226</td>\n",
              "      <td>..</td>\n",
              "      <td>6.061</td>\n",
              "      <td>..</td>\n",
              "      <td>17.6669984863859</td>\n",
              "      <td>..</td>\n",
              "      <td>46.139</td>\n",
              "      <td>..</td>\n",
              "      <td>..</td>\n",
              "      <td>..</td>\n",
              "      <td>-0.0582390668087098</td>\n",
              "      <td>..</td>\n",
              "    </tr>\n",
              "    <tr>\n",
              "      <th>China</th>\n",
              "      <th>1960</th>\n",
              "      <td>..</td>\n",
              "      <td>667070000</td>\n",
              "      <td>..</td>\n",
              "      <td>5.756</td>\n",
              "      <td>..</td>\n",
              "      <td>23.1752941976736</td>\n",
              "      <td>..</td>\n",
              "      <td>16.203</td>\n",
              "      <td>..</td>\n",
              "      <td>..</td>\n",
              "      <td>..</td>\n",
              "      <td>-0.122440650295898</td>\n",
              "      <td>..</td>\n",
              "    </tr>\n",
              "    <tr>\n",
              "      <th>France</th>\n",
              "      <th>1960</th>\n",
              "      <td>..</td>\n",
              "      <td>46621669</td>\n",
              "      <td>..</td>\n",
              "      <td>2.85</td>\n",
              "      <td>..</td>\n",
              "      <td>10.5372165520776</td>\n",
              "      <td>..</td>\n",
              "      <td>61.88</td>\n",
              "      <td>..</td>\n",
              "      <td>..</td>\n",
              "      <td>10.4335934118144</td>\n",
              "      <td>2.43412905154375</td>\n",
              "      <td>..</td>\n",
              "    </tr>\n",
              "    <tr>\n",
              "      <th>...</th>\n",
              "      <th>...</th>\n",
              "      <td>...</td>\n",
              "      <td>...</td>\n",
              "      <td>...</td>\n",
              "      <td>...</td>\n",
              "      <td>...</td>\n",
              "      <td>...</td>\n",
              "      <td>...</td>\n",
              "      <td>...</td>\n",
              "      <td>...</td>\n",
              "      <td>...</td>\n",
              "      <td>...</td>\n",
              "      <td>...</td>\n",
              "      <td>...</td>\n",
              "    </tr>\n",
              "    <tr>\n",
              "      <th>Samoa</th>\n",
              "      <th>2019</th>\n",
              "      <td>4190</td>\n",
              "      <td>197097</td>\n",
              "      <td>..</td>\n",
              "      <td>..</td>\n",
              "      <td>8.35900020599365</td>\n",
              "      <td>9.75444952942173</td>\n",
              "      <td>..</td>\n",
              "      <td>18.056</td>\n",
              "      <td>..</td>\n",
              "      <td>..</td>\n",
              "      <td>117.555522119693</td>\n",
              "      <td>-14.6108154792665</td>\n",
              "      <td>..</td>\n",
              "    </tr>\n",
              "    <tr>\n",
              "      <th>San Marino</th>\n",
              "      <th>2019</th>\n",
              "      <td>..</td>\n",
              "      <td>33860</td>\n",
              "      <td>..</td>\n",
              "      <td>..</td>\n",
              "      <td>..</td>\n",
              "      <td>..</td>\n",
              "      <td>..</td>\n",
              "      <td>97.368</td>\n",
              "      <td>..</td>\n",
              "      <td>..</td>\n",
              "      <td>..</td>\n",
              "      <td>..</td>\n",
              "      <td>..</td>\n",
              "    </tr>\n",
              "    <tr>\n",
              "      <th>Sao Tome and Principe</th>\n",
              "      <th>2019</th>\n",
              "      <td>1930</td>\n",
              "      <td>215056</td>\n",
              "      <td>..</td>\n",
              "      <td>..</td>\n",
              "      <td>13.3690004348755</td>\n",
              "      <td>12.4625607991542</td>\n",
              "      <td>..</td>\n",
              "      <td>73.598</td>\n",
              "      <td>..</td>\n",
              "      <td>..</td>\n",
              "      <td>..</td>\n",
              "      <td>..</td>\n",
              "      <td>..</td>\n",
              "    </tr>\n",
              "    <tr>\n",
              "      <th>Senegal</th>\n",
              "      <th>2019</th>\n",
              "      <td>1460</td>\n",
              "      <td>16296364</td>\n",
              "      <td>..</td>\n",
              "      <td>..</td>\n",
              "      <td>6.60400009155273</td>\n",
              "      <td>14.7915678290978</td>\n",
              "      <td>..</td>\n",
              "      <td>47.653</td>\n",
              "      <td>..</td>\n",
              "      <td>..</td>\n",
              "      <td>109.251270172291</td>\n",
              "      <td>-14.9211503360035</td>\n",
              "      <td>..</td>\n",
              "    </tr>\n",
              "    <tr>\n",
              "      <th>Serbia</th>\n",
              "      <th>2019</th>\n",
              "      <td>7030</td>\n",
              "      <td>6944975</td>\n",
              "      <td>..</td>\n",
              "      <td>..</td>\n",
              "      <td>12.6859998703003</td>\n",
              "      <td>5.95378883117524</td>\n",
              "      <td>..</td>\n",
              "      <td>56.26</td>\n",
              "      <td>..</td>\n",
              "      <td>..</td>\n",
              "      <td>143.997573551714</td>\n",
              "      <td>-9.98249283569197</td>\n",
              "      <td>..</td>\n",
              "    </tr>\n",
              "  </tbody>\n",
              "</table>\n",
              "<p>13020 rows × 13 columns</p>\n",
              "</div>"
            ],
            "text/plain": [
              "                           GNI per capita, Atlas method (current US$) [NY.GNP.PCAP.CD]  ... Central government debt, total (% of GDP) [GC.DOD.TOTL.GD.ZS]\n",
              "Country Name          Year                                                              ...                                                              \n",
              "Argentina             1960                                                 ..           ...                                                 ..           \n",
              "Australia             1960                                                 ..           ...                                                 ..           \n",
              "Brazil                1960                                                 ..           ...                                                 ..           \n",
              "China                 1960                                                 ..           ...                                                 ..           \n",
              "France                1960                                                 ..           ...                                                 ..           \n",
              "...                                                                       ...           ...                                                ...           \n",
              "Samoa                 2019                                               4190           ...                                                 ..           \n",
              "San Marino            2019                                                 ..           ...                                                 ..           \n",
              "Sao Tome and Principe 2019                                               1930           ...                                                 ..           \n",
              "Senegal               2019                                               1460           ...                                                 ..           \n",
              "Serbia                2019                                               7030           ...                                                 ..           \n",
              "\n",
              "[13020 rows x 13 columns]"
            ]
          },
          "metadata": {
            "tags": []
          },
          "execution_count": 22
        }
      ]
    },
    {
      "cell_type": "markdown",
      "metadata": {
        "id": "M3QqQGn95BCo"
      },
      "source": [
        "### Extract dataset"
      ]
    },
    {
      "cell_type": "code",
      "metadata": {
        "id": "l_PoGQZA5DPS",
        "colab": {
          "base_uri": "https://localhost:8080/"
        },
        "outputId": "9c689915-cff3-4b01-b165-3b636b3d1f39"
      },
      "source": [
        "dataset1 = data['GNI per capita, Atlas method (current US$) [NY.GNP.PCAP.CD]']\n",
        "dataset1"
      ],
      "execution_count": 23,
      "outputs": [
        {
          "output_type": "execute_result",
          "data": {
            "text/plain": [
              "Country Name           Year\n",
              "Argentina              1960      ..\n",
              "Australia              1960      ..\n",
              "Brazil                 1960      ..\n",
              "China                  1960      ..\n",
              "France                 1960      ..\n",
              "                               ... \n",
              "Samoa                  2019    4190\n",
              "San Marino             2019      ..\n",
              "Sao Tome and Principe  2019    1930\n",
              "Senegal                2019    1460\n",
              "Serbia                 2019    7030\n",
              "Name: GNI per capita, Atlas method (current US$) [NY.GNP.PCAP.CD], Length: 13020, dtype: object"
            ]
          },
          "metadata": {
            "tags": []
          },
          "execution_count": 23
        }
      ]
    },
    {
      "cell_type": "markdown",
      "metadata": {
        "id": "_bLAKKKQrfsG"
      },
      "source": [
        "# Frage 1"
      ]
    },
    {
      "cell_type": "code",
      "metadata": {
        "id": "ALYXSRiPrnGY"
      },
      "source": [
        "#load thresholds\r\n",
        "def load_csv_income_thresholds():\r\n",
        "    \r\n",
        "    data_file = pd.read_csv('/content/drive/MyDrive/Git/dopp_2020w_group03_ex3/data/data_indicators_1.csv', sep = ',')\r\n",
        "\r\n",
        "    return data_file\r\n",
        "\r\n",
        "income_thresholds = load_csv_income_thresholds()\r\n",
        "\r\n",
        "\r\n"
      ],
      "execution_count": 25,
      "outputs": []
    }
  ]
}